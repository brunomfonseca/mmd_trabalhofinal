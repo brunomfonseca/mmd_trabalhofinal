{
 "cells": [
  {
   "cell_type": "code",
   "execution_count": 1,
   "metadata": {
    "collapsed": true
   },
   "outputs": [],
   "source": [
    "import pandas as pd\n",
    "import numpy as np\n",
    "import os\n",
    "import Levenshtein\n",
    "from pprint import pprint\n",
    "import matplotlib as plt"
   ]
  },
  {
   "cell_type": "markdown",
   "metadata": {},
   "source": [
    "### Obtendo lista de municípios via dados do IBGE (Censo de 2010)  "
   ]
  },
  {
   "cell_type": "code",
   "execution_count": 2,
   "metadata": {
    "collapsed": true
   },
   "outputs": [],
   "source": [
    "LISTA_ESTADOS=(\n",
    "    ('AC', 'Acre'),\n",
    "    ('AL', 'Alagoas'),\n",
    "    ('AP', 'Amapá'),\n",
    "    ('AM', 'Amazonas'),\n",
    "    ('BA', 'Bahia'),\n",
    "    ('CE', 'Ceará'),\n",
    "    ('DF', 'Distrito Federal'),\n",
    "    ('ES', 'Espírito Santo'),\n",
    "    ('GO', 'Goiás'),\n",
    "    ('MA', 'Maranhão'),\n",
    "    ('MT', 'Mato Grosso'),\n",
    "    ('MS', 'Mato Grosso do Sul'),\n",
    "    ('MG', 'Minas Gerais'),\n",
    "    ('PA', 'Pará'),\n",
    "    ('PB', 'Paraíba'),\n",
    "    ('PR', 'Paraná'),\n",
    "    ('PE', 'Pernambuco'),\n",
    "    ('PI', 'Piauí'),\n",
    "    ('RJ', 'Rio de Janeiro'),\n",
    "    ('RN', 'Rio Grande do Norte'),\n",
    "    ('RS', 'Rio Grande do Sul'),\n",
    "    ('RO', 'Rondônia'),\n",
    "    ('RR', 'Roraima'),\n",
    "    ('SC', 'Santa Catarina'),\n",
    "    ('SP', 'São Paulo'),\n",
    "    ('SE', 'Sergipe'),\n",
    "    ('TO', 'Tocantins'),\n",
    "    )\n"
   ]
  },
  {
   "cell_type": "markdown",
   "metadata": {},
   "source": [
    "Lendo os 27 arquivos do Censo (um por UF) para DataFrames, e os concatenando."
   ]
  },
  {
   "cell_type": "code",
   "execution_count": 3,
   "metadata": {
    "collapsed": false
   },
   "outputs": [],
   "source": [
    "lista_DFs=[]\n",
    "for i, file in enumerate(os.listdir('./ibge/')):\n",
    "    tmp = pd.read_excel(os.path.join('ibge',file), convert_float=True)\n",
    "    tmp['UF'] = LISTA_ESTADOS[i][0]\n",
    "    lista_DFs.append(tmp)"
   ]
  },
  {
   "cell_type": "code",
   "execution_count": 4,
   "metadata": {
    "collapsed": false
   },
   "outputs": [],
   "source": [
    "df_municipios = pd.concat(lista_DFs)"
   ]
  },
  {
   "cell_type": "code",
   "execution_count": 5,
   "metadata": {
    "collapsed": false
   },
   "outputs": [
    {
     "data": {
      "text/plain": [
       "5619"
      ]
     },
     "execution_count": 5,
     "metadata": {},
     "output_type": "execute_result"
    }
   ],
   "source": [
    "len(df_municipios)"
   ]
  },
  {
   "cell_type": "code",
   "execution_count": 6,
   "metadata": {
    "collapsed": false
   },
   "outputs": [
    {
     "data": {
      "text/plain": [
       "27"
      ]
     },
     "execution_count": 6,
     "metadata": {},
     "output_type": "execute_result"
    }
   ],
   "source": [
    "len(df_municipios[df_municipios['Nome do município'].isnull()])"
   ]
  },
  {
   "cell_type": "code",
   "execution_count": 7,
   "metadata": {
    "collapsed": false
   },
   "outputs": [],
   "source": [
    "df_municipios.dropna(inplace=True)"
   ]
  },
  {
   "cell_type": "code",
   "execution_count": 8,
   "metadata": {
    "collapsed": true
   },
   "outputs": [],
   "source": [
    "df_municipios.rename(columns={\"Código do município\": \"CodMunicipio\",\n",
    "                              \"Nome do município\": \"NomeMunicipio\",\n",
    "                              \"Total da população 2000\": \"TotalPopulacao2000\",\n",
    "                              \"Total de homens\": \"TotalHomens\",\n",
    "                              \"Total de mulheres\": \"TotalMulheres\",\n",
    "                              \"Total da população urbana\": \"TotalPopulacaoUrbana\",\n",
    "                              \"Total da população rural\": \"TotalPopulacaoRural\",\n",
    "                              \"Total da população 2010\": \"TotalPopulacao2010\"}, inplace=True)"
   ]
  },
  {
   "cell_type": "markdown",
   "metadata": {},
   "source": [
    "Convertendo colunas de float para int:"
   ]
  },
  {
   "cell_type": "code",
   "execution_count": 9,
   "metadata": {
    "collapsed": false
   },
   "outputs": [],
   "source": [
    "for i in df_municipios.columns:\n",
    "    if df_municipios[i].dtypes == 'float64':\n",
    "        df_municipios[i] = df_municipios[i].astype(np.int64)"
   ]
  },
  {
   "cell_type": "code",
   "execution_count": 10,
   "metadata": {
    "collapsed": false
   },
   "outputs": [
    {
     "name": "stdout",
     "output_type": "stream",
     "text": [
      "<class 'pandas.core.frame.DataFrame'>\n",
      "Int64Index: 5592 entries, 0 to 139\n",
      "Data columns (total 9 columns):\n",
      "CodMunicipio            5592 non-null object\n",
      "NomeMunicipio           5592 non-null object\n",
      "TotalPopulacao2000      5592 non-null int64\n",
      "TotalHomens             5592 non-null int64\n",
      "TotalMulheres           5592 non-null int64\n",
      "TotalPopulacaoUrbana    5592 non-null int64\n",
      "TotalPopulacaoRural     5592 non-null int64\n",
      "TotalPopulacao2010      5592 non-null int64\n",
      "UF                      5592 non-null object\n",
      "dtypes: int64(6), object(3)\n",
      "memory usage: 436.9+ KB\n"
     ]
    }
   ],
   "source": [
    "df_municipios.info()"
   ]
  },
  {
   "cell_type": "code",
   "execution_count": 11,
   "metadata": {
    "collapsed": true
   },
   "outputs": [],
   "source": [
    "df_estados = df_municipios[df_municipios.CodMunicipio==\"Total\"].copy()"
   ]
  },
  {
   "cell_type": "code",
   "execution_count": 12,
   "metadata": {
    "collapsed": false
   },
   "outputs": [],
   "source": [
    "df_municipios = df_municipios[df_municipios.CodMunicipio!=\"Total\"].copy()"
   ]
  },
  {
   "cell_type": "code",
   "execution_count": 13,
   "metadata": {
    "collapsed": false
   },
   "outputs": [
    {
     "name": "stdout",
     "output_type": "stream",
     "text": [
      "<class 'pandas.core.frame.DataFrame'>\n",
      "Int64Index: 5565 entries, 0 to 138\n",
      "Data columns (total 9 columns):\n",
      "CodMunicipio            5565 non-null object\n",
      "NomeMunicipio           5565 non-null object\n",
      "TotalPopulacao2000      5565 non-null int64\n",
      "TotalHomens             5565 non-null int64\n",
      "TotalMulheres           5565 non-null int64\n",
      "TotalPopulacaoUrbana    5565 non-null int64\n",
      "TotalPopulacaoRural     5565 non-null int64\n",
      "TotalPopulacao2010      5565 non-null int64\n",
      "UF                      5565 non-null object\n",
      "dtypes: int64(6), object(3)\n",
      "memory usage: 434.8+ KB\n"
     ]
    }
   ],
   "source": [
    "df_municipios.info()"
   ]
  },
  {
   "cell_type": "code",
   "execution_count": 14,
   "metadata": {
    "collapsed": false
   },
   "outputs": [
    {
     "data": {
      "text/plain": [
       "190732694"
      ]
     },
     "execution_count": 14,
     "metadata": {},
     "output_type": "execute_result"
    }
   ],
   "source": [
    "df_municipios.TotalPopulacao2010.sum()"
   ]
  },
  {
   "cell_type": "markdown",
   "metadata": {},
   "source": [
    "Os dados do Censo são de 2010:\n",
    "* Total de 5565 municípios;\n",
    "* População total do país: 190.732.694;\n"
   ]
  },
  {
   "cell_type": "code",
   "execution_count": 15,
   "metadata": {
    "collapsed": false
   },
   "outputs": [],
   "source": [
    "df_municipios.sort_values('TotalPopulacao2010', ascending=False, inplace=True)"
   ]
  },
  {
   "cell_type": "code",
   "execution_count": 16,
   "metadata": {
    "collapsed": false
   },
   "outputs": [],
   "source": [
    "df_municipios = df_municipios[['CodMunicipio', 'NomeMunicipio', 'UF', 'TotalPopulacao2010', 'TotalPopulacao2000',\n",
    "                               'TotalHomens', 'TotalMulheres', 'TotalPopulacaoUrbana', 'TotalPopulacaoRural']]"
   ]
  },
  {
   "cell_type": "code",
   "execution_count": 17,
   "metadata": {
    "collapsed": false
   },
   "outputs": [
    {
     "data": {
      "text/html": [
       "<div>\n",
       "<table border=\"1\" class=\"dataframe\">\n",
       "  <thead>\n",
       "    <tr style=\"text-align: right;\">\n",
       "      <th></th>\n",
       "      <th>CodMunicipio</th>\n",
       "      <th>NomeMunicipio</th>\n",
       "      <th>UF</th>\n",
       "      <th>TotalPopulacao2010</th>\n",
       "      <th>TotalPopulacao2000</th>\n",
       "      <th>TotalHomens</th>\n",
       "      <th>TotalMulheres</th>\n",
       "      <th>TotalPopulacaoUrbana</th>\n",
       "      <th>TotalPopulacaoRural</th>\n",
       "    </tr>\n",
       "  </thead>\n",
       "  <tbody>\n",
       "    <tr>\n",
       "      <th>564</th>\n",
       "      <td>3550308</td>\n",
       "      <td>São Paulo</td>\n",
       "      <td>SP</td>\n",
       "      <td>11244369</td>\n",
       "      <td>10434252</td>\n",
       "      <td>5323385</td>\n",
       "      <td>5920984</td>\n",
       "      <td>11125243</td>\n",
       "      <td>119126</td>\n",
       "    </tr>\n",
       "    <tr>\n",
       "      <th>67</th>\n",
       "      <td>3304557</td>\n",
       "      <td>Rio de Janeiro</td>\n",
       "      <td>RJ</td>\n",
       "      <td>6323037</td>\n",
       "      <td>5857904</td>\n",
       "      <td>2960954</td>\n",
       "      <td>3362083</td>\n",
       "      <td>6323037</td>\n",
       "      <td>0</td>\n",
       "    </tr>\n",
       "    <tr>\n",
       "      <th>335</th>\n",
       "      <td>2927408</td>\n",
       "      <td>Salvador</td>\n",
       "      <td>BA</td>\n",
       "      <td>2676606</td>\n",
       "      <td>2443107</td>\n",
       "      <td>1249301</td>\n",
       "      <td>1427305</td>\n",
       "      <td>2675875</td>\n",
       "      <td>731</td>\n",
       "    </tr>\n",
       "    <tr>\n",
       "      <th>0</th>\n",
       "      <td>5300108</td>\n",
       "      <td>Brasília</td>\n",
       "      <td>DF</td>\n",
       "      <td>2562963</td>\n",
       "      <td>2051146</td>\n",
       "      <td>1225237</td>\n",
       "      <td>1337726</td>\n",
       "      <td>2476249</td>\n",
       "      <td>86714</td>\n",
       "    </tr>\n",
       "    <tr>\n",
       "      <th>58</th>\n",
       "      <td>2304400</td>\n",
       "      <td>Fortaleza</td>\n",
       "      <td>CE</td>\n",
       "      <td>2447409</td>\n",
       "      <td>2141402</td>\n",
       "      <td>1145799</td>\n",
       "      <td>1301610</td>\n",
       "      <td>2447409</td>\n",
       "      <td>0</td>\n",
       "    </tr>\n",
       "  </tbody>\n",
       "</table>\n",
       "</div>"
      ],
      "text/plain": [
       "    CodMunicipio   NomeMunicipio  UF  TotalPopulacao2010  TotalPopulacao2000  \\\n",
       "564      3550308       São Paulo  SP            11244369            10434252   \n",
       "67       3304557  Rio de Janeiro  RJ             6323037             5857904   \n",
       "335      2927408        Salvador  BA             2676606             2443107   \n",
       "0        5300108        Brasília  DF             2562963             2051146   \n",
       "58       2304400       Fortaleza  CE             2447409             2141402   \n",
       "\n",
       "     TotalHomens  TotalMulheres  TotalPopulacaoUrbana  TotalPopulacaoRural  \n",
       "564      5323385        5920984              11125243               119126  \n",
       "67       2960954        3362083               6323037                    0  \n",
       "335      1249301        1427305               2675875                  731  \n",
       "0        1225237        1337726               2476249                86714  \n",
       "58       1145799        1301610               2447409                    0  "
      ]
     },
     "execution_count": 17,
     "metadata": {},
     "output_type": "execute_result"
    }
   ],
   "source": [
    "df_municipios.head()"
   ]
  },
  {
   "cell_type": "code",
   "execution_count": null,
   "metadata": {
    "collapsed": true
   },
   "outputs": [],
   "source": []
  },
  {
   "cell_type": "markdown",
   "metadata": {},
   "source": [
    "---"
   ]
  },
  {
   "cell_type": "markdown",
   "metadata": {},
   "source": [
    "### Lendo tabela do Bolsa Família (06/2016) "
   ]
  },
  {
   "cell_type": "code",
   "execution_count": 406,
   "metadata": {
    "collapsed": false
   },
   "outputs": [],
   "source": [
    "dfBolsa = pd.read_csv('201606_BolsaFamiliaFolhaPagamento.csv',\n",
    "                      sep='\\t',\n",
    "                      header=(0),\n",
    "                      encoding='cp1252',\n",
    "                      dtype={\"Valor Parcela\": np.str,\n",
    "                             \"Código SIAFI Município\": np.str})"
   ]
  },
  {
   "cell_type": "code",
   "execution_count": 407,
   "metadata": {
    "collapsed": false
   },
   "outputs": [],
   "source": [
    "dfBolsa.rename(columns={\"Código SIAFI Município\": \"CodigoSIAFImunicipio\",\n",
    "                        \"Nome Município\": \"NomeMunicipio\",\n",
    "                        \"Código Função\": \"CodigoFuncao\",\n",
    "                        \"Código Subfunção\": \"CodigoSubfuncao\",\n",
    "                        \"Código Programa\": \"CodigoPrograma\",\n",
    "                        \"Código Ação\": \"CodigoAcao\",\n",
    "                        \"NIS Favorecido\": \"NISFavorecido\",\n",
    "                        \"Nome Favorecido\": \"NomeFavorecido\",\n",
    "                        \"Fonte-Finalidade\": \"FonteFinalidade\",\n",
    "                        \"Valor Parcela\": \"ValorParcela\",\n",
    "                        \"Mês Competência\": \"MesCompetencia\"}, inplace=True)"
   ]
  },
  {
   "cell_type": "code",
   "execution_count": 408,
   "metadata": {
    "collapsed": false
   },
   "outputs": [],
   "source": [
    "dfBolsa.ValorParcela = dfBolsa.ValorParcela.str.replace(\",\",\"\")"
   ]
  },
  {
   "cell_type": "code",
   "execution_count": 409,
   "metadata": {
    "collapsed": false
   },
   "outputs": [],
   "source": [
    "dfBolsa.ValorParcela = dfBolsa.ValorParcela.apply(pd.to_numeric)"
   ]
  },
  {
   "cell_type": "code",
   "execution_count": 410,
   "metadata": {
    "collapsed": false
   },
   "outputs": [
    {
     "name": "stdout",
     "output_type": "stream",
     "text": [
      "<class 'pandas.core.frame.DataFrame'>\n",
      "RangeIndex: 13849866 entries, 0 to 13849865\n",
      "Data columns (total 12 columns):\n",
      "UF                      object\n",
      "CodigoSIAFImunicipio    object\n",
      "NomeMunicipio           object\n",
      "CodigoFuncao            int64\n",
      "CodigoSubfuncao         int64\n",
      "CodigoPrograma          int64\n",
      "CodigoAcao              int64\n",
      "NISFavorecido           int64\n",
      "NomeFavorecido          object\n",
      "FonteFinalidade         object\n",
      "ValorParcela            float64\n",
      "MesCompetencia          object\n",
      "dtypes: float64(1), int64(5), object(6)\n",
      "memory usage: 1.2+ GB\n"
     ]
    }
   ],
   "source": [
    "dfBolsa.info()"
   ]
  },
  {
   "cell_type": "code",
   "execution_count": 411,
   "metadata": {
    "collapsed": false
   },
   "outputs": [
    {
     "data": {
      "text/plain": [
       "304"
      ]
     },
     "execution_count": 411,
     "metadata": {},
     "output_type": "execute_result"
    }
   ],
   "source": [
    "len(dfBolsa[dfBolsa.ValorParcela>1000])"
   ]
  },
  {
   "cell_type": "code",
   "execution_count": 412,
   "metadata": {
    "collapsed": false
   },
   "outputs": [
    {
     "data": {
      "text/plain": [
       "2237424572.0"
      ]
     },
     "execution_count": 412,
     "metadata": {},
     "output_type": "execute_result"
    }
   ],
   "source": [
    "dfBolsa.ValorParcela.sum()"
   ]
  },
  {
   "cell_type": "code",
   "execution_count": 413,
   "metadata": {
    "collapsed": false
   },
   "outputs": [
    {
     "data": {
      "text/plain": [
       "161.54846350137973"
      ]
     },
     "execution_count": 413,
     "metadata": {},
     "output_type": "execute_result"
    }
   ],
   "source": [
    "dfBolsa.ValorParcela.mean()"
   ]
  },
  {
   "cell_type": "code",
   "execution_count": 414,
   "metadata": {
    "collapsed": false
   },
   "outputs": [
    {
     "data": {
      "text/plain": [
       "13849866"
      ]
     },
     "execution_count": 414,
     "metadata": {},
     "output_type": "execute_result"
    }
   ],
   "source": [
    "dfBolsa.ValorParcela.count()"
   ]
  },
  {
   "cell_type": "markdown",
   "metadata": {},
   "source": [
    "* 304 pessoas receberam mais de R\\$ 1000 no mês de junho do Programa Bolsa-Família;\n",
    "* O total de repasse no mês foi de mais de 2 bilhões de reais (R\\$ 2.237.424.572,00);\n",
    "* A média dos pagamentos é de R\\$ 161,55, e a quantidade total de pagamentos 13.849.866;\n"
   ]
  },
  {
   "cell_type": "code",
   "execution_count": 415,
   "metadata": {
    "collapsed": false
   },
   "outputs": [],
   "source": [
    "del dfBolsa['FonteFinalidade']"
   ]
  },
  {
   "cell_type": "code",
   "execution_count": 416,
   "metadata": {
    "collapsed": false
   },
   "outputs": [
    {
     "data": {
      "text/html": [
       "<div>\n",
       "<table border=\"1\" class=\"dataframe\">\n",
       "  <thead>\n",
       "    <tr style=\"text-align: right;\">\n",
       "      <th></th>\n",
       "      <th>UF</th>\n",
       "      <th>CodigoSIAFImunicipio</th>\n",
       "      <th>NomeMunicipio</th>\n",
       "      <th>CodigoFuncao</th>\n",
       "      <th>CodigoSubfuncao</th>\n",
       "      <th>CodigoPrograma</th>\n",
       "      <th>CodigoAcao</th>\n",
       "      <th>NISFavorecido</th>\n",
       "      <th>NomeFavorecido</th>\n",
       "      <th>ValorParcela</th>\n",
       "      <th>MesCompetencia</th>\n",
       "    </tr>\n",
       "  </thead>\n",
       "  <tbody>\n",
       "    <tr>\n",
       "      <th>0</th>\n",
       "      <td>SP</td>\n",
       "      <td>6291</td>\n",
       "      <td>CAMPINAS</td>\n",
       "      <td>8</td>\n",
       "      <td>244</td>\n",
       "      <td>1335</td>\n",
       "      <td>8442</td>\n",
       "      <td>13287063897</td>\n",
       "      <td>ANGELA APARECIDA SERAFIM</td>\n",
       "      <td>182.0</td>\n",
       "      <td>06/2016</td>\n",
       "    </tr>\n",
       "    <tr>\n",
       "      <th>1</th>\n",
       "      <td>BA</td>\n",
       "      <td>3389</td>\n",
       "      <td>BROTAS DE MACAUBAS</td>\n",
       "      <td>8</td>\n",
       "      <td>244</td>\n",
       "      <td>1335</td>\n",
       "      <td>8442</td>\n",
       "      <td>16074176737</td>\n",
       "      <td>FLAVIANO SEBASTIAO DOS SANTOS</td>\n",
       "      <td>105.0</td>\n",
       "      <td>06/2016</td>\n",
       "    </tr>\n",
       "    <tr>\n",
       "      <th>2</th>\n",
       "      <td>AM</td>\n",
       "      <td>0255</td>\n",
       "      <td>MANAUS</td>\n",
       "      <td>8</td>\n",
       "      <td>244</td>\n",
       "      <td>1335</td>\n",
       "      <td>8442</td>\n",
       "      <td>12953494024</td>\n",
       "      <td>GLEICIANE SOUZA OLIVEIRA</td>\n",
       "      <td>217.0</td>\n",
       "      <td>06/2016</td>\n",
       "    </tr>\n",
       "    <tr>\n",
       "      <th>3</th>\n",
       "      <td>PE</td>\n",
       "      <td>2531</td>\n",
       "      <td>RECIFE</td>\n",
       "      <td>8</td>\n",
       "      <td>244</td>\n",
       "      <td>1335</td>\n",
       "      <td>8442</td>\n",
       "      <td>20033347012</td>\n",
       "      <td>ELANE PATRICIA DA SILVA DAMASIO NUNES</td>\n",
       "      <td>154.0</td>\n",
       "      <td>06/2016</td>\n",
       "    </tr>\n",
       "    <tr>\n",
       "      <th>4</th>\n",
       "      <td>MA</td>\n",
       "      <td>0755</td>\n",
       "      <td>CARUTAPERA</td>\n",
       "      <td>8</td>\n",
       "      <td>244</td>\n",
       "      <td>1335</td>\n",
       "      <td>8442</td>\n",
       "      <td>16099396730</td>\n",
       "      <td>EDNA MARIA FERREIRA PINHEIRO</td>\n",
       "      <td>77.0</td>\n",
       "      <td>06/2016</td>\n",
       "    </tr>\n",
       "  </tbody>\n",
       "</table>\n",
       "</div>"
      ],
      "text/plain": [
       "   UF CodigoSIAFImunicipio       NomeMunicipio  CodigoFuncao  CodigoSubfuncao  \\\n",
       "0  SP                 6291            CAMPINAS             8              244   \n",
       "1  BA                 3389  BROTAS DE MACAUBAS             8              244   \n",
       "2  AM                 0255              MANAUS             8              244   \n",
       "3  PE                 2531              RECIFE             8              244   \n",
       "4  MA                 0755          CARUTAPERA             8              244   \n",
       "\n",
       "   CodigoPrograma  CodigoAcao  NISFavorecido  \\\n",
       "0            1335        8442    13287063897   \n",
       "1            1335        8442    16074176737   \n",
       "2            1335        8442    12953494024   \n",
       "3            1335        8442    20033347012   \n",
       "4            1335        8442    16099396730   \n",
       "\n",
       "                          NomeFavorecido  ValorParcela MesCompetencia  \n",
       "0               ANGELA APARECIDA SERAFIM         182.0        06/2016  \n",
       "1          FLAVIANO SEBASTIAO DOS SANTOS         105.0        06/2016  \n",
       "2               GLEICIANE SOUZA OLIVEIRA         217.0        06/2016  \n",
       "3  ELANE PATRICIA DA SILVA DAMASIO NUNES         154.0        06/2016  \n",
       "4           EDNA MARIA FERREIRA PINHEIRO          77.0        06/2016  "
      ]
     },
     "execution_count": 416,
     "metadata": {},
     "output_type": "execute_result"
    }
   ],
   "source": [
    "dfBolsa.head()"
   ]
  },
  {
   "cell_type": "code",
   "execution_count": 417,
   "metadata": {
    "collapsed": false
   },
   "outputs": [
    {
     "data": {
      "text/plain": [
       "(13849866, 11)"
      ]
     },
     "execution_count": 417,
     "metadata": {},
     "output_type": "execute_result"
    }
   ],
   "source": [
    "dfBolsa.shape"
   ]
  },
  {
   "cell_type": "markdown",
   "metadata": {},
   "source": [
    "#### Realizando o groupby por município"
   ]
  },
  {
   "cell_type": "code",
   "execution_count": 295,
   "metadata": {
    "collapsed": false
   },
   "outputs": [],
   "source": [
    "dfBolsaTmp = dfBolsa.groupby('CodigoSIAFImunicipio')"
   ]
  },
  {
   "cell_type": "code",
   "execution_count": 296,
   "metadata": {
    "collapsed": false
   },
   "outputs": [],
   "source": [
    "dfBolsaGrouped = dfBolsaTmp['ValorParcela'].agg({'ValorTotal':np.sum, 'ValorMedio':np.mean})"
   ]
  },
  {
   "cell_type": "code",
   "execution_count": 297,
   "metadata": {
    "collapsed": false
   },
   "outputs": [],
   "source": [
    "dfBolsaGrouped['Count'] = dfBolsaTmp.size()"
   ]
  },
  {
   "cell_type": "code",
   "execution_count": 305,
   "metadata": {
    "collapsed": false
   },
   "outputs": [],
   "source": [
    "dfBolsaGrouped.reset_index(inplace=True)"
   ]
  },
  {
   "cell_type": "code",
   "execution_count": 306,
   "metadata": {
    "collapsed": false
   },
   "outputs": [
    {
     "data": {
      "text/html": [
       "<div>\n",
       "<table border=\"1\" class=\"dataframe\">\n",
       "  <thead>\n",
       "    <tr style=\"text-align: right;\">\n",
       "      <th></th>\n",
       "      <th>CodigoSIAFImunicipio</th>\n",
       "      <th>ValorMedio</th>\n",
       "      <th>ValorTotal</th>\n",
       "      <th>Count</th>\n",
       "    </tr>\n",
       "  </thead>\n",
       "  <tbody>\n",
       "    <tr>\n",
       "      <th>0</th>\n",
       "      <td>0001</td>\n",
       "      <td>156.740193</td>\n",
       "      <td>583387.0</td>\n",
       "      <td>3722</td>\n",
       "    </tr>\n",
       "    <tr>\n",
       "      <th>1</th>\n",
       "      <td>0002</td>\n",
       "      <td>144.883144</td>\n",
       "      <td>140102.0</td>\n",
       "      <td>967</td>\n",
       "    </tr>\n",
       "    <tr>\n",
       "      <th>2</th>\n",
       "      <td>0003</td>\n",
       "      <td>145.421862</td>\n",
       "      <td>3517464.0</td>\n",
       "      <td>24188</td>\n",
       "    </tr>\n",
       "    <tr>\n",
       "      <th>3</th>\n",
       "      <td>0004</td>\n",
       "      <td>139.553310</td>\n",
       "      <td>400518.0</td>\n",
       "      <td>2870</td>\n",
       "    </tr>\n",
       "    <tr>\n",
       "      <th>4</th>\n",
       "      <td>0005</td>\n",
       "      <td>137.725603</td>\n",
       "      <td>644969.0</td>\n",
       "      <td>4683</td>\n",
       "    </tr>\n",
       "  </tbody>\n",
       "</table>\n",
       "</div>"
      ],
      "text/plain": [
       "  CodigoSIAFImunicipio  ValorMedio  ValorTotal  Count\n",
       "0                 0001  156.740193    583387.0   3722\n",
       "1                 0002  144.883144    140102.0    967\n",
       "2                 0003  145.421862   3517464.0  24188\n",
       "3                 0004  139.553310    400518.0   2870\n",
       "4                 0005  137.725603    644969.0   4683"
      ]
     },
     "execution_count": 306,
     "metadata": {},
     "output_type": "execute_result"
    }
   ],
   "source": [
    "dfBolsaGrouped.head()"
   ]
  },
  {
   "cell_type": "code",
   "execution_count": 426,
   "metadata": {
    "collapsed": false
   },
   "outputs": [
    {
     "data": {
      "text/plain": [
       "5570"
      ]
     },
     "execution_count": 426,
     "metadata": {},
     "output_type": "execute_result"
    }
   ],
   "source": [
    "len(dfBolsaGroupedroupedrouped)"
   ]
  },
  {
   "cell_type": "markdown",
   "metadata": {},
   "source": [
    "### Gerando tabela auxiliar para relacionar os municípios do Censo do IBGE com os da lista do Bolsa-Família"
   ]
  },
  {
   "cell_type": "markdown",
   "metadata": {},
   "source": [
    "Nesse trecho, criei um DataFrame para relacionar os municípios do Censo com os municípios que aparecem na relação do Bolsa-Família.\n",
    "\n",
    "Como os códigos que os identificam não são os mesmos entre os 2 datasets, foi necessário realizar o merge com base no nome do município e o seu respectivo UF. Para isto, precisei padronizar os nomes, tendo sido necessário:\n",
    "\n",
    "* Padronizar caracteres em caixa alta;\n",
    "* Remover os acentos;\n",
    "* Para analisar pequenas diferenças de grafia, criei função para comparar os nomes dos municípios pela distância de edição (Levenstein)."
   ]
  },
  {
   "cell_type": "code",
   "execution_count": 30,
   "metadata": {
    "collapsed": true
   },
   "outputs": [],
   "source": [
    "df_codigos_municipios = dfBolsa[['NomeMunicipio', 'UF', 'CodigoSIAFImunicipio']].copy()"
   ]
  },
  {
   "cell_type": "code",
   "execution_count": 31,
   "metadata": {
    "collapsed": false
   },
   "outputs": [
    {
     "data": {
      "text/html": [
       "<div>\n",
       "<table border=\"1\" class=\"dataframe\">\n",
       "  <thead>\n",
       "    <tr style=\"text-align: right;\">\n",
       "      <th></th>\n",
       "      <th>NomeMunicipio</th>\n",
       "      <th>UF</th>\n",
       "      <th>CodigoSIAFImunicipio</th>\n",
       "    </tr>\n",
       "  </thead>\n",
       "  <tbody>\n",
       "    <tr>\n",
       "      <th>0</th>\n",
       "      <td>CAMPINAS</td>\n",
       "      <td>SP</td>\n",
       "      <td>6291</td>\n",
       "    </tr>\n",
       "    <tr>\n",
       "      <th>1</th>\n",
       "      <td>BROTAS DE MACAUBAS</td>\n",
       "      <td>BA</td>\n",
       "      <td>3389</td>\n",
       "    </tr>\n",
       "    <tr>\n",
       "      <th>2</th>\n",
       "      <td>MANAUS</td>\n",
       "      <td>AM</td>\n",
       "      <td>0255</td>\n",
       "    </tr>\n",
       "    <tr>\n",
       "      <th>3</th>\n",
       "      <td>RECIFE</td>\n",
       "      <td>PE</td>\n",
       "      <td>2531</td>\n",
       "    </tr>\n",
       "    <tr>\n",
       "      <th>4</th>\n",
       "      <td>CARUTAPERA</td>\n",
       "      <td>MA</td>\n",
       "      <td>0755</td>\n",
       "    </tr>\n",
       "  </tbody>\n",
       "</table>\n",
       "</div>"
      ],
      "text/plain": [
       "        NomeMunicipio  UF CodigoSIAFImunicipio\n",
       "0            CAMPINAS  SP                 6291\n",
       "1  BROTAS DE MACAUBAS  BA                 3389\n",
       "2              MANAUS  AM                 0255\n",
       "3              RECIFE  PE                 2531\n",
       "4          CARUTAPERA  MA                 0755"
      ]
     },
     "execution_count": 31,
     "metadata": {},
     "output_type": "execute_result"
    }
   ],
   "source": [
    "df_codigos_municipios.head()"
   ]
  },
  {
   "cell_type": "code",
   "execution_count": 32,
   "metadata": {
    "collapsed": false
   },
   "outputs": [
    {
     "data": {
      "text/plain": [
       "13849866"
      ]
     },
     "execution_count": 32,
     "metadata": {},
     "output_type": "execute_result"
    }
   ],
   "source": [
    "len(df_codigos_municipios)"
   ]
  },
  {
   "cell_type": "code",
   "execution_count": 33,
   "metadata": {
    "collapsed": false
   },
   "outputs": [
    {
     "name": "stdout",
     "output_type": "stream",
     "text": [
      "<class 'pandas.core.frame.DataFrame'>\n",
      "RangeIndex: 13849866 entries, 0 to 13849865\n",
      "Data columns (total 3 columns):\n",
      "NomeMunicipio           object\n",
      "UF                      object\n",
      "CodigoSIAFImunicipio    object\n",
      "dtypes: object(3)\n",
      "memory usage: 317.0+ MB\n"
     ]
    }
   ],
   "source": [
    "df_codigos_municipios.info()"
   ]
  },
  {
   "cell_type": "code",
   "execution_count": null,
   "metadata": {
    "collapsed": false
   },
   "outputs": [],
   "source": [
    "df_codigos_municipios.CodigoSIAFImunicipio = df_codigos_municipios.CodigoSIAFImunicipio.astype(str)"
   ]
  },
  {
   "cell_type": "code",
   "execution_count": 35,
   "metadata": {
    "collapsed": false
   },
   "outputs": [],
   "source": [
    "df_codigos_municipios.drop_duplicates(inplace=True)"
   ]
  },
  {
   "cell_type": "code",
   "execution_count": 36,
   "metadata": {
    "collapsed": false
   },
   "outputs": [
    {
     "data": {
      "text/plain": [
       "5570"
      ]
     },
     "execution_count": 36,
     "metadata": {},
     "output_type": "execute_result"
    }
   ],
   "source": [
    "len(df_codigos_municipios)"
   ]
  },
  {
   "cell_type": "code",
   "execution_count": 45,
   "metadata": {
    "collapsed": true
   },
   "outputs": [],
   "source": [
    "df_municipios_ibge = df_municipios[['CodMunicipio','NomeMunicipio','UF']].copy()"
   ]
  },
  {
   "cell_type": "code",
   "execution_count": 46,
   "metadata": {
    "collapsed": false
   },
   "outputs": [],
   "source": [
    "df_municipios_ibge.NomeMunicipio = df_municipios_ibge.NomeMunicipio.str.upper()"
   ]
  },
  {
   "cell_type": "code",
   "execution_count": 51,
   "metadata": {
    "collapsed": true
   },
   "outputs": [],
   "source": [
    "import string"
   ]
  },
  {
   "cell_type": "code",
   "execution_count": 65,
   "metadata": {
    "collapsed": true
   },
   "outputs": [],
   "source": [
    "set_char = string.ascii_uppercase + \" \""
   ]
  },
  {
   "cell_type": "code",
   "execution_count": 66,
   "metadata": {
    "collapsed": true
   },
   "outputs": [],
   "source": [
    "def find_char_acentos(x):\n",
    "    output = ''\n",
    "    for c in x:\n",
    "        if c not in set_char:\n",
    "            output += c + ' '\n",
    "    if output:\n",
    "        return output\n",
    "    return None"
   ]
  },
  {
   "cell_type": "code",
   "execution_count": 67,
   "metadata": {
    "collapsed": false
   },
   "outputs": [],
   "source": [
    "df_municipios_ibge['acentos']=df_municipios_ibge.NomeMunicipio.apply(find_char_acentos)"
   ]
  },
  {
   "cell_type": "code",
   "execution_count": 75,
   "metadata": {
    "collapsed": false
   },
   "outputs": [],
   "source": [
    "char_acentos = set()\n",
    "for item in df_municipios_ibge.acentos.unique():\n",
    "    if type(item) == str:\n",
    "        for c in item:\n",
    "            char_acentos.add(c)\n"
   ]
  },
  {
   "cell_type": "code",
   "execution_count": 81,
   "metadata": {
    "collapsed": true
   },
   "outputs": [],
   "source": [
    "del df_municipios_ibge['acentos']"
   ]
  },
  {
   "cell_type": "code",
   "execution_count": 76,
   "metadata": {
    "collapsed": false
   },
   "outputs": [
    {
     "data": {
      "text/plain": [
       "{' ', \"'\", '-', 'Á', 'Â', 'Ã', 'Ç', 'É', 'Ê', 'Í', 'Ó', 'Ô', 'Õ', 'Ú'}"
      ]
     },
     "execution_count": 76,
     "metadata": {},
     "output_type": "execute_result"
    }
   ],
   "source": [
    "char_acentos"
   ]
  },
  {
   "cell_type": "code",
   "execution_count": 77,
   "metadata": {
    "collapsed": true
   },
   "outputs": [],
   "source": [
    "dic_acentos={'Á':'A',\n",
    "             'Â':'A',\n",
    "             'Ã':'A',\n",
    "             'Ç':'C',\n",
    "             'É':'E',\n",
    "             'Ê':'E',\n",
    "             'Í':'I',\n",
    "             'Ó':'O',\n",
    "             'Ô':'O',\n",
    "             'Õ':'O',\n",
    "             'Ú':'U'}"
   ]
  },
  {
   "cell_type": "code",
   "execution_count": 78,
   "metadata": {
    "collapsed": true
   },
   "outputs": [],
   "source": [
    "def remove_acentos(x):\n",
    "    output=''\n",
    "    for c in x:\n",
    "        if c in dic_acentos.keys():\n",
    "            output += dic_acentos[c]\n",
    "        else:\n",
    "            output += c\n",
    "    return output"
   ]
  },
  {
   "cell_type": "code",
   "execution_count": 79,
   "metadata": {
    "collapsed": true
   },
   "outputs": [],
   "source": [
    "df_municipios_ibge['NomeMunicipio']=df_municipios_ibge.NomeMunicipio.apply(remove_acentos)"
   ]
  },
  {
   "cell_type": "code",
   "execution_count": 83,
   "metadata": {
    "collapsed": false
   },
   "outputs": [
    {
     "data": {
      "text/html": [
       "<div>\n",
       "<table border=\"1\" class=\"dataframe\">\n",
       "  <thead>\n",
       "    <tr style=\"text-align: right;\">\n",
       "      <th></th>\n",
       "      <th>CodMunicipio</th>\n",
       "      <th>NomeMunicipio</th>\n",
       "      <th>UF</th>\n",
       "    </tr>\n",
       "  </thead>\n",
       "  <tbody>\n",
       "    <tr>\n",
       "      <th>564</th>\n",
       "      <td>3550308</td>\n",
       "      <td>SAO PAULO</td>\n",
       "      <td>SP</td>\n",
       "    </tr>\n",
       "    <tr>\n",
       "      <th>67</th>\n",
       "      <td>3304557</td>\n",
       "      <td>RIO DE JANEIRO</td>\n",
       "      <td>RJ</td>\n",
       "    </tr>\n",
       "    <tr>\n",
       "      <th>335</th>\n",
       "      <td>2927408</td>\n",
       "      <td>SALVADOR</td>\n",
       "      <td>BA</td>\n",
       "    </tr>\n",
       "    <tr>\n",
       "      <th>0</th>\n",
       "      <td>5300108</td>\n",
       "      <td>BRASILIA</td>\n",
       "      <td>DF</td>\n",
       "    </tr>\n",
       "    <tr>\n",
       "      <th>58</th>\n",
       "      <td>2304400</td>\n",
       "      <td>FORTALEZA</td>\n",
       "      <td>CE</td>\n",
       "    </tr>\n",
       "  </tbody>\n",
       "</table>\n",
       "</div>"
      ],
      "text/plain": [
       "    CodMunicipio   NomeMunicipio  UF\n",
       "564      3550308       SAO PAULO  SP\n",
       "67       3304557  RIO DE JANEIRO  RJ\n",
       "335      2927408        SALVADOR  BA\n",
       "0        5300108        BRASILIA  DF\n",
       "58       2304400       FORTALEZA  CE"
      ]
     },
     "execution_count": 83,
     "metadata": {},
     "output_type": "execute_result"
    }
   ],
   "source": [
    "df_municipios_ibge.head()"
   ]
  },
  {
   "cell_type": "code",
   "execution_count": 85,
   "metadata": {
    "collapsed": false
   },
   "outputs": [
    {
     "data": {
      "text/plain": [
       "5570"
      ]
     },
     "execution_count": 85,
     "metadata": {},
     "output_type": "execute_result"
    }
   ],
   "source": [
    "len(df_codigos_municipios)"
   ]
  },
  {
   "cell_type": "code",
   "execution_count": 152,
   "metadata": {
    "collapsed": false
   },
   "outputs": [],
   "source": [
    "df_municipios1 = pd.merge(df_municipios_ibge, df_codigos_municipios, on=['NomeMunicipio','UF'], how='outer')"
   ]
  },
  {
   "cell_type": "code",
   "execution_count": 153,
   "metadata": {
    "collapsed": false
   },
   "outputs": [
    {
     "data": {
      "text/plain": [
       "67"
      ]
     },
     "execution_count": 153,
     "metadata": {},
     "output_type": "execute_result"
    }
   ],
   "source": [
    "len(df_municipios1[df_municipios1.CodMunicipio.isnull()])"
   ]
  },
  {
   "cell_type": "code",
   "execution_count": 154,
   "metadata": {
    "collapsed": false
   },
   "outputs": [
    {
     "data": {
      "text/plain": [
       "62"
      ]
     },
     "execution_count": 154,
     "metadata": {},
     "output_type": "execute_result"
    }
   ],
   "source": [
    "len(df_municipios1[df_municipios1.CodigoSIAFImunicipio.isnull()])"
   ]
  },
  {
   "cell_type": "markdown",
   "metadata": {},
   "source": [
    "67 municípios ainda não foram relacionados após a remoção dos acentos e padronização em caixa-alta. Aí que entrou a comparação com base na distância de edição de Levenstein."
   ]
  },
  {
   "cell_type": "code",
   "execution_count": 155,
   "metadata": {
    "collapsed": false
   },
   "outputs": [],
   "source": [
    "df_municipios1.sort_values(['NomeMunicipio','UF'], inplace=True)"
   ]
  },
  {
   "cell_type": "code",
   "execution_count": 159,
   "metadata": {
    "collapsed": true
   },
   "outputs": [],
   "source": [
    "df_municipios1['NomeAlternativo']=None"
   ]
  },
  {
   "cell_type": "code",
   "execution_count": 160,
   "metadata": {
    "collapsed": false
   },
   "outputs": [],
   "source": [
    "for i,row in df_municipios1[df_municipios1.CodigoSIAFImunicipio.isnull()].iterrows():\n",
    "    menor_distancia = 99\n",
    "    candidato_nome = ''\n",
    "    for j,row2 in df_municipios1[(df_municipios1.CodMunicipio.isnull()) & \n",
    "                                 (df_municipios1.UF==row.UF) &\n",
    "                                 (df_municipios1.NomeAlternativo.isnull())].iterrows():\n",
    "        distancia = Levenshtein.distance(row.NomeMunicipio, row2.NomeMunicipio)\n",
    "        if distancia < menor_distancia:\n",
    "            menor_distancia = distancia\n",
    "            candidato_nome = row2.NomeMunicipio\n",
    "            candidato_codigo = row2.CodigoSIAFImunicipio\n",
    "            candidato_idx = j\n",
    "    if menor_distancia < 6:\n",
    "        df_municipios1['NomeAlternativo'][i] = candidato_nome\n",
    "        df_municipios1['CodigoSIAFImunicipio'][i] = candidato_codigo\n",
    "        df_municipios1['NomeAlternativo'][candidato_idx] = '---'\n",
    "        "
   ]
  },
  {
   "cell_type": "code",
   "execution_count": 163,
   "metadata": {
    "collapsed": false
   },
   "outputs": [
    {
     "data": {
      "text/html": [
       "<div>\n",
       "<table border=\"1\" class=\"dataframe\">\n",
       "  <thead>\n",
       "    <tr style=\"text-align: right;\">\n",
       "      <th></th>\n",
       "      <th>CodMunicipio</th>\n",
       "      <th>NomeMunicipio</th>\n",
       "      <th>UF</th>\n",
       "      <th>CodigoSIAFImunicipio</th>\n",
       "      <th>NomeAlternativo</th>\n",
       "    </tr>\n",
       "  </thead>\n",
       "  <tbody>\n",
       "    <tr>\n",
       "      <th>4994</th>\n",
       "      <td>4128625</td>\n",
       "      <td>ALTO PARAISO</td>\n",
       "      <td>PR</td>\n",
       "      <td>NaN</td>\n",
       "      <td>None</td>\n",
       "    </tr>\n",
       "    <tr>\n",
       "      <th>3130</th>\n",
       "      <td>2401305</td>\n",
       "      <td>AUGUSTO SEVERO</td>\n",
       "      <td>RN</td>\n",
       "      <td>NaN</td>\n",
       "      <td>None</td>\n",
       "    </tr>\n",
       "    <tr>\n",
       "      <th>3278</th>\n",
       "      <td>4202057</td>\n",
       "      <td>BALNEARIO BARRA DO SUL</td>\n",
       "      <td>SC</td>\n",
       "      <td>NaN</td>\n",
       "      <td>None</td>\n",
       "    </tr>\n",
       "    <tr>\n",
       "      <th>1957</th>\n",
       "      <td>4212809</td>\n",
       "      <td>BALNEARIO PICARRAS</td>\n",
       "      <td>SC</td>\n",
       "      <td>NaN</td>\n",
       "      <td>None</td>\n",
       "    </tr>\n",
       "    <tr>\n",
       "      <th>1457</th>\n",
       "      <td>2607604</td>\n",
       "      <td>ILHA DE ITAMARACA</td>\n",
       "      <td>PE</td>\n",
       "      <td>NaN</td>\n",
       "      <td>None</td>\n",
       "    </tr>\n",
       "    <tr>\n",
       "      <th>2841</th>\n",
       "      <td>3131802</td>\n",
       "      <td>ITABIRINHA</td>\n",
       "      <td>MG</td>\n",
       "      <td>NaN</td>\n",
       "      <td>None</td>\n",
       "    </tr>\n",
       "    <tr>\n",
       "      <th>3168</th>\n",
       "      <td>2405306</td>\n",
       "      <td>JANUARIO CICCO</td>\n",
       "      <td>RN</td>\n",
       "      <td>NaN</td>\n",
       "      <td>None</td>\n",
       "    </tr>\n",
       "    <tr>\n",
       "      <th>4725</th>\n",
       "      <td>2408706</td>\n",
       "      <td>PARAU</td>\n",
       "      <td>RN</td>\n",
       "      <td>NaN</td>\n",
       "      <td>None</td>\n",
       "    </tr>\n",
       "    <tr>\n",
       "      <th>2822</th>\n",
       "      <td>1600154</td>\n",
       "      <td>PEDRA BRANCA DO AMAPARI</td>\n",
       "      <td>AP</td>\n",
       "      <td>NaN</td>\n",
       "      <td>None</td>\n",
       "    </tr>\n",
       "    <tr>\n",
       "      <th>3218</th>\n",
       "      <td>2410306</td>\n",
       "      <td>PRESIDENTE JUSCELINO</td>\n",
       "      <td>RN</td>\n",
       "      <td>NaN</td>\n",
       "      <td>None</td>\n",
       "    </tr>\n",
       "    <tr>\n",
       "      <th>4408</th>\n",
       "      <td>1200435</td>\n",
       "      <td>SANTA ROSA DO PURUS</td>\n",
       "      <td>AC</td>\n",
       "      <td>NaN</td>\n",
       "      <td>None</td>\n",
       "    </tr>\n",
       "    <tr>\n",
       "      <th>4602</th>\n",
       "      <td>2513927</td>\n",
       "      <td>SAO BENTINHO</td>\n",
       "      <td>PB</td>\n",
       "      <td>NaN</td>\n",
       "      <td>None</td>\n",
       "    </tr>\n",
       "    <tr>\n",
       "      <th>5127</th>\n",
       "      <td>2513968</td>\n",
       "      <td>SAO DOMINGOS</td>\n",
       "      <td>PB</td>\n",
       "      <td>NaN</td>\n",
       "      <td>None</td>\n",
       "    </tr>\n",
       "    <tr>\n",
       "      <th>4511</th>\n",
       "      <td>1720499</td>\n",
       "      <td>SAO VALERIO</td>\n",
       "      <td>TO</td>\n",
       "      <td>NaN</td>\n",
       "      <td>None</td>\n",
       "    </tr>\n",
       "  </tbody>\n",
       "</table>\n",
       "</div>"
      ],
      "text/plain": [
       "     CodMunicipio            NomeMunicipio  UF CodigoSIAFImunicipio  \\\n",
       "4994      4128625             ALTO PARAISO  PR                  NaN   \n",
       "3130      2401305           AUGUSTO SEVERO  RN                  NaN   \n",
       "3278      4202057   BALNEARIO BARRA DO SUL  SC                  NaN   \n",
       "1957      4212809       BALNEARIO PICARRAS  SC                  NaN   \n",
       "1457      2607604        ILHA DE ITAMARACA  PE                  NaN   \n",
       "2841      3131802               ITABIRINHA  MG                  NaN   \n",
       "3168      2405306           JANUARIO CICCO  RN                  NaN   \n",
       "4725      2408706                    PARAU  RN                  NaN   \n",
       "2822      1600154  PEDRA BRANCA DO AMAPARI  AP                  NaN   \n",
       "3218      2410306     PRESIDENTE JUSCELINO  RN                  NaN   \n",
       "4408      1200435      SANTA ROSA DO PURUS  AC                  NaN   \n",
       "4602      2513927             SAO BENTINHO  PB                  NaN   \n",
       "5127      2513968             SAO DOMINGOS  PB                  NaN   \n",
       "4511      1720499              SAO VALERIO  TO                  NaN   \n",
       "\n",
       "     NomeAlternativo  \n",
       "4994            None  \n",
       "3130            None  \n",
       "3278            None  \n",
       "1957            None  \n",
       "1457            None  \n",
       "2841            None  \n",
       "3168            None  \n",
       "4725            None  \n",
       "2822            None  \n",
       "3218            None  \n",
       "4408            None  \n",
       "4602            None  \n",
       "5127            None  \n",
       "4511            None  "
      ]
     },
     "execution_count": 163,
     "metadata": {},
     "output_type": "execute_result"
    }
   ],
   "source": [
    "df_municipios1[df_municipios1.CodigoSIAFImunicipio.isnull()]"
   ]
  },
  {
   "cell_type": "markdown",
   "metadata": {},
   "source": [
    "Consegui reduzir de 67 para 14 os municípios que ainda não foram relacionados. Para isso, permiti o uso automático da distância de Levenstein quando a mesma dava um valor menor que 6.\n",
    "\n",
    "Abaixo, criei função similar, porém supervisionada, para os casos restantes."
   ]
  },
  {
   "cell_type": "code",
   "execution_count": 168,
   "metadata": {
    "collapsed": false
   },
   "outputs": [],
   "source": [
    "# df_municipios1[df_municipios1.CodMunicipio.isnull() & df_municipios1.NomeAlternativo.isnull()]"
   ]
  },
  {
   "cell_type": "code",
   "execution_count": 167,
   "metadata": {
    "collapsed": false
   },
   "outputs": [],
   "source": [
    "# df_municipios1[df_municipios1.NomeAlternativo.notnull()]"
   ]
  },
  {
   "cell_type": "code",
   "execution_count": 170,
   "metadata": {
    "collapsed": false
   },
   "outputs": [
    {
     "name": "stdout",
     "output_type": "stream",
     "text": [
      "Aprova? (S/N) ALTO PARAISO _x_ VILA ALTA (PR)S\n",
      " Gravado com sucesso...\n",
      "Aprova? (S/N) AUGUSTO SEVERO _x_ BOA SAUDE (RN)\n",
      " Ignorando...\n",
      "Aprova? (S/N) BALNEARIO BARRA DO SUL _x_ BALNEARIO RINCÃO (SC)\n",
      " Ignorando...\n",
      "Aprova? (S/N) BALNEARIO PICARRAS _x_ BALNEARIO RINCÃO (SC)\n",
      " Ignorando...\n",
      "Aprova? (S/N) ILHA DE ITAMARACA _x_ ITAMARACA (PE)S\n",
      " Gravado com sucesso...\n",
      "Aprova? (S/N) ITABIRINHA _x_ ITABIRINHA DE MANTENA (MG)S\n",
      " Gravado com sucesso...\n",
      "Aprova? (S/N) JANUARIO CICCO _x_ SERRA CAIADA (RN)\n",
      " Ignorando...\n",
      "Aprova? (S/N) PARAU _x_ BOA SAUDE (RN)\n",
      " Ignorando...\n",
      "Aprova? (S/N) PEDRA BRANCA DO AMAPARI _x_ AMAPARI (AP)S\n",
      " Gravado com sucesso...\n",
      "Aprova? (S/N) PRESIDENTE JUSCELINO _x_ SERRA CAIADA (RN)S\n",
      " Gravado com sucesso...\n",
      "Aprova? (S/N) SANTA ROSA DO PURUS _x_ SANTA ROSA (AC)S\n",
      " Gravado com sucesso...\n",
      "Aprova? (S/N) SAO BENTINHO _x_ SAO BENTO DE POMBAL (PB)S\n",
      " Gravado com sucesso...\n",
      "Aprova? (S/N) SAO DOMINGOS _x_ SAO DOMINGOS DE POMBAL (PB)S\n",
      " Gravado com sucesso...\n",
      "Aprova? (S/N) SAO VALERIO _x_ SAO VALERIO DA NATIVIDADE (TO)S\n",
      " Gravado com sucesso...\n"
     ]
    }
   ],
   "source": [
    "for i,row in df_municipios1[df_municipios1.CodigoSIAFImunicipio.isnull()].iterrows():\n",
    "    menor_distancia = 99\n",
    "    candidato_nome = ''\n",
    "    for j,row2 in df_municipios1[(df_municipios1.CodMunicipio.isnull()) & \n",
    "                                 (df_municipios1.UF==row.UF) &\n",
    "                                 (df_municipios1.NomeAlternativo.isnull())].iterrows():\n",
    "        distancia = Levenshtein.distance(row.NomeMunicipio, row2.NomeMunicipio)\n",
    "        if distancia < menor_distancia:\n",
    "            menor_distancia = distancia\n",
    "            candidato_nome = row2.NomeMunicipio\n",
    "            candidato_codigo = row2.CodigoSIAFImunicipio\n",
    "            candidato_idx = j\n",
    "    if menor_distancia < 50:\n",
    "        if input('Aprova? (S/N) %s _x_ %s (%s)' %(row.NomeMunicipio,candidato_nome,row.UF))=='S':\n",
    "            df_municipios1['NomeAlternativo'][i] = candidato_nome\n",
    "            df_municipios1['CodigoSIAFImunicipio'][i] = candidato_codigo\n",
    "            df_municipios1['NomeAlternativo'][candidato_idx] = '---'\n",
    "            print(\" Gravado com sucesso...\")\n",
    "        else:\n",
    "            print(\" Ignorando...\")"
   ]
  },
  {
   "cell_type": "markdown",
   "metadata": {},
   "source": [
    "Faltaram relacionar 5 municípios. Além disso, outros 5 municípios só existem em na tabela do Bolsa-Família (não existem na tabela do Censo)."
   ]
  },
  {
   "cell_type": "code",
   "execution_count": 186,
   "metadata": {
    "collapsed": false
   },
   "outputs": [
    {
     "data": {
      "text/plain": [
       "5"
      ]
     },
     "execution_count": 186,
     "metadata": {},
     "output_type": "execute_result"
    }
   ],
   "source": [
    "len(df_municipios1[df_municipios1.CodigoSIAFImunicipio.isnull()])"
   ]
  },
  {
   "cell_type": "code",
   "execution_count": 187,
   "metadata": {
    "collapsed": false
   },
   "outputs": [
    {
     "data": {
      "text/plain": [
       "5"
      ]
     },
     "execution_count": 187,
     "metadata": {},
     "output_type": "execute_result"
    }
   ],
   "source": [
    "len(df_municipios1[df_municipios1.CodMunicipio.isnull() & df_municipios1.NomeAlternativo.isnull()])"
   ]
  },
  {
   "cell_type": "markdown",
   "metadata": {},
   "source": [
    "Os municípios abaixo foram criados depois do ano de 2010, por isso não constam no Censo do IBGE:\n",
    "* Pinto Bandeira (RS)\n",
    "* Pescaria Brava (SC)\n",
    "* Balneário Rincão (SC)\n",
    "* Paraíso das Águas (MS)\n",
    "* Mojuí dos Campos (PA)"
   ]
  },
  {
   "cell_type": "code",
   "execution_count": 183,
   "metadata": {
    "collapsed": true
   },
   "outputs": [],
   "source": [
    "novos_municipios = [('PINTO BANDEIRA', 'RS'),\n",
    "                    ('PESCARIA BRAVA', 'SC'),\n",
    "                    ('BALNEARIO RINCÃO', 'SC'),\n",
    "                    ('PARAÍSO DAS ÁGUAS', 'MS'),\n",
    "                    ('MOJUÍ DOS CAMPOS', 'PA')]"
   ]
  },
  {
   "cell_type": "code",
   "execution_count": 184,
   "metadata": {
    "collapsed": false
   },
   "outputs": [],
   "source": [
    "for cid, uf in novos_municipios:\n",
    "    df_municipios1.loc[(df_municipios1.NomeMunicipio==cid) & (df_municipios1.UF==uf),'NomeAlternativo']='--- (novo)'"
   ]
  },
  {
   "cell_type": "markdown",
   "metadata": {},
   "source": [
    "Aqui precisarei verificar através de pesquisa manual os nomes, para relacionar os municípios:"
   ]
  },
  {
   "cell_type": "code",
   "execution_count": 189,
   "metadata": {
    "collapsed": false
   },
   "outputs": [
    {
     "data": {
      "text/html": [
       "<div>\n",
       "<table border=\"1\" class=\"dataframe\">\n",
       "  <thead>\n",
       "    <tr style=\"text-align: right;\">\n",
       "      <th></th>\n",
       "      <th>CodMunicipio</th>\n",
       "      <th>NomeMunicipio</th>\n",
       "      <th>UF</th>\n",
       "      <th>CodigoSIAFImunicipio</th>\n",
       "      <th>NomeAlternativo</th>\n",
       "    </tr>\n",
       "  </thead>\n",
       "  <tbody>\n",
       "    <tr>\n",
       "      <th>3130</th>\n",
       "      <td>2401305</td>\n",
       "      <td>AUGUSTO SEVERO</td>\n",
       "      <td>RN</td>\n",
       "      <td>NaN</td>\n",
       "      <td>None</td>\n",
       "    </tr>\n",
       "    <tr>\n",
       "      <th>3278</th>\n",
       "      <td>4202057</td>\n",
       "      <td>BALNEARIO BARRA DO SUL</td>\n",
       "      <td>SC</td>\n",
       "      <td>NaN</td>\n",
       "      <td>None</td>\n",
       "    </tr>\n",
       "    <tr>\n",
       "      <th>1957</th>\n",
       "      <td>4212809</td>\n",
       "      <td>BALNEARIO PICARRAS</td>\n",
       "      <td>SC</td>\n",
       "      <td>NaN</td>\n",
       "      <td>None</td>\n",
       "    </tr>\n",
       "    <tr>\n",
       "      <th>3168</th>\n",
       "      <td>2405306</td>\n",
       "      <td>JANUARIO CICCO</td>\n",
       "      <td>RN</td>\n",
       "      <td>NaN</td>\n",
       "      <td>None</td>\n",
       "    </tr>\n",
       "    <tr>\n",
       "      <th>4725</th>\n",
       "      <td>2408706</td>\n",
       "      <td>PARAU</td>\n",
       "      <td>RN</td>\n",
       "      <td>NaN</td>\n",
       "      <td>None</td>\n",
       "    </tr>\n",
       "  </tbody>\n",
       "</table>\n",
       "</div>"
      ],
      "text/plain": [
       "     CodMunicipio           NomeMunicipio  UF CodigoSIAFImunicipio  \\\n",
       "3130      2401305          AUGUSTO SEVERO  RN                  NaN   \n",
       "3278      4202057  BALNEARIO BARRA DO SUL  SC                  NaN   \n",
       "1957      4212809      BALNEARIO PICARRAS  SC                  NaN   \n",
       "3168      2405306          JANUARIO CICCO  RN                  NaN   \n",
       "4725      2408706                   PARAU  RN                  NaN   \n",
       "\n",
       "     NomeAlternativo  \n",
       "3130            None  \n",
       "3278            None  \n",
       "1957            None  \n",
       "3168            None  \n",
       "4725            None  "
      ]
     },
     "execution_count": 189,
     "metadata": {},
     "output_type": "execute_result"
    }
   ],
   "source": [
    "df_municipios1[df_municipios1.CodigoSIAFImunicipio.isnull()]"
   ]
  },
  {
   "cell_type": "code",
   "execution_count": 188,
   "metadata": {
    "collapsed": false
   },
   "outputs": [
    {
     "data": {
      "text/html": [
       "<div>\n",
       "<table border=\"1\" class=\"dataframe\">\n",
       "  <thead>\n",
       "    <tr style=\"text-align: right;\">\n",
       "      <th></th>\n",
       "      <th>CodMunicipio</th>\n",
       "      <th>NomeMunicipio</th>\n",
       "      <th>UF</th>\n",
       "      <th>CodigoSIAFImunicipio</th>\n",
       "      <th>NomeAlternativo</th>\n",
       "    </tr>\n",
       "  </thead>\n",
       "  <tbody>\n",
       "    <tr>\n",
       "      <th>5605</th>\n",
       "      <td>NaN</td>\n",
       "      <td>BARRA DO SUL</td>\n",
       "      <td>SC</td>\n",
       "      <td>5549</td>\n",
       "      <td>None</td>\n",
       "    </tr>\n",
       "    <tr>\n",
       "      <th>5570</th>\n",
       "      <td>NaN</td>\n",
       "      <td>BOA SAUDE</td>\n",
       "      <td>RN</td>\n",
       "      <td>1703</td>\n",
       "      <td>None</td>\n",
       "    </tr>\n",
       "    <tr>\n",
       "      <th>5575</th>\n",
       "      <td>NaN</td>\n",
       "      <td>CAMPO GRANDE</td>\n",
       "      <td>RN</td>\n",
       "      <td>1625</td>\n",
       "      <td>None</td>\n",
       "    </tr>\n",
       "    <tr>\n",
       "      <th>5594</th>\n",
       "      <td>NaN</td>\n",
       "      <td>ESPIRITO SANTO DO OESTE</td>\n",
       "      <td>RN</td>\n",
       "      <td>1773</td>\n",
       "      <td>None</td>\n",
       "    </tr>\n",
       "    <tr>\n",
       "      <th>5613</th>\n",
       "      <td>NaN</td>\n",
       "      <td>PICARRAS</td>\n",
       "      <td>SC</td>\n",
       "      <td>8251</td>\n",
       "      <td>None</td>\n",
       "    </tr>\n",
       "  </tbody>\n",
       "</table>\n",
       "</div>"
      ],
      "text/plain": [
       "     CodMunicipio            NomeMunicipio  UF CodigoSIAFImunicipio  \\\n",
       "5605          NaN             BARRA DO SUL  SC                 5549   \n",
       "5570          NaN                BOA SAUDE  RN                 1703   \n",
       "5575          NaN             CAMPO GRANDE  RN                 1625   \n",
       "5594          NaN  ESPIRITO SANTO DO OESTE  RN                 1773   \n",
       "5613          NaN                 PICARRAS  SC                 8251   \n",
       "\n",
       "     NomeAlternativo  \n",
       "5605            None  \n",
       "5570            None  \n",
       "5575            None  \n",
       "5594            None  \n",
       "5613            None  "
      ]
     },
     "execution_count": 188,
     "metadata": {},
     "output_type": "execute_result"
    }
   ],
   "source": [
    "df_municipios1[df_municipios1.CodMunicipio.isnull() & df_municipios1.NomeAlternativo.isnull()]"
   ]
  },
  {
   "cell_type": "code",
   "execution_count": 190,
   "metadata": {
    "collapsed": true
   },
   "outputs": [],
   "source": [
    "dic_municipios={'BALNEARIO BARRA DO SUL': 'BARRA DO SUL',\n",
    "                'BALNEARIO PICARRAS': 'PICARRAS',\n",
    "                'AUGUSTO SEVERO': 'CAMPO GRANDE',\n",
    "                'JANUARIO CICCO': 'BOA SAUDE',\n",
    "                'PARAU': 'ESPIRITO SANTO DO OESTE'}\n"
   ]
  },
  {
   "cell_type": "code",
   "execution_count": 202,
   "metadata": {
    "collapsed": true
   },
   "outputs": [],
   "source": [
    "for i,row in df_municipios1[df_municipios1.CodigoSIAFImunicipio.isnull()].iterrows():\n",
    "    obj = df_municipios1[(df_municipios1.CodMunicipio.isnull()) & (df_municipios1.NomeMunicipio==dic_municipios[row.NomeMunicipio])]\n",
    "    codigo = obj.loc[obj.index[0]].CodigoSIAFImunicipio\n",
    "    nome = obj.loc[obj.index[0]].NomeMunicipio\n",
    "    df_municipios1['CodigoSIAFImunicipio'][i] = codigo\n",
    "    df_municipios1['NomeAlternativo'][i] = nome\n",
    "    df_municipios1['NomeAlternativo'][codigo] = '---'"
   ]
  },
  {
   "cell_type": "code",
   "execution_count": 245,
   "metadata": {
    "collapsed": false
   },
   "outputs": [],
   "source": [
    "dfMunicipiosRelated = df_municipios1[(df_municipios1.CodMunicipio.notnull()) | \n",
    "                                     (df_municipios1.NomeAlternativo.str.contains('novo'))].copy()"
   ]
  },
  {
   "cell_type": "code",
   "execution_count": 246,
   "metadata": {
    "collapsed": false
   },
   "outputs": [
    {
     "data": {
      "text/plain": [
       "(5570, 5)"
      ]
     },
     "execution_count": 246,
     "metadata": {},
     "output_type": "execute_result"
    }
   ],
   "source": [
    "dfMunicipiosRelated.shape"
   ]
  },
  {
   "cell_type": "markdown",
   "metadata": {},
   "source": [
    "Aqui imprimi os casos dos municípios que usaram a menor distância de Levenstein para uma segunda conferência."
   ]
  },
  {
   "cell_type": "code",
   "execution_count": 247,
   "metadata": {
    "collapsed": false
   },
   "outputs": [
    {
     "name": "stdout",
     "output_type": "stream",
     "text": [
      "63\n"
     ]
    },
    {
     "data": {
      "text/html": [
       "<div>\n",
       "<table border=\"1\" class=\"dataframe\">\n",
       "  <thead>\n",
       "    <tr style=\"text-align: right;\">\n",
       "      <th></th>\n",
       "      <th>CodMunicipio</th>\n",
       "      <th>NomeMunicipio</th>\n",
       "      <th>UF</th>\n",
       "      <th>CodigoSIAFImunicipio</th>\n",
       "      <th>NomeAlternativo</th>\n",
       "    </tr>\n",
       "  </thead>\n",
       "  <tbody>\n",
       "    <tr>\n",
       "      <th>558</th>\n",
       "      <td>2400208</td>\n",
       "      <td>ACU</td>\n",
       "      <td>RN</td>\n",
       "      <td>1603</td>\n",
       "      <td>ASSU</td>\n",
       "    </tr>\n",
       "    <tr>\n",
       "      <th>4994</th>\n",
       "      <td>4128625</td>\n",
       "      <td>ALTO PARAISO</td>\n",
       "      <td>PR</td>\n",
       "      <td>5523</td>\n",
       "      <td>VILA ALTA</td>\n",
       "    </tr>\n",
       "    <tr>\n",
       "      <th>4233</th>\n",
       "      <td>3102506</td>\n",
       "      <td>AMPARO DO SERRA</td>\n",
       "      <td>MG</td>\n",
       "      <td>4049</td>\n",
       "      <td>AMPARO DA SERRA</td>\n",
       "    </tr>\n",
       "    <tr>\n",
       "      <th>1154</th>\n",
       "      <td>3300233</td>\n",
       "      <td>ARMACAO DOS BUZIOS</td>\n",
       "      <td>RJ</td>\n",
       "      <td>0770</td>\n",
       "      <td>ARMACAO DE BUZIOS</td>\n",
       "    </tr>\n",
       "    <tr>\n",
       "      <th>3130</th>\n",
       "      <td>2401305</td>\n",
       "      <td>AUGUSTO SEVERO</td>\n",
       "      <td>RN</td>\n",
       "      <td>1625</td>\n",
       "      <td>CAMPO GRANDE</td>\n",
       "    </tr>\n",
       "    <tr>\n",
       "      <th>5612</th>\n",
       "      <td>NaN</td>\n",
       "      <td>BALNEARIO RINCÃO</td>\n",
       "      <td>SC</td>\n",
       "      <td>1192</td>\n",
       "      <td>--- (novo)</td>\n",
       "    </tr>\n",
       "    <tr>\n",
       "      <th>4685</th>\n",
       "      <td>4102752</td>\n",
       "      <td>BELA VISTA DA CAROBA</td>\n",
       "      <td>PR</td>\n",
       "      <td>0834</td>\n",
       "      <td>BELA VISTA DO CAROBA</td>\n",
       "    </tr>\n",
       "    <tr>\n",
       "      <th>1624</th>\n",
       "      <td>2601607</td>\n",
       "      <td>BELEM DO SAO FRANCISCO</td>\n",
       "      <td>PE</td>\n",
       "      <td>2331</td>\n",
       "      <td>BELEM DE SAO FRANCISCO</td>\n",
       "    </tr>\n",
       "    <tr>\n",
       "      <th>1553</th>\n",
       "      <td>3507803</td>\n",
       "      <td>BRODOWSKI</td>\n",
       "      <td>SP</td>\n",
       "      <td>6257</td>\n",
       "      <td>BRODOSQUI</td>\n",
       "    </tr>\n",
       "    <tr>\n",
       "      <th>41</th>\n",
       "      <td>3301009</td>\n",
       "      <td>CAMPOS DOS GOYTACAZES</td>\n",
       "      <td>RJ</td>\n",
       "      <td>5819</td>\n",
       "      <td>CAMPOS DOS GOITACAZES</td>\n",
       "    </tr>\n",
       "    <tr>\n",
       "      <th>2787</th>\n",
       "      <td>2402709</td>\n",
       "      <td>CERRO CORA</td>\n",
       "      <td>RN</td>\n",
       "      <td>1653</td>\n",
       "      <td>CERRO-CORA</td>\n",
       "    </tr>\n",
       "    <tr>\n",
       "      <th>4920</th>\n",
       "      <td>5103361</td>\n",
       "      <td>CONQUISTA D'OESTE</td>\n",
       "      <td>MT</td>\n",
       "      <td>1082</td>\n",
       "      <td>CONQUISTA D OESTE</td>\n",
       "    </tr>\n",
       "    <tr>\n",
       "      <th>4258</th>\n",
       "      <td>1706001</td>\n",
       "      <td>COUTO MAGALHAES</td>\n",
       "      <td>TO</td>\n",
       "      <td>9321</td>\n",
       "      <td>COUTO DE MAGALHAES</td>\n",
       "    </tr>\n",
       "    <tr>\n",
       "      <th>3941</th>\n",
       "      <td>3122900</td>\n",
       "      <td>DONA EUSEBIA</td>\n",
       "      <td>MG</td>\n",
       "      <td>4457</td>\n",
       "      <td>DONA EUZEBIA</td>\n",
       "    </tr>\n",
       "    <tr>\n",
       "      <th>4196</th>\n",
       "      <td>3123858</td>\n",
       "      <td>ENTRE FOLHAS</td>\n",
       "      <td>MG</td>\n",
       "      <td>2663</td>\n",
       "      <td>ENTRE-FOLHAS</td>\n",
       "    </tr>\n",
       "    <tr>\n",
       "      <th>3184</th>\n",
       "      <td>4306932</td>\n",
       "      <td>ENTRE-IJUIS</td>\n",
       "      <td>RS</td>\n",
       "      <td>8419</td>\n",
       "      <td>ENTRE IJUIS</td>\n",
       "    </tr>\n",
       "    <tr>\n",
       "      <th>5137</th>\n",
       "      <td>3516101</td>\n",
       "      <td>FLORINIA</td>\n",
       "      <td>SP</td>\n",
       "      <td>6423</td>\n",
       "      <td>FLORINEA</td>\n",
       "    </tr>\n",
       "    <tr>\n",
       "      <th>1090</th>\n",
       "      <td>4108601</td>\n",
       "      <td>GOIOERE</td>\n",
       "      <td>PR</td>\n",
       "      <td>7569</td>\n",
       "      <td>GOIO-ERE</td>\n",
       "    </tr>\n",
       "    <tr>\n",
       "      <th>2645</th>\n",
       "      <td>3127602</td>\n",
       "      <td>GOUVEIA</td>\n",
       "      <td>MG</td>\n",
       "      <td>4551</td>\n",
       "      <td>GOUVEA</td>\n",
       "    </tr>\n",
       "    <tr>\n",
       "      <th>2799</th>\n",
       "      <td>3202256</td>\n",
       "      <td>GOVERNADOR LINDENBERG</td>\n",
       "      <td>ES</td>\n",
       "      <td>1114</td>\n",
       "      <td>GOVERNADOR LINDEMBERG</td>\n",
       "    </tr>\n",
       "    <tr>\n",
       "      <th>4041</th>\n",
       "      <td>2802601</td>\n",
       "      <td>GRACHO CARDOSO</td>\n",
       "      <td>SE</td>\n",
       "      <td>3151</td>\n",
       "      <td>GRACCHO CARDOSO</td>\n",
       "    </tr>\n",
       "    <tr>\n",
       "      <th>1457</th>\n",
       "      <td>2607604</td>\n",
       "      <td>ILHA DE ITAMARACA</td>\n",
       "      <td>PE</td>\n",
       "      <td>2451</td>\n",
       "      <td>ITAMARACA</td>\n",
       "    </tr>\n",
       "    <tr>\n",
       "      <th>2841</th>\n",
       "      <td>3131802</td>\n",
       "      <td>ITABIRINHA</td>\n",
       "      <td>MG</td>\n",
       "      <td>4635</td>\n",
       "      <td>ITABIRINHA DE MANTENA</td>\n",
       "    </tr>\n",
       "    <tr>\n",
       "      <th>3857</th>\n",
       "      <td>2406205</td>\n",
       "      <td>LAGOA D'ANTA</td>\n",
       "      <td>RN</td>\n",
       "      <td>1723</td>\n",
       "      <td>LAGOA DANTA</td>\n",
       "    </tr>\n",
       "    <tr>\n",
       "      <th>1582</th>\n",
       "      <td>2608503</td>\n",
       "      <td>LAGOA DE ITAENGA</td>\n",
       "      <td>PE</td>\n",
       "      <td>2469</td>\n",
       "      <td>LAGOA DO ITAENGA</td>\n",
       "    </tr>\n",
       "    <tr>\n",
       "      <th>5541</th>\n",
       "      <td>4209458</td>\n",
       "      <td>LAJEADO GRANDE</td>\n",
       "      <td>SC</td>\n",
       "      <td>5739</td>\n",
       "      <td>LAGEADO GRANDE</td>\n",
       "    </tr>\n",
       "    <tr>\n",
       "      <th>3304</th>\n",
       "      <td>2919058</td>\n",
       "      <td>LAJEDO DO TABOCAL</td>\n",
       "      <td>BA</td>\n",
       "      <td>3291</td>\n",
       "      <td>LAGEDO DO TABOCAL</td>\n",
       "    </tr>\n",
       "    <tr>\n",
       "      <th>192</th>\n",
       "      <td>3530706</td>\n",
       "      <td>MOGI GUACU</td>\n",
       "      <td>SP</td>\n",
       "      <td>6715</td>\n",
       "      <td>MOGI-GUACU</td>\n",
       "    </tr>\n",
       "    <tr>\n",
       "      <th>325</th>\n",
       "      <td>3530805</td>\n",
       "      <td>MOJI MIRIM</td>\n",
       "      <td>SP</td>\n",
       "      <td>6717</td>\n",
       "      <td>MOGI-MIRIM</td>\n",
       "    </tr>\n",
       "    <tr>\n",
       "      <th>5569</th>\n",
       "      <td>NaN</td>\n",
       "      <td>MOJUÍ DOS CAMPOS</td>\n",
       "      <td>PA</td>\n",
       "      <td>1190</td>\n",
       "      <td>--- (novo)</td>\n",
       "    </tr>\n",
       "    <tr>\n",
       "      <th>...</th>\n",
       "      <td>...</td>\n",
       "      <td>...</td>\n",
       "      <td>...</td>\n",
       "      <td>...</td>\n",
       "      <td>...</td>\n",
       "    </tr>\n",
       "    <tr>\n",
       "      <th>5625</th>\n",
       "      <td>NaN</td>\n",
       "      <td>PARAÍSO DAS ÁGUAS</td>\n",
       "      <td>MS</td>\n",
       "      <td>1196</td>\n",
       "      <td>--- (novo)</td>\n",
       "    </tr>\n",
       "    <tr>\n",
       "      <th>5423</th>\n",
       "      <td>3147808</td>\n",
       "      <td>PASSA-VINTE</td>\n",
       "      <td>MG</td>\n",
       "      <td>4955</td>\n",
       "      <td>PASSA VINTE</td>\n",
       "    </tr>\n",
       "    <tr>\n",
       "      <th>4775</th>\n",
       "      <td>2207793</td>\n",
       "      <td>PAU D'ARCO DO PIAUI</td>\n",
       "      <td>PI</td>\n",
       "      <td>1104</td>\n",
       "      <td>PAU D ARCO DO PIAUI</td>\n",
       "    </tr>\n",
       "    <tr>\n",
       "      <th>2822</th>\n",
       "      <td>1600154</td>\n",
       "      <td>PEDRA BRANCA DO AMAPARI</td>\n",
       "      <td>AP</td>\n",
       "      <td>0663</td>\n",
       "      <td>AMAPARI</td>\n",
       "    </tr>\n",
       "    <tr>\n",
       "      <th>5622</th>\n",
       "      <td>NaN</td>\n",
       "      <td>PESCARIA BRAVA</td>\n",
       "      <td>SC</td>\n",
       "      <td>1194</td>\n",
       "      <td>--- (novo)</td>\n",
       "    </tr>\n",
       "    <tr>\n",
       "      <th>1010</th>\n",
       "      <td>2108504</td>\n",
       "      <td>PINDARE-MIRIM</td>\n",
       "      <td>MA</td>\n",
       "      <td>0867</td>\n",
       "      <td>PINDARE MIRIM</td>\n",
       "    </tr>\n",
       "    <tr>\n",
       "      <th>4491</th>\n",
       "      <td>3150539</td>\n",
       "      <td>PINGO-D'AGUA</td>\n",
       "      <td>MG</td>\n",
       "      <td>0688</td>\n",
       "      <td>PINGO D'AGUA</td>\n",
       "    </tr>\n",
       "    <tr>\n",
       "      <th>5235</th>\n",
       "      <td>4119251</td>\n",
       "      <td>PINHAL DE SAO BENTO</td>\n",
       "      <td>PR</td>\n",
       "      <td>5495</td>\n",
       "      <td>PINHAL DO SAO BENTO</td>\n",
       "    </tr>\n",
       "    <tr>\n",
       "      <th>5631</th>\n",
       "      <td>NaN</td>\n",
       "      <td>PINTO BANDEIRA</td>\n",
       "      <td>RS</td>\n",
       "      <td>1160</td>\n",
       "      <td>--- (novo)</td>\n",
       "    </tr>\n",
       "    <tr>\n",
       "      <th>5508</th>\n",
       "      <td>4213906</td>\n",
       "      <td>PRESIDENTE CASTELLO BRANCO</td>\n",
       "      <td>SC</td>\n",
       "      <td>8273</td>\n",
       "      <td>PRESIDENTE CASTELO BRANCO</td>\n",
       "    </tr>\n",
       "    <tr>\n",
       "      <th>3218</th>\n",
       "      <td>2410306</td>\n",
       "      <td>PRESIDENTE JUSCELINO</td>\n",
       "      <td>RN</td>\n",
       "      <td>1805</td>\n",
       "      <td>SERRA CAIADA</td>\n",
       "    </tr>\n",
       "    <tr>\n",
       "      <th>5476</th>\n",
       "      <td>3153806</td>\n",
       "      <td>QUELUZITO</td>\n",
       "      <td>MG</td>\n",
       "      <td>5075</td>\n",
       "      <td>QUELUZITA</td>\n",
       "    </tr>\n",
       "    <tr>\n",
       "      <th>4328</th>\n",
       "      <td>3545100</td>\n",
       "      <td>SALMOURAO</td>\n",
       "      <td>SP</td>\n",
       "      <td>7003</td>\n",
       "      <td>SALMORAO</td>\n",
       "    </tr>\n",
       "    <tr>\n",
       "      <th>345</th>\n",
       "      <td>4317103</td>\n",
       "      <td>SANT'ANA DO LIVRAMENTO</td>\n",
       "      <td>RS</td>\n",
       "      <td>8845</td>\n",
       "      <td>SANTANA DO LIVRAMENTO</td>\n",
       "    </tr>\n",
       "    <tr>\n",
       "      <th>4631</th>\n",
       "      <td>5107248</td>\n",
       "      <td>SANTA CARMEM</td>\n",
       "      <td>MT</td>\n",
       "      <td>0123</td>\n",
       "      <td>SANTA CARMEN</td>\n",
       "    </tr>\n",
       "    <tr>\n",
       "      <th>3359</th>\n",
       "      <td>4123303</td>\n",
       "      <td>SANTA CRUZ DE MONTE CASTELO</td>\n",
       "      <td>PR</td>\n",
       "      <td>7843</td>\n",
       "      <td>SANTA CRUZ DO MONTE CASTELO</td>\n",
       "    </tr>\n",
       "    <tr>\n",
       "      <th>4840</th>\n",
       "      <td>3159407</td>\n",
       "      <td>SANTA RITA DE IBITIPOCA</td>\n",
       "      <td>MG</td>\n",
       "      <td>5187</td>\n",
       "      <td>SANTA RITA DO IBITIPOCA</td>\n",
       "    </tr>\n",
       "    <tr>\n",
       "      <th>4408</th>\n",
       "      <td>1200435</td>\n",
       "      <td>SANTA ROSA DO PURUS</td>\n",
       "      <td>AC</td>\n",
       "      <td>0661</td>\n",
       "      <td>SANTA ROSA</td>\n",
       "    </tr>\n",
       "    <tr>\n",
       "      <th>4602</th>\n",
       "      <td>2513927</td>\n",
       "      <td>SAO BENTINHO</td>\n",
       "      <td>PB</td>\n",
       "      <td>0518</td>\n",
       "      <td>SAO BENTO DE POMBAL</td>\n",
       "    </tr>\n",
       "    <tr>\n",
       "      <th>5127</th>\n",
       "      <td>2513968</td>\n",
       "      <td>SAO DOMINGOS</td>\n",
       "      <td>PB</td>\n",
       "      <td>0522</td>\n",
       "      <td>SAO DOMINGOS DE POMBAL</td>\n",
       "    </tr>\n",
       "    <tr>\n",
       "      <th>4063</th>\n",
       "      <td>2209658</td>\n",
       "      <td>SAO FRANCISCO DE ASSIS DO PIAUI</td>\n",
       "      <td>PI</td>\n",
       "      <td>0380</td>\n",
       "      <td>SAO FRANCISCO DE ASSIS DO PIAU</td>\n",
       "    </tr>\n",
       "    <tr>\n",
       "      <th>1513</th>\n",
       "      <td>4216909</td>\n",
       "      <td>SAO LOURENCO DO OESTE</td>\n",
       "      <td>SC</td>\n",
       "      <td>8333</td>\n",
       "      <td>SAO LOURENCO D'OESTE</td>\n",
       "    </tr>\n",
       "    <tr>\n",
       "      <th>3234</th>\n",
       "      <td>2412559</td>\n",
       "      <td>SAO MIGUEL DO GOSTOSO</td>\n",
       "      <td>RN</td>\n",
       "      <td>0430</td>\n",
       "      <td>SAO MIGUEL DE TOUROS</td>\n",
       "    </tr>\n",
       "    <tr>\n",
       "      <th>844</th>\n",
       "      <td>4217204</td>\n",
       "      <td>SAO MIGUEL DO OESTE</td>\n",
       "      <td>SC</td>\n",
       "      <td>8339</td>\n",
       "      <td>SAO MIGUEL D'OESTE</td>\n",
       "    </tr>\n",
       "    <tr>\n",
       "      <th>3728</th>\n",
       "      <td>3165206</td>\n",
       "      <td>SAO THOME DAS LETRAS</td>\n",
       "      <td>MG</td>\n",
       "      <td>5303</td>\n",
       "      <td>SAO TOME DAS LETRAS</td>\n",
       "    </tr>\n",
       "    <tr>\n",
       "      <th>4511</th>\n",
       "      <td>1720499</td>\n",
       "      <td>SAO VALERIO</td>\n",
       "      <td>TO</td>\n",
       "      <td>9691</td>\n",
       "      <td>SAO VALERIO DA NATIVIDADE</td>\n",
       "    </tr>\n",
       "    <tr>\n",
       "      <th>3511</th>\n",
       "      <td>3552304</td>\n",
       "      <td>SUD MENNUCCI</td>\n",
       "      <td>SP</td>\n",
       "      <td>7147</td>\n",
       "      <td>SUD MENUCCI</td>\n",
       "    </tr>\n",
       "    <tr>\n",
       "      <th>4922</th>\n",
       "      <td>3552551</td>\n",
       "      <td>SUZANAPOLIS</td>\n",
       "      <td>SP</td>\n",
       "      <td>2945</td>\n",
       "      <td>SUZANOPOLIS</td>\n",
       "    </tr>\n",
       "    <tr>\n",
       "      <th>2973</th>\n",
       "      <td>3305901</td>\n",
       "      <td>TRAJANO DE MORAES</td>\n",
       "      <td>RJ</td>\n",
       "      <td>5917</td>\n",
       "      <td>TRAJANO DE MORAIS</td>\n",
       "    </tr>\n",
       "    <tr>\n",
       "      <th>2230</th>\n",
       "      <td>5105507</td>\n",
       "      <td>VILA BELA DA SANTISSIMA TRINDADE</td>\n",
       "      <td>MT</td>\n",
       "      <td>9109</td>\n",
       "      <td>VILA BELA DA SANTISSIMA TRINDA</td>\n",
       "    </tr>\n",
       "  </tbody>\n",
       "</table>\n",
       "<p>63 rows × 5 columns</p>\n",
       "</div>"
      ],
      "text/plain": [
       "     CodMunicipio                     NomeMunicipio  UF CodigoSIAFImunicipio  \\\n",
       "558       2400208                               ACU  RN                 1603   \n",
       "4994      4128625                      ALTO PARAISO  PR                 5523   \n",
       "4233      3102506                   AMPARO DO SERRA  MG                 4049   \n",
       "1154      3300233                ARMACAO DOS BUZIOS  RJ                 0770   \n",
       "3130      2401305                    AUGUSTO SEVERO  RN                 1625   \n",
       "5612          NaN                  BALNEARIO RINCÃO  SC                 1192   \n",
       "4685      4102752              BELA VISTA DA CAROBA  PR                 0834   \n",
       "1624      2601607            BELEM DO SAO FRANCISCO  PE                 2331   \n",
       "1553      3507803                         BRODOWSKI  SP                 6257   \n",
       "41        3301009             CAMPOS DOS GOYTACAZES  RJ                 5819   \n",
       "2787      2402709                        CERRO CORA  RN                 1653   \n",
       "4920      5103361                 CONQUISTA D'OESTE  MT                 1082   \n",
       "4258      1706001                   COUTO MAGALHAES  TO                 9321   \n",
       "3941      3122900                      DONA EUSEBIA  MG                 4457   \n",
       "4196      3123858                      ENTRE FOLHAS  MG                 2663   \n",
       "3184      4306932                       ENTRE-IJUIS  RS                 8419   \n",
       "5137      3516101                          FLORINIA  SP                 6423   \n",
       "1090      4108601                           GOIOERE  PR                 7569   \n",
       "2645      3127602                           GOUVEIA  MG                 4551   \n",
       "2799      3202256             GOVERNADOR LINDENBERG  ES                 1114   \n",
       "4041      2802601                    GRACHO CARDOSO  SE                 3151   \n",
       "1457      2607604                 ILHA DE ITAMARACA  PE                 2451   \n",
       "2841      3131802                        ITABIRINHA  MG                 4635   \n",
       "3857      2406205                      LAGOA D'ANTA  RN                 1723   \n",
       "1582      2608503                  LAGOA DE ITAENGA  PE                 2469   \n",
       "5541      4209458                    LAJEADO GRANDE  SC                 5739   \n",
       "3304      2919058                 LAJEDO DO TABOCAL  BA                 3291   \n",
       "192       3530706                        MOGI GUACU  SP                 6715   \n",
       "325       3530805                        MOJI MIRIM  SP                 6717   \n",
       "5569          NaN                  MOJUÍ DOS CAMPOS  PA                 1190   \n",
       "...           ...                               ...  ..                  ...   \n",
       "5625          NaN                 PARAÍSO DAS ÁGUAS  MS                 1196   \n",
       "5423      3147808                       PASSA-VINTE  MG                 4955   \n",
       "4775      2207793               PAU D'ARCO DO PIAUI  PI                 1104   \n",
       "2822      1600154           PEDRA BRANCA DO AMAPARI  AP                 0663   \n",
       "5622          NaN                    PESCARIA BRAVA  SC                 1194   \n",
       "1010      2108504                     PINDARE-MIRIM  MA                 0867   \n",
       "4491      3150539                      PINGO-D'AGUA  MG                 0688   \n",
       "5235      4119251               PINHAL DE SAO BENTO  PR                 5495   \n",
       "5631          NaN                    PINTO BANDEIRA  RS                 1160   \n",
       "5508      4213906        PRESIDENTE CASTELLO BRANCO  SC                 8273   \n",
       "3218      2410306              PRESIDENTE JUSCELINO  RN                 1805   \n",
       "5476      3153806                         QUELUZITO  MG                 5075   \n",
       "4328      3545100                         SALMOURAO  SP                 7003   \n",
       "345       4317103            SANT'ANA DO LIVRAMENTO  RS                 8845   \n",
       "4631      5107248                      SANTA CARMEM  MT                 0123   \n",
       "3359      4123303       SANTA CRUZ DE MONTE CASTELO  PR                 7843   \n",
       "4840      3159407           SANTA RITA DE IBITIPOCA  MG                 5187   \n",
       "4408      1200435               SANTA ROSA DO PURUS  AC                 0661   \n",
       "4602      2513927                      SAO BENTINHO  PB                 0518   \n",
       "5127      2513968                      SAO DOMINGOS  PB                 0522   \n",
       "4063      2209658   SAO FRANCISCO DE ASSIS DO PIAUI  PI                 0380   \n",
       "1513      4216909             SAO LOURENCO DO OESTE  SC                 8333   \n",
       "3234      2412559             SAO MIGUEL DO GOSTOSO  RN                 0430   \n",
       "844       4217204               SAO MIGUEL DO OESTE  SC                 8339   \n",
       "3728      3165206              SAO THOME DAS LETRAS  MG                 5303   \n",
       "4511      1720499                       SAO VALERIO  TO                 9691   \n",
       "3511      3552304                      SUD MENNUCCI  SP                 7147   \n",
       "4922      3552551                       SUZANAPOLIS  SP                 2945   \n",
       "2973      3305901                 TRAJANO DE MORAES  RJ                 5917   \n",
       "2230      5105507  VILA BELA DA SANTISSIMA TRINDADE  MT                 9109   \n",
       "\n",
       "                     NomeAlternativo  \n",
       "558                             ASSU  \n",
       "4994                       VILA ALTA  \n",
       "4233                 AMPARO DA SERRA  \n",
       "1154               ARMACAO DE BUZIOS  \n",
       "3130                    CAMPO GRANDE  \n",
       "5612                      --- (novo)  \n",
       "4685            BELA VISTA DO CAROBA  \n",
       "1624          BELEM DE SAO FRANCISCO  \n",
       "1553                       BRODOSQUI  \n",
       "41             CAMPOS DOS GOITACAZES  \n",
       "2787                      CERRO-CORA  \n",
       "4920               CONQUISTA D OESTE  \n",
       "4258              COUTO DE MAGALHAES  \n",
       "3941                    DONA EUZEBIA  \n",
       "4196                    ENTRE-FOLHAS  \n",
       "3184                     ENTRE IJUIS  \n",
       "5137                        FLORINEA  \n",
       "1090                        GOIO-ERE  \n",
       "2645                          GOUVEA  \n",
       "2799           GOVERNADOR LINDEMBERG  \n",
       "4041                 GRACCHO CARDOSO  \n",
       "1457                       ITAMARACA  \n",
       "2841           ITABIRINHA DE MANTENA  \n",
       "3857                     LAGOA DANTA  \n",
       "1582                LAGOA DO ITAENGA  \n",
       "5541                  LAGEADO GRANDE  \n",
       "3304               LAGEDO DO TABOCAL  \n",
       "192                       MOGI-GUACU  \n",
       "325                       MOGI-MIRIM  \n",
       "5569                      --- (novo)  \n",
       "...                              ...  \n",
       "5625                      --- (novo)  \n",
       "5423                     PASSA VINTE  \n",
       "4775             PAU D ARCO DO PIAUI  \n",
       "2822                         AMAPARI  \n",
       "5622                      --- (novo)  \n",
       "1010                   PINDARE MIRIM  \n",
       "4491                    PINGO D'AGUA  \n",
       "5235             PINHAL DO SAO BENTO  \n",
       "5631                      --- (novo)  \n",
       "5508       PRESIDENTE CASTELO BRANCO  \n",
       "3218                    SERRA CAIADA  \n",
       "5476                       QUELUZITA  \n",
       "4328                        SALMORAO  \n",
       "345            SANTANA DO LIVRAMENTO  \n",
       "4631                    SANTA CARMEN  \n",
       "3359     SANTA CRUZ DO MONTE CASTELO  \n",
       "4840         SANTA RITA DO IBITIPOCA  \n",
       "4408                      SANTA ROSA  \n",
       "4602             SAO BENTO DE POMBAL  \n",
       "5127          SAO DOMINGOS DE POMBAL  \n",
       "4063  SAO FRANCISCO DE ASSIS DO PIAU  \n",
       "1513            SAO LOURENCO D'OESTE  \n",
       "3234            SAO MIGUEL DE TOUROS  \n",
       "844               SAO MIGUEL D'OESTE  \n",
       "3728             SAO TOME DAS LETRAS  \n",
       "4511       SAO VALERIO DA NATIVIDADE  \n",
       "3511                     SUD MENUCCI  \n",
       "4922                     SUZANOPOLIS  \n",
       "2973               TRAJANO DE MORAIS  \n",
       "2230  VILA BELA DA SANTISSIMA TRINDA  \n",
       "\n",
       "[63 rows x 5 columns]"
      ]
     },
     "execution_count": 247,
     "metadata": {},
     "output_type": "execute_result"
    }
   ],
   "source": [
    "print(len(dfMunicipiosRelated[dfMunicipiosRelated.NomeAlternativo.notnull()]))\n",
    "dfMunicipiosRelated[dfMunicipiosRelated.NomeAlternativo.notnull()]"
   ]
  },
  {
   "cell_type": "markdown",
   "metadata": {},
   "source": [
    "Criei tabela relacionando cada UF a sua respectiva região do país."
   ]
  },
  {
   "cell_type": "code",
   "execution_count": 248,
   "metadata": {
    "collapsed": true
   },
   "outputs": [],
   "source": [
    "REGIOES_BRASIL={\n",
    "    'AM': 'Norte',\n",
    "    'RR': 'Norte',\n",
    "    'AP': 'Norte',\n",
    "    'PA': 'Norte',\n",
    "    'TO': 'Norte',\n",
    "    'RO': 'Norte',\n",
    "    'AC': 'Norte',\n",
    "    'MA': 'Nordeste',\n",
    "    'PI': 'Nordeste',\n",
    "    'CE': 'Nordeste',\n",
    "    'RN': 'Nordeste',\n",
    "    'PE': 'Nordeste',\n",
    "    'PB': 'Nordeste',\n",
    "    'SE': 'Nordeste',\n",
    "    'AL': 'Nordeste',\n",
    "    'BA': 'Nordeste',\n",
    "    'MT': 'Centro-Oeste',\n",
    "    'MS': 'Centro-Oeste',\n",
    "    'GO': 'Centro-Oeste',\n",
    "    'SP': 'Sudeste',\n",
    "    'RJ': 'Sudeste',\n",
    "    'ES': 'Sudeste',\n",
    "    'MG': 'Sudeste',\n",
    "    'PR': 'Sul',\n",
    "    'RS': 'Sul',\n",
    "    'SC': 'Sul',\n",
    "    'DF': 'Distrito Federal'}"
   ]
  },
  {
   "cell_type": "code",
   "execution_count": 249,
   "metadata": {
    "collapsed": false
   },
   "outputs": [],
   "source": [
    "dfMunicipiosRelated['Regiao']=dfMunicipiosRelated.UF.map(REGIOES_BRASIL)"
   ]
  },
  {
   "cell_type": "code",
   "execution_count": 252,
   "metadata": {
    "collapsed": true
   },
   "outputs": [],
   "source": [
    "dfMunicipiosRelated = dfMunicipiosRelated[['CodMunicipio', 'CodigoSIAFImunicipio', 'NomeMunicipio', 'UF', 'Regiao', 'NomeAlternativo']]"
   ]
  },
  {
   "cell_type": "code",
   "execution_count": 253,
   "metadata": {
    "collapsed": false
   },
   "outputs": [
    {
     "data": {
      "text/html": [
       "<div>\n",
       "<table border=\"1\" class=\"dataframe\">\n",
       "  <thead>\n",
       "    <tr style=\"text-align: right;\">\n",
       "      <th></th>\n",
       "      <th>CodMunicipio</th>\n",
       "      <th>CodigoSIAFImunicipio</th>\n",
       "      <th>NomeMunicipio</th>\n",
       "      <th>UF</th>\n",
       "      <th>Regiao</th>\n",
       "      <th>NomeAlternativo</th>\n",
       "    </tr>\n",
       "  </thead>\n",
       "  <tbody>\n",
       "    <tr>\n",
       "      <th>3672</th>\n",
       "      <td>5200050</td>\n",
       "      <td>1050</td>\n",
       "      <td>ABADIA DE GOIAS</td>\n",
       "      <td>GO</td>\n",
       "      <td>Centro-Oeste</td>\n",
       "      <td>None</td>\n",
       "    </tr>\n",
       "    <tr>\n",
       "      <th>3715</th>\n",
       "      <td>3100104</td>\n",
       "      <td>4001</td>\n",
       "      <td>ABADIA DOS DOURADOS</td>\n",
       "      <td>MG</td>\n",
       "      <td>Sudeste</td>\n",
       "      <td>None</td>\n",
       "    </tr>\n",
       "    <tr>\n",
       "      <th>2081</th>\n",
       "      <td>5200100</td>\n",
       "      <td>9201</td>\n",
       "      <td>ABADIANIA</td>\n",
       "      <td>GO</td>\n",
       "      <td>Centro-Oeste</td>\n",
       "      <td>None</td>\n",
       "    </tr>\n",
       "    <tr>\n",
       "      <th>1437</th>\n",
       "      <td>3100203</td>\n",
       "      <td>4003</td>\n",
       "      <td>ABAETE</td>\n",
       "      <td>MG</td>\n",
       "      <td>Sudeste</td>\n",
       "      <td>None</td>\n",
       "    </tr>\n",
       "    <tr>\n",
       "      <th>186</th>\n",
       "      <td>1500107</td>\n",
       "      <td>0401</td>\n",
       "      <td>ABAETETUBA</td>\n",
       "      <td>PA</td>\n",
       "      <td>Norte</td>\n",
       "      <td>None</td>\n",
       "    </tr>\n",
       "  </tbody>\n",
       "</table>\n",
       "</div>"
      ],
      "text/plain": [
       "     CodMunicipio CodigoSIAFImunicipio        NomeMunicipio  UF        Regiao  \\\n",
       "3672      5200050                 1050      ABADIA DE GOIAS  GO  Centro-Oeste   \n",
       "3715      3100104                 4001  ABADIA DOS DOURADOS  MG       Sudeste   \n",
       "2081      5200100                 9201            ABADIANIA  GO  Centro-Oeste   \n",
       "1437      3100203                 4003               ABAETE  MG       Sudeste   \n",
       "186       1500107                 0401           ABAETETUBA  PA         Norte   \n",
       "\n",
       "     NomeAlternativo  \n",
       "3672            None  \n",
       "3715            None  \n",
       "2081            None  \n",
       "1437            None  \n",
       "186             None  "
      ]
     },
     "execution_count": 253,
     "metadata": {},
     "output_type": "execute_result"
    }
   ],
   "source": [
    "dfMunicipiosRelated.head()"
   ]
  },
  {
   "cell_type": "markdown",
   "metadata": {},
   "source": [
    "#### Inserindo coordenadas dos municípios (obtive um script SQL do blog (https://updatedcode.wordpress.com/2014/08/23/tabela-das-cidades-brasileiras/), contendo lista de municípios e suas respectivas latitude e longitude médias). Manualmente transformei este arquivo em CSV."
   ]
  },
  {
   "cell_type": "code",
   "execution_count": 354,
   "metadata": {
    "collapsed": true
   },
   "outputs": [],
   "source": [
    "df_geo = pd.read_csv('Municipios_Brasileiros_Localizacao.csv', dtype={\"Codigo\": np.str})"
   ]
  },
  {
   "cell_type": "code",
   "execution_count": 355,
   "metadata": {
    "collapsed": false
   },
   "outputs": [
    {
     "data": {
      "text/html": [
       "<div>\n",
       "<table border=\"1\" class=\"dataframe\">\n",
       "  <thead>\n",
       "    <tr style=\"text-align: right;\">\n",
       "      <th></th>\n",
       "      <th>Codigo</th>\n",
       "      <th>NomeMunicipio</th>\n",
       "      <th>UF</th>\n",
       "      <th>Latitude</th>\n",
       "      <th>Longitude</th>\n",
       "    </tr>\n",
       "  </thead>\n",
       "  <tbody>\n",
       "    <tr>\n",
       "      <th>0</th>\n",
       "      <td>5200050</td>\n",
       "      <td>Abadia de Goiás</td>\n",
       "      <td>GO</td>\n",
       "      <td>-16.75730</td>\n",
       "      <td>-49.4412</td>\n",
       "    </tr>\n",
       "    <tr>\n",
       "      <th>1</th>\n",
       "      <td>3100104</td>\n",
       "      <td>Abadia dos Dourados</td>\n",
       "      <td>MG</td>\n",
       "      <td>-18.48310</td>\n",
       "      <td>-47.3916</td>\n",
       "    </tr>\n",
       "    <tr>\n",
       "      <th>2</th>\n",
       "      <td>5200100</td>\n",
       "      <td>Abadiânia</td>\n",
       "      <td>GO</td>\n",
       "      <td>-16.19700</td>\n",
       "      <td>-48.7057</td>\n",
       "    </tr>\n",
       "    <tr>\n",
       "      <th>3</th>\n",
       "      <td>3100203</td>\n",
       "      <td>Abaeté</td>\n",
       "      <td>MG</td>\n",
       "      <td>-19.15510</td>\n",
       "      <td>-45.4444</td>\n",
       "    </tr>\n",
       "    <tr>\n",
       "      <th>4</th>\n",
       "      <td>1500107</td>\n",
       "      <td>Abaetetuba</td>\n",
       "      <td>PA</td>\n",
       "      <td>-1.72183</td>\n",
       "      <td>-48.8788</td>\n",
       "    </tr>\n",
       "  </tbody>\n",
       "</table>\n",
       "</div>"
      ],
      "text/plain": [
       "    Codigo        NomeMunicipio  UF  Latitude  Longitude\n",
       "0  5200050      Abadia de Goiás  GO -16.75730   -49.4412\n",
       "1  3100104  Abadia dos Dourados  MG -18.48310   -47.3916\n",
       "2  5200100            Abadiânia  GO -16.19700   -48.7057\n",
       "3  3100203               Abaeté  MG -19.15510   -45.4444\n",
       "4  1500107           Abaetetuba  PA  -1.72183   -48.8788"
      ]
     },
     "execution_count": 355,
     "metadata": {},
     "output_type": "execute_result"
    }
   ],
   "source": [
    "df_geo.head()"
   ]
  },
  {
   "cell_type": "code",
   "execution_count": 356,
   "metadata": {
    "collapsed": false
   },
   "outputs": [
    {
     "name": "stdout",
     "output_type": "stream",
     "text": [
      "<class 'pandas.core.frame.DataFrame'>\n",
      "Int64Index: 5570 entries, 3672 to 5063\n",
      "Data columns (total 6 columns):\n",
      "CodMunicipio            5565 non-null object\n",
      "CodigoSIAFImunicipio    5570 non-null object\n",
      "NomeMunicipio           5570 non-null object\n",
      "UF                      5570 non-null object\n",
      "Regiao                  5570 non-null object\n",
      "NomeAlternativo         63 non-null object\n",
      "dtypes: object(6)\n",
      "memory usage: 304.6+ KB\n"
     ]
    }
   ],
   "source": [
    "dfMunicipiosRelated.info()"
   ]
  },
  {
   "cell_type": "code",
   "execution_count": 357,
   "metadata": {
    "collapsed": false
   },
   "outputs": [
    {
     "name": "stdout",
     "output_type": "stream",
     "text": [
      "<class 'pandas.core.frame.DataFrame'>\n",
      "RangeIndex: 5478 entries, 0 to 5477\n",
      "Data columns (total 5 columns):\n",
      "Codigo           5478 non-null object\n",
      "NomeMunicipio    5478 non-null object\n",
      "UF               5478 non-null object\n",
      "Latitude         5478 non-null float64\n",
      "Longitude        5478 non-null float64\n",
      "dtypes: float64(2), object(3)\n",
      "memory usage: 214.1+ KB\n"
     ]
    }
   ],
   "source": [
    "df_geo.info()"
   ]
  },
  {
   "cell_type": "code",
   "execution_count": 376,
   "metadata": {
    "collapsed": false
   },
   "outputs": [],
   "source": [
    "dfMunicipiosRelated = dfMunicipiosRelated.merge(df_geo[['Codigo','Latitude','Longitude']], left_on=\"CodMunicipio\", right_on=\"Codigo\", how=\"left\")"
   ]
  },
  {
   "cell_type": "code",
   "execution_count": 377,
   "metadata": {
    "collapsed": false
   },
   "outputs": [
    {
     "name": "stdout",
     "output_type": "stream",
     "text": [
      "<class 'pandas.core.frame.DataFrame'>\n",
      "Int64Index: 5570 entries, 0 to 5569\n",
      "Data columns (total 9 columns):\n",
      "CodMunicipio            5565 non-null object\n",
      "CodigoSIAFImunicipio    5570 non-null object\n",
      "NomeMunicipio           5570 non-null object\n",
      "UF                      5570 non-null object\n",
      "Regiao                  5570 non-null object\n",
      "NomeAlternativo         63 non-null object\n",
      "Codigo                  5478 non-null object\n",
      "Latitude                5478 non-null float64\n",
      "Longitude               5478 non-null float64\n",
      "dtypes: float64(2), object(7)\n",
      "memory usage: 435.2+ KB\n"
     ]
    }
   ],
   "source": [
    "dfMunicipiosRelated.info()"
   ]
  },
  {
   "cell_type": "code",
   "execution_count": 379,
   "metadata": {
    "collapsed": true
   },
   "outputs": [],
   "source": [
    "del dfMunicipiosRelated['Codigo']"
   ]
  },
  {
   "cell_type": "markdown",
   "metadata": {},
   "source": [
    "#### Obtendo o código do IBGE para cada município da tabela"
   ]
  },
  {
   "cell_type": "code",
   "execution_count": 313,
   "metadata": {
    "collapsed": false
   },
   "outputs": [],
   "source": [
    "df = dfBolsaGrouped.merge(dfMunicipiosRelated, on='CodigoSIAFImunicipio')"
   ]
  },
  {
   "cell_type": "code",
   "execution_count": 322,
   "metadata": {
    "collapsed": false
   },
   "outputs": [
    {
     "data": {
      "text/html": [
       "<div>\n",
       "<table border=\"1\" class=\"dataframe\">\n",
       "  <thead>\n",
       "    <tr style=\"text-align: right;\">\n",
       "      <th></th>\n",
       "      <th>CodigoSIAFImunicipio</th>\n",
       "      <th>ValorMedio</th>\n",
       "      <th>ValorTotal</th>\n",
       "      <th>Count</th>\n",
       "      <th>CodMunicipio</th>\n",
       "      <th>NomeMunicipio</th>\n",
       "      <th>UF</th>\n",
       "      <th>Regiao</th>\n",
       "      <th>NomeAlternativo</th>\n",
       "    </tr>\n",
       "  </thead>\n",
       "  <tbody>\n",
       "    <tr>\n",
       "      <th>37</th>\n",
       "      <td>0038</td>\n",
       "      <td>371.703100</td>\n",
       "      <td>455708.0</td>\n",
       "      <td>1226</td>\n",
       "      <td>1400704</td>\n",
       "      <td>UIRAMUTA</td>\n",
       "      <td>RR</td>\n",
       "      <td>Norte</td>\n",
       "      <td>None</td>\n",
       "    </tr>\n",
       "    <tr>\n",
       "      <th>659</th>\n",
       "      <td>0661</td>\n",
       "      <td>366.329359</td>\n",
       "      <td>245807.0</td>\n",
       "      <td>671</td>\n",
       "      <td>1200435</td>\n",
       "      <td>SANTA ROSA DO PURUS</td>\n",
       "      <td>AC</td>\n",
       "      <td>Norte</td>\n",
       "      <td>SANTA ROSA</td>\n",
       "    </tr>\n",
       "    <tr>\n",
       "      <th>440</th>\n",
       "      <td>0442</td>\n",
       "      <td>359.765657</td>\n",
       "      <td>178084.0</td>\n",
       "      <td>495</td>\n",
       "      <td>2500577</td>\n",
       "      <td>ALGODAO DE JANDAIRA</td>\n",
       "      <td>PB</td>\n",
       "      <td>Nordeste</td>\n",
       "      <td>None</td>\n",
       "    </tr>\n",
       "    <tr>\n",
       "      <th>154</th>\n",
       "      <td>0155</td>\n",
       "      <td>329.753465</td>\n",
       "      <td>452092.0</td>\n",
       "      <td>1371</td>\n",
       "      <td>1200344</td>\n",
       "      <td>MANOEL URBANO</td>\n",
       "      <td>AC</td>\n",
       "      <td>Norte</td>\n",
       "      <td>None</td>\n",
       "    </tr>\n",
       "    <tr>\n",
       "      <th>258</th>\n",
       "      <td>0259</td>\n",
       "      <td>323.359613</td>\n",
       "      <td>935156.0</td>\n",
       "      <td>2892</td>\n",
       "      <td>1302801</td>\n",
       "      <td>MARAA</td>\n",
       "      <td>AM</td>\n",
       "      <td>Norte</td>\n",
       "      <td>None</td>\n",
       "    </tr>\n",
       "  </tbody>\n",
       "</table>\n",
       "</div>"
      ],
      "text/plain": [
       "    CodigoSIAFImunicipio  ValorMedio  ValorTotal  Count CodMunicipio  \\\n",
       "37                  0038  371.703100    455708.0   1226      1400704   \n",
       "659                 0661  366.329359    245807.0    671      1200435   \n",
       "440                 0442  359.765657    178084.0    495      2500577   \n",
       "154                 0155  329.753465    452092.0   1371      1200344   \n",
       "258                 0259  323.359613    935156.0   2892      1302801   \n",
       "\n",
       "           NomeMunicipio  UF    Regiao NomeAlternativo  \n",
       "37              UIRAMUTA  RR     Norte            None  \n",
       "659  SANTA ROSA DO PURUS  AC     Norte      SANTA ROSA  \n",
       "440  ALGODAO DE JANDAIRA  PB  Nordeste            None  \n",
       "154        MANOEL URBANO  AC     Norte            None  \n",
       "258                MARAA  AM     Norte            None  "
      ]
     },
     "execution_count": 322,
     "metadata": {},
     "output_type": "execute_result"
    }
   ],
   "source": [
    "df.sort_values('ValorMedio', ascending=False).head()"
   ]
  },
  {
   "cell_type": "markdown",
   "metadata": {},
   "source": [
    "#### Mesclando com os dados do Censo de cada município\n",
    "\n",
    "Optei por ignorar os 5 novos municípios criados pós-Censo de 2010."
   ]
  },
  {
   "cell_type": "code",
   "execution_count": 324,
   "metadata": {
    "collapsed": true
   },
   "outputs": [],
   "source": [
    "df2 = df.merge(df_municipios[['CodMunicipio','TotalPopulacao2010','TotalPopulacaoUrbana','TotalPopulacaoRural']], on='CodMunicipio')"
   ]
  },
  {
   "cell_type": "code",
   "execution_count": 328,
   "metadata": {
    "collapsed": false
   },
   "outputs": [
    {
     "data": {
      "text/html": [
       "<div>\n",
       "<table border=\"1\" class=\"dataframe\">\n",
       "  <thead>\n",
       "    <tr style=\"text-align: right;\">\n",
       "      <th></th>\n",
       "      <th>CodigoSIAFImunicipio</th>\n",
       "      <th>ValorMedio</th>\n",
       "      <th>ValorTotal</th>\n",
       "      <th>Count</th>\n",
       "      <th>CodMunicipio</th>\n",
       "      <th>NomeMunicipio</th>\n",
       "      <th>UF</th>\n",
       "      <th>Regiao</th>\n",
       "      <th>NomeAlternativo</th>\n",
       "      <th>TotalPopulacao2010</th>\n",
       "      <th>TotalPopulacaoUrbana</th>\n",
       "      <th>TotalPopulacaoRural</th>\n",
       "    </tr>\n",
       "  </thead>\n",
       "  <tbody>\n",
       "    <tr>\n",
       "      <th>0</th>\n",
       "      <td>0001</td>\n",
       "      <td>156.740193</td>\n",
       "      <td>583387.0</td>\n",
       "      <td>3722</td>\n",
       "      <td>1100106</td>\n",
       "      <td>GUAJARA-MIRIM</td>\n",
       "      <td>RO</td>\n",
       "      <td>Norte</td>\n",
       "      <td>None</td>\n",
       "      <td>41646</td>\n",
       "      <td>35197</td>\n",
       "      <td>6449</td>\n",
       "    </tr>\n",
       "    <tr>\n",
       "      <th>1</th>\n",
       "      <td>0002</td>\n",
       "      <td>144.883144</td>\n",
       "      <td>140102.0</td>\n",
       "      <td>967</td>\n",
       "      <td>1100379</td>\n",
       "      <td>ALTO ALEGRE DOS PARECIS</td>\n",
       "      <td>RO</td>\n",
       "      <td>Norte</td>\n",
       "      <td>None</td>\n",
       "      <td>12826</td>\n",
       "      <td>3665</td>\n",
       "      <td>9161</td>\n",
       "    </tr>\n",
       "    <tr>\n",
       "      <th>2</th>\n",
       "      <td>0003</td>\n",
       "      <td>145.421862</td>\n",
       "      <td>3517464.0</td>\n",
       "      <td>24188</td>\n",
       "      <td>1100205</td>\n",
       "      <td>PORTO VELHO</td>\n",
       "      <td>RO</td>\n",
       "      <td>Norte</td>\n",
       "      <td>None</td>\n",
       "      <td>426558</td>\n",
       "      <td>391014</td>\n",
       "      <td>35544</td>\n",
       "    </tr>\n",
       "    <tr>\n",
       "      <th>3</th>\n",
       "      <td>0004</td>\n",
       "      <td>139.553310</td>\n",
       "      <td>400518.0</td>\n",
       "      <td>2870</td>\n",
       "      <td>1100452</td>\n",
       "      <td>BURITIS</td>\n",
       "      <td>RO</td>\n",
       "      <td>Norte</td>\n",
       "      <td>None</td>\n",
       "      <td>32385</td>\n",
       "      <td>18113</td>\n",
       "      <td>14272</td>\n",
       "    </tr>\n",
       "    <tr>\n",
       "      <th>4</th>\n",
       "      <td>0005</td>\n",
       "      <td>137.725603</td>\n",
       "      <td>644969.0</td>\n",
       "      <td>4683</td>\n",
       "      <td>1100122</td>\n",
       "      <td>JI-PARANA</td>\n",
       "      <td>RO</td>\n",
       "      <td>Norte</td>\n",
       "      <td>None</td>\n",
       "      <td>116587</td>\n",
       "      <td>104841</td>\n",
       "      <td>11746</td>\n",
       "    </tr>\n",
       "  </tbody>\n",
       "</table>\n",
       "</div>"
      ],
      "text/plain": [
       "  CodigoSIAFImunicipio  ValorMedio  ValorTotal  Count CodMunicipio  \\\n",
       "0                 0001  156.740193    583387.0   3722      1100106   \n",
       "1                 0002  144.883144    140102.0    967      1100379   \n",
       "2                 0003  145.421862   3517464.0  24188      1100205   \n",
       "3                 0004  139.553310    400518.0   2870      1100452   \n",
       "4                 0005  137.725603    644969.0   4683      1100122   \n",
       "\n",
       "             NomeMunicipio  UF Regiao NomeAlternativo  TotalPopulacao2010  \\\n",
       "0            GUAJARA-MIRIM  RO  Norte            None               41646   \n",
       "1  ALTO ALEGRE DOS PARECIS  RO  Norte            None               12826   \n",
       "2              PORTO VELHO  RO  Norte            None              426558   \n",
       "3                  BURITIS  RO  Norte            None               32385   \n",
       "4                JI-PARANA  RO  Norte            None              116587   \n",
       "\n",
       "   TotalPopulacaoUrbana  TotalPopulacaoRural  \n",
       "0                 35197                 6449  \n",
       "1                  3665                 9161  \n",
       "2                391014                35544  \n",
       "3                 18113                14272  \n",
       "4                104841                11746  "
      ]
     },
     "execution_count": 328,
     "metadata": {},
     "output_type": "execute_result"
    }
   ],
   "source": [
    "df2.head()"
   ]
  },
  {
   "cell_type": "code",
   "execution_count": 329,
   "metadata": {
    "collapsed": false
   },
   "outputs": [
    {
     "name": "stdout",
     "output_type": "stream",
     "text": [
      "<class 'pandas.core.frame.DataFrame'>\n",
      "Int64Index: 5565 entries, 0 to 5564\n",
      "Data columns (total 12 columns):\n",
      "CodigoSIAFImunicipio    5565 non-null object\n",
      "ValorMedio              5565 non-null float64\n",
      "ValorTotal              5565 non-null float64\n",
      "Count                   5565 non-null int64\n",
      "CodMunicipio            5565 non-null object\n",
      "NomeMunicipio           5565 non-null object\n",
      "UF                      5565 non-null object\n",
      "Regiao                  5565 non-null object\n",
      "NomeAlternativo         58 non-null object\n",
      "TotalPopulacao2010      5565 non-null int64\n",
      "TotalPopulacaoUrbana    5565 non-null int64\n",
      "TotalPopulacaoRural     5565 non-null int64\n",
      "dtypes: float64(2), int64(4), object(6)\n",
      "memory usage: 565.2+ KB\n"
     ]
    }
   ],
   "source": [
    "df2.info()"
   ]
  },
  {
   "cell_type": "markdown",
   "metadata": {},
   "source": [
    "Calculando o percentual da população rural."
   ]
  },
  {
   "cell_type": "code",
   "execution_count": 331,
   "metadata": {
    "collapsed": false
   },
   "outputs": [],
   "source": [
    "df2['PercentRural'] = (df2.TotalPopulacaoRural / df2.TotalPopulacao2010) * 100"
   ]
  },
  {
   "cell_type": "markdown",
   "metadata": {},
   "source": [
    "Calculando o percentual da população que recebe Bolsa-Família."
   ]
  },
  {
   "cell_type": "code",
   "execution_count": 333,
   "metadata": {
    "collapsed": true
   },
   "outputs": [],
   "source": [
    "df2['Percent_Pop_Bolsa'] = (df2.Count / df2.TotalPopulacao2010) * 100"
   ]
  },
  {
   "cell_type": "code",
   "execution_count": 334,
   "metadata": {
    "collapsed": false
   },
   "outputs": [
    {
     "data": {
      "text/html": [
       "<div>\n",
       "<table border=\"1\" class=\"dataframe\">\n",
       "  <thead>\n",
       "    <tr style=\"text-align: right;\">\n",
       "      <th></th>\n",
       "      <th>CodigoSIAFImunicipio</th>\n",
       "      <th>ValorMedio</th>\n",
       "      <th>ValorTotal</th>\n",
       "      <th>Count</th>\n",
       "      <th>CodMunicipio</th>\n",
       "      <th>NomeMunicipio</th>\n",
       "      <th>UF</th>\n",
       "      <th>Regiao</th>\n",
       "      <th>NomeAlternativo</th>\n",
       "      <th>TotalPopulacao2010</th>\n",
       "      <th>TotalPopulacaoUrbana</th>\n",
       "      <th>TotalPopulacaoRural</th>\n",
       "      <th>PercentRural</th>\n",
       "      <th>Percent_Pop_Bolsa</th>\n",
       "    </tr>\n",
       "  </thead>\n",
       "  <tbody>\n",
       "    <tr>\n",
       "      <th>0</th>\n",
       "      <td>0001</td>\n",
       "      <td>156.740193</td>\n",
       "      <td>583387.0</td>\n",
       "      <td>3722</td>\n",
       "      <td>1100106</td>\n",
       "      <td>GUAJARA-MIRIM</td>\n",
       "      <td>RO</td>\n",
       "      <td>Norte</td>\n",
       "      <td>None</td>\n",
       "      <td>41646</td>\n",
       "      <td>35197</td>\n",
       "      <td>6449</td>\n",
       "      <td>15.485281</td>\n",
       "      <td>8.937233</td>\n",
       "    </tr>\n",
       "    <tr>\n",
       "      <th>1</th>\n",
       "      <td>0002</td>\n",
       "      <td>144.883144</td>\n",
       "      <td>140102.0</td>\n",
       "      <td>967</td>\n",
       "      <td>1100379</td>\n",
       "      <td>ALTO ALEGRE DOS PARECIS</td>\n",
       "      <td>RO</td>\n",
       "      <td>Norte</td>\n",
       "      <td>None</td>\n",
       "      <td>12826</td>\n",
       "      <td>3665</td>\n",
       "      <td>9161</td>\n",
       "      <td>71.425230</td>\n",
       "      <td>7.539373</td>\n",
       "    </tr>\n",
       "    <tr>\n",
       "      <th>2</th>\n",
       "      <td>0003</td>\n",
       "      <td>145.421862</td>\n",
       "      <td>3517464.0</td>\n",
       "      <td>24188</td>\n",
       "      <td>1100205</td>\n",
       "      <td>PORTO VELHO</td>\n",
       "      <td>RO</td>\n",
       "      <td>Norte</td>\n",
       "      <td>None</td>\n",
       "      <td>426558</td>\n",
       "      <td>391014</td>\n",
       "      <td>35544</td>\n",
       "      <td>8.332747</td>\n",
       "      <td>5.670507</td>\n",
       "    </tr>\n",
       "    <tr>\n",
       "      <th>3</th>\n",
       "      <td>0004</td>\n",
       "      <td>139.553310</td>\n",
       "      <td>400518.0</td>\n",
       "      <td>2870</td>\n",
       "      <td>1100452</td>\n",
       "      <td>BURITIS</td>\n",
       "      <td>RO</td>\n",
       "      <td>Norte</td>\n",
       "      <td>None</td>\n",
       "      <td>32385</td>\n",
       "      <td>18113</td>\n",
       "      <td>14272</td>\n",
       "      <td>44.069785</td>\n",
       "      <td>8.862128</td>\n",
       "    </tr>\n",
       "    <tr>\n",
       "      <th>4</th>\n",
       "      <td>0005</td>\n",
       "      <td>137.725603</td>\n",
       "      <td>644969.0</td>\n",
       "      <td>4683</td>\n",
       "      <td>1100122</td>\n",
       "      <td>JI-PARANA</td>\n",
       "      <td>RO</td>\n",
       "      <td>Norte</td>\n",
       "      <td>None</td>\n",
       "      <td>116587</td>\n",
       "      <td>104841</td>\n",
       "      <td>11746</td>\n",
       "      <td>10.074880</td>\n",
       "      <td>4.016743</td>\n",
       "    </tr>\n",
       "  </tbody>\n",
       "</table>\n",
       "</div>"
      ],
      "text/plain": [
       "  CodigoSIAFImunicipio  ValorMedio  ValorTotal  Count CodMunicipio  \\\n",
       "0                 0001  156.740193    583387.0   3722      1100106   \n",
       "1                 0002  144.883144    140102.0    967      1100379   \n",
       "2                 0003  145.421862   3517464.0  24188      1100205   \n",
       "3                 0004  139.553310    400518.0   2870      1100452   \n",
       "4                 0005  137.725603    644969.0   4683      1100122   \n",
       "\n",
       "             NomeMunicipio  UF Regiao NomeAlternativo  TotalPopulacao2010  \\\n",
       "0            GUAJARA-MIRIM  RO  Norte            None               41646   \n",
       "1  ALTO ALEGRE DOS PARECIS  RO  Norte            None               12826   \n",
       "2              PORTO VELHO  RO  Norte            None              426558   \n",
       "3                  BURITIS  RO  Norte            None               32385   \n",
       "4                JI-PARANA  RO  Norte            None              116587   \n",
       "\n",
       "   TotalPopulacaoUrbana  TotalPopulacaoRural  PercentRural  Percent_Pop_Bolsa  \n",
       "0                 35197                 6449     15.485281           8.937233  \n",
       "1                  3665                 9161     71.425230           7.539373  \n",
       "2                391014                35544      8.332747           5.670507  \n",
       "3                 18113                14272     44.069785           8.862128  \n",
       "4                104841                11746     10.074880           4.016743  "
      ]
     },
     "execution_count": 334,
     "metadata": {},
     "output_type": "execute_result"
    }
   ],
   "source": [
    "df2.head()"
   ]
  },
  {
   "cell_type": "markdown",
   "metadata": {},
   "source": [
    "Cidades com maior proporção de moradores que recebem o benefício."
   ]
  },
  {
   "cell_type": "code",
   "execution_count": 337,
   "metadata": {
    "collapsed": false
   },
   "outputs": [
    {
     "data": {
      "text/html": [
       "<div>\n",
       "<table border=\"1\" class=\"dataframe\">\n",
       "  <thead>\n",
       "    <tr style=\"text-align: right;\">\n",
       "      <th></th>\n",
       "      <th>CodigoSIAFImunicipio</th>\n",
       "      <th>ValorMedio</th>\n",
       "      <th>ValorTotal</th>\n",
       "      <th>Count</th>\n",
       "      <th>CodMunicipio</th>\n",
       "      <th>NomeMunicipio</th>\n",
       "      <th>UF</th>\n",
       "      <th>Regiao</th>\n",
       "      <th>NomeAlternativo</th>\n",
       "      <th>TotalPopulacao2010</th>\n",
       "      <th>TotalPopulacaoUrbana</th>\n",
       "      <th>TotalPopulacaoRural</th>\n",
       "      <th>PercentRural</th>\n",
       "      <th>Percent_Pop_Bolsa</th>\n",
       "    </tr>\n",
       "  </thead>\n",
       "  <tbody>\n",
       "    <tr>\n",
       "      <th>253</th>\n",
       "      <td>0254</td>\n",
       "      <td>220.995137</td>\n",
       "      <td>636245.0</td>\n",
       "      <td>2879</td>\n",
       "      <td>2111789</td>\n",
       "      <td>SERRANO DO MARANHAO</td>\n",
       "      <td>MA</td>\n",
       "      <td>Nordeste</td>\n",
       "      <td>None</td>\n",
       "      <td>10924</td>\n",
       "      <td>4222</td>\n",
       "      <td>6702</td>\n",
       "      <td>61.351153</td>\n",
       "      <td>26.354815</td>\n",
       "    </tr>\n",
       "    <tr>\n",
       "      <th>915</th>\n",
       "      <td>0917</td>\n",
       "      <td>209.108481</td>\n",
       "      <td>1060180.0</td>\n",
       "      <td>5070</td>\n",
       "      <td>2111003</td>\n",
       "      <td>SAO JOAO BATISTA</td>\n",
       "      <td>MA</td>\n",
       "      <td>Nordeste</td>\n",
       "      <td>None</td>\n",
       "      <td>19966</td>\n",
       "      <td>5357</td>\n",
       "      <td>14609</td>\n",
       "      <td>73.169388</td>\n",
       "      <td>25.393168</td>\n",
       "    </tr>\n",
       "    <tr>\n",
       "      <th>295</th>\n",
       "      <td>0296</td>\n",
       "      <td>232.339157</td>\n",
       "      <td>226066.0</td>\n",
       "      <td>973</td>\n",
       "      <td>2202455</td>\n",
       "      <td>CAPITAO GERVASIO OLIVEIRA</td>\n",
       "      <td>PI</td>\n",
       "      <td>Nordeste</td>\n",
       "      <td>None</td>\n",
       "      <td>3876</td>\n",
       "      <td>1162</td>\n",
       "      <td>2714</td>\n",
       "      <td>70.020640</td>\n",
       "      <td>25.103199</td>\n",
       "    </tr>\n",
       "    <tr>\n",
       "      <th>849</th>\n",
       "      <td>0851</td>\n",
       "      <td>235.995920</td>\n",
       "      <td>1099033.0</td>\n",
       "      <td>4657</td>\n",
       "      <td>2107605</td>\n",
       "      <td>PALMEIRANDIA</td>\n",
       "      <td>MA</td>\n",
       "      <td>Nordeste</td>\n",
       "      <td>None</td>\n",
       "      <td>18766</td>\n",
       "      <td>3461</td>\n",
       "      <td>15305</td>\n",
       "      <td>81.557071</td>\n",
       "      <td>24.816157</td>\n",
       "    </tr>\n",
       "    <tr>\n",
       "      <th>827</th>\n",
       "      <td>0829</td>\n",
       "      <td>213.761896</td>\n",
       "      <td>1136572.0</td>\n",
       "      <td>5317</td>\n",
       "      <td>2106508</td>\n",
       "      <td>MATINHA</td>\n",
       "      <td>MA</td>\n",
       "      <td>Nordeste</td>\n",
       "      <td>None</td>\n",
       "      <td>21832</td>\n",
       "      <td>8838</td>\n",
       "      <td>12994</td>\n",
       "      <td>59.518139</td>\n",
       "      <td>24.354159</td>\n",
       "    </tr>\n",
       "  </tbody>\n",
       "</table>\n",
       "</div>"
      ],
      "text/plain": [
       "    CodigoSIAFImunicipio  ValorMedio  ValorTotal  Count CodMunicipio  \\\n",
       "253                 0254  220.995137    636245.0   2879      2111789   \n",
       "915                 0917  209.108481   1060180.0   5070      2111003   \n",
       "295                 0296  232.339157    226066.0    973      2202455   \n",
       "849                 0851  235.995920   1099033.0   4657      2107605   \n",
       "827                 0829  213.761896   1136572.0   5317      2106508   \n",
       "\n",
       "                 NomeMunicipio  UF    Regiao NomeAlternativo  \\\n",
       "253        SERRANO DO MARANHAO  MA  Nordeste            None   \n",
       "915           SAO JOAO BATISTA  MA  Nordeste            None   \n",
       "295  CAPITAO GERVASIO OLIVEIRA  PI  Nordeste            None   \n",
       "849               PALMEIRANDIA  MA  Nordeste            None   \n",
       "827                    MATINHA  MA  Nordeste            None   \n",
       "\n",
       "     TotalPopulacao2010  TotalPopulacaoUrbana  TotalPopulacaoRural  \\\n",
       "253               10924                  4222                 6702   \n",
       "915               19966                  5357                14609   \n",
       "295                3876                  1162                 2714   \n",
       "849               18766                  3461                15305   \n",
       "827               21832                  8838                12994   \n",
       "\n",
       "     PercentRural  Percent_Pop_Bolsa  \n",
       "253     61.351153          26.354815  \n",
       "915     73.169388          25.393168  \n",
       "295     70.020640          25.103199  \n",
       "849     81.557071          24.816157  \n",
       "827     59.518139          24.354159  "
      ]
     },
     "execution_count": 337,
     "metadata": {},
     "output_type": "execute_result"
    }
   ],
   "source": [
    "df2.sort_values('Percent_Pop_Bolsa', ascending=False).head()"
   ]
  },
  {
   "cell_type": "code",
   "execution_count": 370,
   "metadata": {
    "collapsed": false
   },
   "outputs": [],
   "source": [
    "# df2.sort_values('TotalPopulacao2010', ascending=False).head(20)"
   ]
  },
  {
   "cell_type": "markdown",
   "metadata": {},
   "source": [
    "#### Analisando dados por região do país"
   ]
  },
  {
   "cell_type": "code",
   "execution_count": 392,
   "metadata": {
    "collapsed": false
   },
   "outputs": [],
   "source": [
    "PorRegiao = df2.groupby('Regiao', as_index=False).sum()"
   ]
  },
  {
   "cell_type": "code",
   "execution_count": 393,
   "metadata": {
    "collapsed": false
   },
   "outputs": [],
   "source": [
    "PorRegiao['PercentRural'] = (PorRegiao.TotalPopulacaoRural / PorRegiao.TotalPopulacao2010) * 100\n",
    "PorRegiao['Percent_Pop_Bolsa'] = (PorRegiao.Count / PorRegiao.TotalPopulacao2010) * 100\n",
    "PorRegiao['ValorMedio'] = PorRegiao['ValorTotal'] / PorRegiao['Count']"
   ]
  },
  {
   "cell_type": "code",
   "execution_count": 396,
   "metadata": {
    "collapsed": false
   },
   "outputs": [
    {
     "data": {
      "text/html": [
       "<div>\n",
       "<table border=\"1\" class=\"dataframe\">\n",
       "  <thead>\n",
       "    <tr style=\"text-align: right;\">\n",
       "      <th></th>\n",
       "      <th>Regiao</th>\n",
       "      <th>ValorMedio</th>\n",
       "      <th>ValorTotal</th>\n",
       "      <th>Count</th>\n",
       "      <th>TotalPopulacao2010</th>\n",
       "      <th>TotalPopulacaoUrbana</th>\n",
       "      <th>TotalPopulacaoRural</th>\n",
       "      <th>PercentRural</th>\n",
       "      <th>Percent_Pop_Bolsa</th>\n",
       "    </tr>\n",
       "  </thead>\n",
       "  <tbody>\n",
       "    <tr>\n",
       "      <th>0</th>\n",
       "      <td>Centro-Oeste</td>\n",
       "      <td>146.098930</td>\n",
       "      <td>9.248515e+07</td>\n",
       "      <td>633031</td>\n",
       "      <td>11487377</td>\n",
       "      <td>10003623</td>\n",
       "      <td>1483754</td>\n",
       "      <td>12.916386</td>\n",
       "      <td>5.510666</td>\n",
       "    </tr>\n",
       "    <tr>\n",
       "      <th>1</th>\n",
       "      <td>Distrito Federal</td>\n",
       "      <td>139.652246</td>\n",
       "      <td>1.124312e+07</td>\n",
       "      <td>80508</td>\n",
       "      <td>2562963</td>\n",
       "      <td>2476249</td>\n",
       "      <td>86714</td>\n",
       "      <td>3.383350</td>\n",
       "      <td>3.141208</td>\n",
       "    </tr>\n",
       "    <tr>\n",
       "      <th>2</th>\n",
       "      <td>Nordeste</td>\n",
       "      <td>166.965746</td>\n",
       "      <td>1.167032e+09</td>\n",
       "      <td>6989648</td>\n",
       "      <td>53078137</td>\n",
       "      <td>38816895</td>\n",
       "      <td>14261242</td>\n",
       "      <td>26.868392</td>\n",
       "      <td>13.168601</td>\n",
       "    </tr>\n",
       "    <tr>\n",
       "      <th>3</th>\n",
       "      <td>Norte</td>\n",
       "      <td>183.599025</td>\n",
       "      <td>3.142850e+08</td>\n",
       "      <td>1711801</td>\n",
       "      <td>15865678</td>\n",
       "      <td>11663184</td>\n",
       "      <td>4202494</td>\n",
       "      <td>26.487957</td>\n",
       "      <td>10.789334</td>\n",
       "    </tr>\n",
       "    <tr>\n",
       "      <th>4</th>\n",
       "      <td>Sudeste</td>\n",
       "      <td>148.106852</td>\n",
       "      <td>5.210159e+08</td>\n",
       "      <td>3517838</td>\n",
       "      <td>80353724</td>\n",
       "      <td>74661877</td>\n",
       "      <td>5691847</td>\n",
       "      <td>7.083489</td>\n",
       "      <td>4.377940</td>\n",
       "    </tr>\n",
       "    <tr>\n",
       "      <th>5</th>\n",
       "      <td>Sul</td>\n",
       "      <td>143.177059</td>\n",
       "      <td>1.307756e+08</td>\n",
       "      <td>913384</td>\n",
       "      <td>27384815</td>\n",
       "      <td>23257880</td>\n",
       "      <td>4126935</td>\n",
       "      <td>15.070158</td>\n",
       "      <td>3.335367</td>\n",
       "    </tr>\n",
       "  </tbody>\n",
       "</table>\n",
       "</div>"
      ],
      "text/plain": [
       "             Regiao  ValorMedio    ValorTotal    Count  TotalPopulacao2010  \\\n",
       "0      Centro-Oeste  146.098930  9.248515e+07   633031            11487377   \n",
       "1  Distrito Federal  139.652246  1.124312e+07    80508             2562963   \n",
       "2          Nordeste  166.965746  1.167032e+09  6989648            53078137   \n",
       "3             Norte  183.599025  3.142850e+08  1711801            15865678   \n",
       "4           Sudeste  148.106852  5.210159e+08  3517838            80353724   \n",
       "5               Sul  143.177059  1.307756e+08   913384            27384815   \n",
       "\n",
       "   TotalPopulacaoUrbana  TotalPopulacaoRural  PercentRural  Percent_Pop_Bolsa  \n",
       "0              10003623              1483754     12.916386           5.510666  \n",
       "1               2476249                86714      3.383350           3.141208  \n",
       "2              38816895             14261242     26.868392          13.168601  \n",
       "3              11663184              4202494     26.487957          10.789334  \n",
       "4              74661877              5691847      7.083489           4.377940  \n",
       "5              23257880              4126935     15.070158           3.335367  "
      ]
     },
     "execution_count": 396,
     "metadata": {},
     "output_type": "execute_result"
    }
   ],
   "source": [
    "PorRegiao"
   ]
  },
  {
   "cell_type": "code",
   "execution_count": 555,
   "metadata": {
    "collapsed": false
   },
   "outputs": [
    {
     "data": {
      "text/html": [
       "<div>\n",
       "<table border=\"1\" class=\"dataframe\">\n",
       "  <thead>\n",
       "    <tr style=\"text-align: right;\">\n",
       "      <th></th>\n",
       "      <th>Regiao</th>\n",
       "      <th>ValorMedio</th>\n",
       "      <th>Count</th>\n",
       "      <th>TotalPopulacao2010</th>\n",
       "      <th>PercentRural</th>\n",
       "      <th>Percent_Pop_Bolsa</th>\n",
       "    </tr>\n",
       "  </thead>\n",
       "  <tbody>\n",
       "    <tr>\n",
       "      <th>0</th>\n",
       "      <td>Centro-Oeste</td>\n",
       "      <td>146.098930</td>\n",
       "      <td>633031</td>\n",
       "      <td>11487377</td>\n",
       "      <td>12.916386</td>\n",
       "      <td>5.510666</td>\n",
       "    </tr>\n",
       "    <tr>\n",
       "      <th>1</th>\n",
       "      <td>Distrito Federal</td>\n",
       "      <td>139.652246</td>\n",
       "      <td>80508</td>\n",
       "      <td>2562963</td>\n",
       "      <td>3.383350</td>\n",
       "      <td>3.141208</td>\n",
       "    </tr>\n",
       "    <tr>\n",
       "      <th>2</th>\n",
       "      <td>Nordeste</td>\n",
       "      <td>166.965746</td>\n",
       "      <td>6989648</td>\n",
       "      <td>53078137</td>\n",
       "      <td>26.868392</td>\n",
       "      <td>13.168601</td>\n",
       "    </tr>\n",
       "    <tr>\n",
       "      <th>3</th>\n",
       "      <td>Norte</td>\n",
       "      <td>183.599025</td>\n",
       "      <td>1711801</td>\n",
       "      <td>15865678</td>\n",
       "      <td>26.487957</td>\n",
       "      <td>10.789334</td>\n",
       "    </tr>\n",
       "    <tr>\n",
       "      <th>4</th>\n",
       "      <td>Sudeste</td>\n",
       "      <td>148.106852</td>\n",
       "      <td>3517838</td>\n",
       "      <td>80353724</td>\n",
       "      <td>7.083489</td>\n",
       "      <td>4.377940</td>\n",
       "    </tr>\n",
       "    <tr>\n",
       "      <th>5</th>\n",
       "      <td>Sul</td>\n",
       "      <td>143.177059</td>\n",
       "      <td>913384</td>\n",
       "      <td>27384815</td>\n",
       "      <td>15.070158</td>\n",
       "      <td>3.335367</td>\n",
       "    </tr>\n",
       "  </tbody>\n",
       "</table>\n",
       "</div>"
      ],
      "text/plain": [
       "             Regiao  ValorMedio    Count  TotalPopulacao2010  PercentRural  \\\n",
       "0      Centro-Oeste  146.098930   633031            11487377     12.916386   \n",
       "1  Distrito Federal  139.652246    80508             2562963      3.383350   \n",
       "2          Nordeste  166.965746  6989648            53078137     26.868392   \n",
       "3             Norte  183.599025  1711801            15865678     26.487957   \n",
       "4           Sudeste  148.106852  3517838            80353724      7.083489   \n",
       "5               Sul  143.177059   913384            27384815     15.070158   \n",
       "\n",
       "   Percent_Pop_Bolsa  \n",
       "0           5.510666  \n",
       "1           3.141208  \n",
       "2          13.168601  \n",
       "3          10.789334  \n",
       "4           4.377940  \n",
       "5           3.335367  "
      ]
     },
     "execution_count": 555,
     "metadata": {},
     "output_type": "execute_result"
    }
   ],
   "source": [
    "PorRegiao[['Regiao','ValorMedio','Count','TotalPopulacao2010','PercentRural','Percent_Pop_Bolsa']]"
   ]
  },
  {
   "cell_type": "markdown",
   "metadata": {},
   "source": [
    "#### Analisando dados por estado"
   ]
  },
  {
   "cell_type": "code",
   "execution_count": 398,
   "metadata": {
    "collapsed": true
   },
   "outputs": [],
   "source": [
    "PorEstado = df2.groupby('UF', as_index=False).sum()"
   ]
  },
  {
   "cell_type": "code",
   "execution_count": 399,
   "metadata": {
    "collapsed": true
   },
   "outputs": [],
   "source": [
    "PorEstado['PercentRural'] = (PorEstado.TotalPopulacaoRural / PorEstado.TotalPopulacao2010) * 100\n",
    "PorEstado['Percent_Pop_Bolsa'] = (PorEstado.Count / PorEstado.TotalPopulacao2010) * 100\n",
    "PorEstado['ValorMedio'] = PorEstado['ValorTotal'] / PorEstado['Count']"
   ]
  },
  {
   "cell_type": "code",
   "execution_count": 401,
   "metadata": {
    "collapsed": false
   },
   "outputs": [
    {
     "data": {
      "text/html": [
       "<div>\n",
       "<table border=\"1\" class=\"dataframe\">\n",
       "  <thead>\n",
       "    <tr style=\"text-align: right;\">\n",
       "      <th></th>\n",
       "      <th>UF</th>\n",
       "      <th>ValorMedio</th>\n",
       "      <th>ValorTotal</th>\n",
       "      <th>Count</th>\n",
       "      <th>TotalPopulacao2010</th>\n",
       "      <th>TotalPopulacaoUrbana</th>\n",
       "      <th>TotalPopulacaoRural</th>\n",
       "      <th>PercentRural</th>\n",
       "      <th>Percent_Pop_Bolsa</th>\n",
       "    </tr>\n",
       "  </thead>\n",
       "  <tbody>\n",
       "    <tr>\n",
       "      <th>0</th>\n",
       "      <td>AC</td>\n",
       "      <td>232.619621</td>\n",
       "      <td>19568893.0</td>\n",
       "      <td>84124</td>\n",
       "      <td>732793</td>\n",
       "      <td>532080</td>\n",
       "      <td>200713</td>\n",
       "      <td>27.390136</td>\n",
       "      <td>11.479913</td>\n",
       "    </tr>\n",
       "    <tr>\n",
       "      <th>1</th>\n",
       "      <td>AL</td>\n",
       "      <td>167.221845</td>\n",
       "      <td>66820846.0</td>\n",
       "      <td>399594</td>\n",
       "      <td>3120922</td>\n",
       "      <td>2298091</td>\n",
       "      <td>822831</td>\n",
       "      <td>26.364997</td>\n",
       "      <td>12.803716</td>\n",
       "    </tr>\n",
       "    <tr>\n",
       "      <th>2</th>\n",
       "      <td>AM</td>\n",
       "      <td>200.070580</td>\n",
       "      <td>74055325.0</td>\n",
       "      <td>370146</td>\n",
       "      <td>3480937</td>\n",
       "      <td>2755756</td>\n",
       "      <td>725181</td>\n",
       "      <td>20.832925</td>\n",
       "      <td>10.633516</td>\n",
       "    </tr>\n",
       "    <tr>\n",
       "      <th>3</th>\n",
       "      <td>AP</td>\n",
       "      <td>188.221802</td>\n",
       "      <td>11836328.0</td>\n",
       "      <td>62885</td>\n",
       "      <td>668689</td>\n",
       "      <td>600561</td>\n",
       "      <td>68128</td>\n",
       "      <td>10.188294</td>\n",
       "      <td>9.404222</td>\n",
       "    </tr>\n",
       "    <tr>\n",
       "      <th>4</th>\n",
       "      <td>BA</td>\n",
       "      <td>162.385297</td>\n",
       "      <td>297585672.0</td>\n",
       "      <td>1832590</td>\n",
       "      <td>14021432</td>\n",
       "      <td>10105218</td>\n",
       "      <td>3916214</td>\n",
       "      <td>27.930200</td>\n",
       "      <td>13.069920</td>\n",
       "    </tr>\n",
       "  </tbody>\n",
       "</table>\n",
       "</div>"
      ],
      "text/plain": [
       "   UF  ValorMedio   ValorTotal    Count  TotalPopulacao2010  \\\n",
       "0  AC  232.619621   19568893.0    84124              732793   \n",
       "1  AL  167.221845   66820846.0   399594             3120922   \n",
       "2  AM  200.070580   74055325.0   370146             3480937   \n",
       "3  AP  188.221802   11836328.0    62885              668689   \n",
       "4  BA  162.385297  297585672.0  1832590            14021432   \n",
       "\n",
       "   TotalPopulacaoUrbana  TotalPopulacaoRural  PercentRural  Percent_Pop_Bolsa  \n",
       "0                532080               200713     27.390136          11.479913  \n",
       "1               2298091               822831     26.364997          12.803716  \n",
       "2               2755756               725181     20.832925          10.633516  \n",
       "3                600561                68128     10.188294           9.404222  \n",
       "4              10105218              3916214     27.930200          13.069920  "
      ]
     },
     "execution_count": 401,
     "metadata": {},
     "output_type": "execute_result"
    }
   ],
   "source": [
    "PorEstado.head()"
   ]
  },
  {
   "cell_type": "markdown",
   "metadata": {},
   "source": [
    "#### Ranking dos estados pelo percentual da população que recebe o benefício."
   ]
  },
  {
   "cell_type": "code",
   "execution_count": 556,
   "metadata": {
    "collapsed": false
   },
   "outputs": [
    {
     "data": {
      "text/html": [
       "<div>\n",
       "<table border=\"1\" class=\"dataframe\">\n",
       "  <thead>\n",
       "    <tr style=\"text-align: right;\">\n",
       "      <th></th>\n",
       "      <th>UF</th>\n",
       "      <th>ValorMedio</th>\n",
       "      <th>Count</th>\n",
       "      <th>TotalPopulacao2010</th>\n",
       "      <th>PercentRural</th>\n",
       "      <th>Percent_Pop_Bolsa</th>\n",
       "    </tr>\n",
       "  </thead>\n",
       "  <tbody>\n",
       "    <tr>\n",
       "      <th>9</th>\n",
       "      <td>MA</td>\n",
       "      <td>187.753457</td>\n",
       "      <td>970358</td>\n",
       "      <td>6569683</td>\n",
       "      <td>36.926515</td>\n",
       "      <td>14.770241</td>\n",
       "    </tr>\n",
       "    <tr>\n",
       "      <th>16</th>\n",
       "      <td>PI</td>\n",
       "      <td>183.720743</td>\n",
       "      <td>454115</td>\n",
       "      <td>3119015</td>\n",
       "      <td>34.231929</td>\n",
       "      <td>14.559564</td>\n",
       "    </tr>\n",
       "    <tr>\n",
       "      <th>14</th>\n",
       "      <td>PB</td>\n",
       "      <td>175.053985</td>\n",
       "      <td>523869</td>\n",
       "      <td>3766834</td>\n",
       "      <td>24.631614</td>\n",
       "      <td>13.907409</td>\n",
       "    </tr>\n",
       "    <tr>\n",
       "      <th>24</th>\n",
       "      <td>SE</td>\n",
       "      <td>151.224743</td>\n",
       "      <td>272351</td>\n",
       "      <td>2068031</td>\n",
       "      <td>26.488384</td>\n",
       "      <td>13.169580</td>\n",
       "    </tr>\n",
       "    <tr>\n",
       "      <th>4</th>\n",
       "      <td>BA</td>\n",
       "      <td>162.385297</td>\n",
       "      <td>1832590</td>\n",
       "      <td>14021432</td>\n",
       "      <td>27.930200</td>\n",
       "      <td>13.069920</td>\n",
       "    </tr>\n",
       "    <tr>\n",
       "      <th>15</th>\n",
       "      <td>PE</td>\n",
       "      <td>158.932724</td>\n",
       "      <td>1130656</td>\n",
       "      <td>8796032</td>\n",
       "      <td>19.851724</td>\n",
       "      <td>12.854160</td>\n",
       "    </tr>\n",
       "    <tr>\n",
       "      <th>1</th>\n",
       "      <td>AL</td>\n",
       "      <td>167.221845</td>\n",
       "      <td>399594</td>\n",
       "      <td>3120922</td>\n",
       "      <td>26.364997</td>\n",
       "      <td>12.803716</td>\n",
       "    </tr>\n",
       "    <tr>\n",
       "      <th>5</th>\n",
       "      <td>CE</td>\n",
       "      <td>159.787325</td>\n",
       "      <td>1052094</td>\n",
       "      <td>8448055</td>\n",
       "      <td>24.905910</td>\n",
       "      <td>12.453683</td>\n",
       "    </tr>\n",
       "    <tr>\n",
       "      <th>13</th>\n",
       "      <td>PA</td>\n",
       "      <td>179.787629</td>\n",
       "      <td>909523</td>\n",
       "      <td>7588078</td>\n",
       "      <td>31.509428</td>\n",
       "      <td>11.986210</td>\n",
       "    </tr>\n",
       "    <tr>\n",
       "      <th>0</th>\n",
       "      <td>AC</td>\n",
       "      <td>232.619621</td>\n",
       "      <td>84124</td>\n",
       "      <td>732793</td>\n",
       "      <td>27.390136</td>\n",
       "      <td>11.479913</td>\n",
       "    </tr>\n",
       "    <tr>\n",
       "      <th>19</th>\n",
       "      <td>RN</td>\n",
       "      <td>159.046407</td>\n",
       "      <td>354021</td>\n",
       "      <td>3168133</td>\n",
       "      <td>22.180066</td>\n",
       "      <td>11.174436</td>\n",
       "    </tr>\n",
       "    <tr>\n",
       "      <th>21</th>\n",
       "      <td>RR</td>\n",
       "      <td>180.033571</td>\n",
       "      <td>50252</td>\n",
       "      <td>451227</td>\n",
       "      <td>23.590565</td>\n",
       "      <td>11.136745</td>\n",
       "    </tr>\n",
       "    <tr>\n",
       "      <th>2</th>\n",
       "      <td>AM</td>\n",
       "      <td>200.070580</td>\n",
       "      <td>370146</td>\n",
       "      <td>3480937</td>\n",
       "      <td>20.832925</td>\n",
       "      <td>10.633516</td>\n",
       "    </tr>\n",
       "    <tr>\n",
       "      <th>26</th>\n",
       "      <td>TO</td>\n",
       "      <td>164.063461</td>\n",
       "      <td>135359</td>\n",
       "      <td>1383453</td>\n",
       "      <td>21.194215</td>\n",
       "      <td>9.784142</td>\n",
       "    </tr>\n",
       "    <tr>\n",
       "      <th>3</th>\n",
       "      <td>AP</td>\n",
       "      <td>188.221802</td>\n",
       "      <td>62885</td>\n",
       "      <td>668689</td>\n",
       "      <td>10.188294</td>\n",
       "      <td>9.404222</td>\n",
       "    </tr>\n",
       "    <tr>\n",
       "      <th>20</th>\n",
       "      <td>RO</td>\n",
       "      <td>141.178461</td>\n",
       "      <td>99512</td>\n",
       "      <td>1560501</td>\n",
       "      <td>26.776849</td>\n",
       "      <td>6.376926</td>\n",
       "    </tr>\n",
       "    <tr>\n",
       "      <th>12</th>\n",
       "      <td>MT</td>\n",
       "      <td>148.018088</td>\n",
       "      <td>173324</td>\n",
       "      <td>3033991</td>\n",
       "      <td>18.100021</td>\n",
       "      <td>5.712739</td>\n",
       "    </tr>\n",
       "    <tr>\n",
       "      <th>11</th>\n",
       "      <td>MS</td>\n",
       "      <td>155.219806</td>\n",
       "      <td>137353</td>\n",
       "      <td>2449341</td>\n",
       "      <td>14.355902</td>\n",
       "      <td>5.607753</td>\n",
       "    </tr>\n",
       "    <tr>\n",
       "      <th>10</th>\n",
       "      <td>MG</td>\n",
       "      <td>150.280966</td>\n",
       "      <td>1086872</td>\n",
       "      <td>19595309</td>\n",
       "      <td>14.705841</td>\n",
       "      <td>5.546593</td>\n",
       "    </tr>\n",
       "    <tr>\n",
       "      <th>8</th>\n",
       "      <td>GO</td>\n",
       "      <td>141.180686</td>\n",
       "      <td>322354</td>\n",
       "      <td>6004045</td>\n",
       "      <td>9.709721</td>\n",
       "      <td>5.368947</td>\n",
       "    </tr>\n",
       "    <tr>\n",
       "      <th>7</th>\n",
       "      <td>ES</td>\n",
       "      <td>143.441776</td>\n",
       "      <td>181986</td>\n",
       "      <td>3512672</td>\n",
       "      <td>16.616382</td>\n",
       "      <td>5.180842</td>\n",
       "    </tr>\n",
       "    <tr>\n",
       "      <th>18</th>\n",
       "      <td>RJ</td>\n",
       "      <td>152.564249</td>\n",
       "      <td>808390</td>\n",
       "      <td>15993583</td>\n",
       "      <td>3.292489</td>\n",
       "      <td>5.054465</td>\n",
       "    </tr>\n",
       "    <tr>\n",
       "      <th>22</th>\n",
       "      <td>RS</td>\n",
       "      <td>146.481357</td>\n",
       "      <td>401727</td>\n",
       "      <td>10695532</td>\n",
       "      <td>14.896791</td>\n",
       "      <td>3.756026</td>\n",
       "    </tr>\n",
       "    <tr>\n",
       "      <th>17</th>\n",
       "      <td>PR</td>\n",
       "      <td>138.535307</td>\n",
       "      <td>386741</td>\n",
       "      <td>10439601</td>\n",
       "      <td>14.685992</td>\n",
       "      <td>3.704557</td>\n",
       "    </tr>\n",
       "    <tr>\n",
       "      <th>25</th>\n",
       "      <td>SP</td>\n",
       "      <td>144.554612</td>\n",
       "      <td>1440590</td>\n",
       "      <td>41252160</td>\n",
       "      <td>4.120817</td>\n",
       "      <td>3.492157</td>\n",
       "    </tr>\n",
       "    <tr>\n",
       "      <th>6</th>\n",
       "      <td>DF</td>\n",
       "      <td>139.652246</td>\n",
       "      <td>80508</td>\n",
       "      <td>2562963</td>\n",
       "      <td>3.383350</td>\n",
       "      <td>3.141208</td>\n",
       "    </tr>\n",
       "    <tr>\n",
       "      <th>23</th>\n",
       "      <td>SC</td>\n",
       "      <td>146.921419</td>\n",
       "      <td>124916</td>\n",
       "      <td>6249682</td>\n",
       "      <td>16.008575</td>\n",
       "      <td>1.998758</td>\n",
       "    </tr>\n",
       "  </tbody>\n",
       "</table>\n",
       "</div>"
      ],
      "text/plain": [
       "    UF  ValorMedio    Count  TotalPopulacao2010  PercentRural  \\\n",
       "9   MA  187.753457   970358             6569683     36.926515   \n",
       "16  PI  183.720743   454115             3119015     34.231929   \n",
       "14  PB  175.053985   523869             3766834     24.631614   \n",
       "24  SE  151.224743   272351             2068031     26.488384   \n",
       "4   BA  162.385297  1832590            14021432     27.930200   \n",
       "15  PE  158.932724  1130656             8796032     19.851724   \n",
       "1   AL  167.221845   399594             3120922     26.364997   \n",
       "5   CE  159.787325  1052094             8448055     24.905910   \n",
       "13  PA  179.787629   909523             7588078     31.509428   \n",
       "0   AC  232.619621    84124              732793     27.390136   \n",
       "19  RN  159.046407   354021             3168133     22.180066   \n",
       "21  RR  180.033571    50252              451227     23.590565   \n",
       "2   AM  200.070580   370146             3480937     20.832925   \n",
       "26  TO  164.063461   135359             1383453     21.194215   \n",
       "3   AP  188.221802    62885              668689     10.188294   \n",
       "20  RO  141.178461    99512             1560501     26.776849   \n",
       "12  MT  148.018088   173324             3033991     18.100021   \n",
       "11  MS  155.219806   137353             2449341     14.355902   \n",
       "10  MG  150.280966  1086872            19595309     14.705841   \n",
       "8   GO  141.180686   322354             6004045      9.709721   \n",
       "7   ES  143.441776   181986             3512672     16.616382   \n",
       "18  RJ  152.564249   808390            15993583      3.292489   \n",
       "22  RS  146.481357   401727            10695532     14.896791   \n",
       "17  PR  138.535307   386741            10439601     14.685992   \n",
       "25  SP  144.554612  1440590            41252160      4.120817   \n",
       "6   DF  139.652246    80508             2562963      3.383350   \n",
       "23  SC  146.921419   124916             6249682     16.008575   \n",
       "\n",
       "    Percent_Pop_Bolsa  \n",
       "9           14.770241  \n",
       "16          14.559564  \n",
       "14          13.907409  \n",
       "24          13.169580  \n",
       "4           13.069920  \n",
       "15          12.854160  \n",
       "1           12.803716  \n",
       "5           12.453683  \n",
       "13          11.986210  \n",
       "0           11.479913  \n",
       "19          11.174436  \n",
       "21          11.136745  \n",
       "2           10.633516  \n",
       "26           9.784142  \n",
       "3            9.404222  \n",
       "20           6.376926  \n",
       "12           5.712739  \n",
       "11           5.607753  \n",
       "10           5.546593  \n",
       "8            5.368947  \n",
       "7            5.180842  \n",
       "18           5.054465  \n",
       "22           3.756026  \n",
       "17           3.704557  \n",
       "25           3.492157  \n",
       "6            3.141208  \n",
       "23           1.998758  "
      ]
     },
     "execution_count": 556,
     "metadata": {},
     "output_type": "execute_result"
    }
   ],
   "source": [
    "PorEstado.sort_values('Percent_Pop_Bolsa', ascending=False)[['UF','ValorMedio','Count','TotalPopulacao2010','PercentRural','Percent_Pop_Bolsa']]"
   ]
  },
  {
   "cell_type": "code",
   "execution_count": 403,
   "metadata": {
    "collapsed": false
   },
   "outputs": [
    {
     "data": {
      "text/html": [
       "<div>\n",
       "<table border=\"1\" class=\"dataframe\">\n",
       "  <thead>\n",
       "    <tr style=\"text-align: right;\">\n",
       "      <th></th>\n",
       "      <th>UF</th>\n",
       "      <th>ValorMedio</th>\n",
       "      <th>ValorTotal</th>\n",
       "      <th>Count</th>\n",
       "      <th>TotalPopulacao2010</th>\n",
       "      <th>TotalPopulacaoUrbana</th>\n",
       "      <th>TotalPopulacaoRural</th>\n",
       "      <th>PercentRural</th>\n",
       "      <th>Percent_Pop_Bolsa</th>\n",
       "    </tr>\n",
       "  </thead>\n",
       "  <tbody>\n",
       "    <tr>\n",
       "      <th>0</th>\n",
       "      <td>AC</td>\n",
       "      <td>232.619621</td>\n",
       "      <td>19568893.0</td>\n",
       "      <td>84124</td>\n",
       "      <td>732793</td>\n",
       "      <td>532080</td>\n",
       "      <td>200713</td>\n",
       "      <td>27.390136</td>\n",
       "      <td>11.479913</td>\n",
       "    </tr>\n",
       "    <tr>\n",
       "      <th>2</th>\n",
       "      <td>AM</td>\n",
       "      <td>200.070580</td>\n",
       "      <td>74055325.0</td>\n",
       "      <td>370146</td>\n",
       "      <td>3480937</td>\n",
       "      <td>2755756</td>\n",
       "      <td>725181</td>\n",
       "      <td>20.832925</td>\n",
       "      <td>10.633516</td>\n",
       "    </tr>\n",
       "    <tr>\n",
       "      <th>3</th>\n",
       "      <td>AP</td>\n",
       "      <td>188.221802</td>\n",
       "      <td>11836328.0</td>\n",
       "      <td>62885</td>\n",
       "      <td>668689</td>\n",
       "      <td>600561</td>\n",
       "      <td>68128</td>\n",
       "      <td>10.188294</td>\n",
       "      <td>9.404222</td>\n",
       "    </tr>\n",
       "    <tr>\n",
       "      <th>9</th>\n",
       "      <td>MA</td>\n",
       "      <td>187.753457</td>\n",
       "      <td>182188069.0</td>\n",
       "      <td>970358</td>\n",
       "      <td>6569683</td>\n",
       "      <td>4143728</td>\n",
       "      <td>2425955</td>\n",
       "      <td>36.926515</td>\n",
       "      <td>14.770241</td>\n",
       "    </tr>\n",
       "    <tr>\n",
       "      <th>16</th>\n",
       "      <td>PI</td>\n",
       "      <td>183.720743</td>\n",
       "      <td>83430345.0</td>\n",
       "      <td>454115</td>\n",
       "      <td>3119015</td>\n",
       "      <td>2051316</td>\n",
       "      <td>1067699</td>\n",
       "      <td>34.231929</td>\n",
       "      <td>14.559564</td>\n",
       "    </tr>\n",
       "    <tr>\n",
       "      <th>21</th>\n",
       "      <td>RR</td>\n",
       "      <td>180.033571</td>\n",
       "      <td>9047047.0</td>\n",
       "      <td>50252</td>\n",
       "      <td>451227</td>\n",
       "      <td>344780</td>\n",
       "      <td>106447</td>\n",
       "      <td>23.590565</td>\n",
       "      <td>11.136745</td>\n",
       "    </tr>\n",
       "    <tr>\n",
       "      <th>13</th>\n",
       "      <td>PA</td>\n",
       "      <td>179.787629</td>\n",
       "      <td>163520984.0</td>\n",
       "      <td>909523</td>\n",
       "      <td>7588078</td>\n",
       "      <td>5197118</td>\n",
       "      <td>2390960</td>\n",
       "      <td>31.509428</td>\n",
       "      <td>11.986210</td>\n",
       "    </tr>\n",
       "    <tr>\n",
       "      <th>14</th>\n",
       "      <td>PB</td>\n",
       "      <td>175.053985</td>\n",
       "      <td>91705356.0</td>\n",
       "      <td>523869</td>\n",
       "      <td>3766834</td>\n",
       "      <td>2839002</td>\n",
       "      <td>927832</td>\n",
       "      <td>24.631614</td>\n",
       "      <td>13.907409</td>\n",
       "    </tr>\n",
       "    <tr>\n",
       "      <th>1</th>\n",
       "      <td>AL</td>\n",
       "      <td>167.221845</td>\n",
       "      <td>66820846.0</td>\n",
       "      <td>399594</td>\n",
       "      <td>3120922</td>\n",
       "      <td>2298091</td>\n",
       "      <td>822831</td>\n",
       "      <td>26.364997</td>\n",
       "      <td>12.803716</td>\n",
       "    </tr>\n",
       "    <tr>\n",
       "      <th>26</th>\n",
       "      <td>TO</td>\n",
       "      <td>164.063461</td>\n",
       "      <td>22207466.0</td>\n",
       "      <td>135359</td>\n",
       "      <td>1383453</td>\n",
       "      <td>1090241</td>\n",
       "      <td>293212</td>\n",
       "      <td>21.194215</td>\n",
       "      <td>9.784142</td>\n",
       "    </tr>\n",
       "    <tr>\n",
       "      <th>4</th>\n",
       "      <td>BA</td>\n",
       "      <td>162.385297</td>\n",
       "      <td>297585672.0</td>\n",
       "      <td>1832590</td>\n",
       "      <td>14021432</td>\n",
       "      <td>10105218</td>\n",
       "      <td>3916214</td>\n",
       "      <td>27.930200</td>\n",
       "      <td>13.069920</td>\n",
       "    </tr>\n",
       "    <tr>\n",
       "      <th>5</th>\n",
       "      <td>CE</td>\n",
       "      <td>159.787325</td>\n",
       "      <td>168111286.0</td>\n",
       "      <td>1052094</td>\n",
       "      <td>8448055</td>\n",
       "      <td>6343990</td>\n",
       "      <td>2104065</td>\n",
       "      <td>24.905910</td>\n",
       "      <td>12.453683</td>\n",
       "    </tr>\n",
       "    <tr>\n",
       "      <th>19</th>\n",
       "      <td>RN</td>\n",
       "      <td>159.046407</td>\n",
       "      <td>56305768.0</td>\n",
       "      <td>354021</td>\n",
       "      <td>3168133</td>\n",
       "      <td>2465439</td>\n",
       "      <td>702694</td>\n",
       "      <td>22.180066</td>\n",
       "      <td>11.174436</td>\n",
       "    </tr>\n",
       "    <tr>\n",
       "      <th>15</th>\n",
       "      <td>PE</td>\n",
       "      <td>158.932724</td>\n",
       "      <td>179698238.0</td>\n",
       "      <td>1130656</td>\n",
       "      <td>8796032</td>\n",
       "      <td>7049868</td>\n",
       "      <td>1746164</td>\n",
       "      <td>19.851724</td>\n",
       "      <td>12.854160</td>\n",
       "    </tr>\n",
       "    <tr>\n",
       "      <th>11</th>\n",
       "      <td>MS</td>\n",
       "      <td>155.219806</td>\n",
       "      <td>21319906.0</td>\n",
       "      <td>137353</td>\n",
       "      <td>2449341</td>\n",
       "      <td>2097716</td>\n",
       "      <td>351625</td>\n",
       "      <td>14.355902</td>\n",
       "      <td>5.607753</td>\n",
       "    </tr>\n",
       "    <tr>\n",
       "      <th>18</th>\n",
       "      <td>RJ</td>\n",
       "      <td>152.564249</td>\n",
       "      <td>123331413.0</td>\n",
       "      <td>808390</td>\n",
       "      <td>15993583</td>\n",
       "      <td>15466996</td>\n",
       "      <td>526587</td>\n",
       "      <td>3.292489</td>\n",
       "      <td>5.054465</td>\n",
       "    </tr>\n",
       "    <tr>\n",
       "      <th>24</th>\n",
       "      <td>SE</td>\n",
       "      <td>151.224743</td>\n",
       "      <td>41186210.0</td>\n",
       "      <td>272351</td>\n",
       "      <td>2068031</td>\n",
       "      <td>1520243</td>\n",
       "      <td>547788</td>\n",
       "      <td>26.488384</td>\n",
       "      <td>13.169580</td>\n",
       "    </tr>\n",
       "    <tr>\n",
       "      <th>10</th>\n",
       "      <td>MG</td>\n",
       "      <td>150.280966</td>\n",
       "      <td>163336174.0</td>\n",
       "      <td>1086872</td>\n",
       "      <td>19595309</td>\n",
       "      <td>16713654</td>\n",
       "      <td>2881655</td>\n",
       "      <td>14.705841</td>\n",
       "      <td>5.546593</td>\n",
       "    </tr>\n",
       "    <tr>\n",
       "      <th>12</th>\n",
       "      <td>MT</td>\n",
       "      <td>148.018088</td>\n",
       "      <td>25655087.0</td>\n",
       "      <td>173324</td>\n",
       "      <td>3033991</td>\n",
       "      <td>2484838</td>\n",
       "      <td>549153</td>\n",
       "      <td>18.100021</td>\n",
       "      <td>5.712739</td>\n",
       "    </tr>\n",
       "    <tr>\n",
       "      <th>23</th>\n",
       "      <td>SC</td>\n",
       "      <td>146.921419</td>\n",
       "      <td>18352836.0</td>\n",
       "      <td>124916</td>\n",
       "      <td>6249682</td>\n",
       "      <td>5249197</td>\n",
       "      <td>1000485</td>\n",
       "      <td>16.008575</td>\n",
       "      <td>1.998758</td>\n",
       "    </tr>\n",
       "    <tr>\n",
       "      <th>22</th>\n",
       "      <td>RS</td>\n",
       "      <td>146.481357</td>\n",
       "      <td>58845516.0</td>\n",
       "      <td>401727</td>\n",
       "      <td>10695532</td>\n",
       "      <td>9102241</td>\n",
       "      <td>1593291</td>\n",
       "      <td>14.896791</td>\n",
       "      <td>3.756026</td>\n",
       "    </tr>\n",
       "    <tr>\n",
       "      <th>25</th>\n",
       "      <td>SP</td>\n",
       "      <td>144.554612</td>\n",
       "      <td>208243929.0</td>\n",
       "      <td>1440590</td>\n",
       "      <td>41252160</td>\n",
       "      <td>39552234</td>\n",
       "      <td>1699926</td>\n",
       "      <td>4.120817</td>\n",
       "      <td>3.492157</td>\n",
       "    </tr>\n",
       "    <tr>\n",
       "      <th>7</th>\n",
       "      <td>ES</td>\n",
       "      <td>143.441776</td>\n",
       "      <td>26104395.0</td>\n",
       "      <td>181986</td>\n",
       "      <td>3512672</td>\n",
       "      <td>2928993</td>\n",
       "      <td>583679</td>\n",
       "      <td>16.616382</td>\n",
       "      <td>5.180842</td>\n",
       "    </tr>\n",
       "    <tr>\n",
       "      <th>8</th>\n",
       "      <td>GO</td>\n",
       "      <td>141.180686</td>\n",
       "      <td>45510159.0</td>\n",
       "      <td>322354</td>\n",
       "      <td>6004045</td>\n",
       "      <td>5421069</td>\n",
       "      <td>582976</td>\n",
       "      <td>9.709721</td>\n",
       "      <td>5.368947</td>\n",
       "    </tr>\n",
       "    <tr>\n",
       "      <th>20</th>\n",
       "      <td>RO</td>\n",
       "      <td>141.178461</td>\n",
       "      <td>14048951.0</td>\n",
       "      <td>99512</td>\n",
       "      <td>1560501</td>\n",
       "      <td>1142648</td>\n",
       "      <td>417853</td>\n",
       "      <td>26.776849</td>\n",
       "      <td>6.376926</td>\n",
       "    </tr>\n",
       "    <tr>\n",
       "      <th>6</th>\n",
       "      <td>DF</td>\n",
       "      <td>139.652246</td>\n",
       "      <td>11243123.0</td>\n",
       "      <td>80508</td>\n",
       "      <td>2562963</td>\n",
       "      <td>2476249</td>\n",
       "      <td>86714</td>\n",
       "      <td>3.383350</td>\n",
       "      <td>3.141208</td>\n",
       "    </tr>\n",
       "    <tr>\n",
       "      <th>17</th>\n",
       "      <td>PR</td>\n",
       "      <td>138.535307</td>\n",
       "      <td>53577283.0</td>\n",
       "      <td>386741</td>\n",
       "      <td>10439601</td>\n",
       "      <td>8906442</td>\n",
       "      <td>1533159</td>\n",
       "      <td>14.685992</td>\n",
       "      <td>3.704557</td>\n",
       "    </tr>\n",
       "  </tbody>\n",
       "</table>\n",
       "</div>"
      ],
      "text/plain": [
       "    UF  ValorMedio   ValorTotal    Count  TotalPopulacao2010  \\\n",
       "0   AC  232.619621   19568893.0    84124              732793   \n",
       "2   AM  200.070580   74055325.0   370146             3480937   \n",
       "3   AP  188.221802   11836328.0    62885              668689   \n",
       "9   MA  187.753457  182188069.0   970358             6569683   \n",
       "16  PI  183.720743   83430345.0   454115             3119015   \n",
       "21  RR  180.033571    9047047.0    50252              451227   \n",
       "13  PA  179.787629  163520984.0   909523             7588078   \n",
       "14  PB  175.053985   91705356.0   523869             3766834   \n",
       "1   AL  167.221845   66820846.0   399594             3120922   \n",
       "26  TO  164.063461   22207466.0   135359             1383453   \n",
       "4   BA  162.385297  297585672.0  1832590            14021432   \n",
       "5   CE  159.787325  168111286.0  1052094             8448055   \n",
       "19  RN  159.046407   56305768.0   354021             3168133   \n",
       "15  PE  158.932724  179698238.0  1130656             8796032   \n",
       "11  MS  155.219806   21319906.0   137353             2449341   \n",
       "18  RJ  152.564249  123331413.0   808390            15993583   \n",
       "24  SE  151.224743   41186210.0   272351             2068031   \n",
       "10  MG  150.280966  163336174.0  1086872            19595309   \n",
       "12  MT  148.018088   25655087.0   173324             3033991   \n",
       "23  SC  146.921419   18352836.0   124916             6249682   \n",
       "22  RS  146.481357   58845516.0   401727            10695532   \n",
       "25  SP  144.554612  208243929.0  1440590            41252160   \n",
       "7   ES  143.441776   26104395.0   181986             3512672   \n",
       "8   GO  141.180686   45510159.0   322354             6004045   \n",
       "20  RO  141.178461   14048951.0    99512             1560501   \n",
       "6   DF  139.652246   11243123.0    80508             2562963   \n",
       "17  PR  138.535307   53577283.0   386741            10439601   \n",
       "\n",
       "    TotalPopulacaoUrbana  TotalPopulacaoRural  PercentRural  Percent_Pop_Bolsa  \n",
       "0                 532080               200713     27.390136          11.479913  \n",
       "2                2755756               725181     20.832925          10.633516  \n",
       "3                 600561                68128     10.188294           9.404222  \n",
       "9                4143728              2425955     36.926515          14.770241  \n",
       "16               2051316              1067699     34.231929          14.559564  \n",
       "21                344780               106447     23.590565          11.136745  \n",
       "13               5197118              2390960     31.509428          11.986210  \n",
       "14               2839002               927832     24.631614          13.907409  \n",
       "1                2298091               822831     26.364997          12.803716  \n",
       "26               1090241               293212     21.194215           9.784142  \n",
       "4               10105218              3916214     27.930200          13.069920  \n",
       "5                6343990              2104065     24.905910          12.453683  \n",
       "19               2465439               702694     22.180066          11.174436  \n",
       "15               7049868              1746164     19.851724          12.854160  \n",
       "11               2097716               351625     14.355902           5.607753  \n",
       "18              15466996               526587      3.292489           5.054465  \n",
       "24               1520243               547788     26.488384          13.169580  \n",
       "10              16713654              2881655     14.705841           5.546593  \n",
       "12               2484838               549153     18.100021           5.712739  \n",
       "23               5249197              1000485     16.008575           1.998758  \n",
       "22               9102241              1593291     14.896791           3.756026  \n",
       "25              39552234              1699926      4.120817           3.492157  \n",
       "7                2928993               583679     16.616382           5.180842  \n",
       "8                5421069               582976      9.709721           5.368947  \n",
       "20               1142648               417853     26.776849           6.376926  \n",
       "6                2476249                86714      3.383350           3.141208  \n",
       "17               8906442              1533159     14.685992           3.704557  "
      ]
     },
     "execution_count": 403,
     "metadata": {},
     "output_type": "execute_result"
    }
   ],
   "source": [
    "PorEstado.sort_values('ValorMedio', ascending=False)"
   ]
  },
  {
   "cell_type": "markdown",
   "metadata": {},
   "source": [
    "------\n"
   ]
  },
  {
   "cell_type": "markdown",
   "metadata": {},
   "source": [
    "#### Lendo o arquivo do Bolsa-Família de 5 anos atrás (06/2011)\n",
    "\n",
    "A minha ideia era também explorar informações a respeito das mudanças que ocorreram entre as amostras nesse período de 5 anos."
   ]
  },
  {
   "cell_type": "code",
   "execution_count": 450,
   "metadata": {
    "collapsed": true
   },
   "outputs": [],
   "source": [
    "dfBolsa2011 = pd.read_csv('201106_BolsaFamiliaFolhaPagamento.csv',\n",
    "                      sep='\\t',\n",
    "                      header=(0),\n",
    "                      encoding='cp1252',\n",
    "                      dtype={\"Valor Parcela\": np.str,\n",
    "                             \"Código SIAFI Município\": np.str})\n",
    "\n",
    "dfBolsa2011.rename(columns={\"Código SIAFI Município\": \"CodigoSIAFImunicipio\",\n",
    "                            \"Nome Município\": \"NomeMunicipio\",\n",
    "                            \"Código Função\": \"CodigoFuncao\",\n",
    "                            \"Código Subfunção\": \"CodigoSubfuncao\",\n",
    "                            \"Código Programa\": \"CodigoPrograma\",\n",
    "                            \"Código Ação\": \"CodigoAcao\",\n",
    "                            \"NIS Favorecido\": \"NISFavorecido\",\n",
    "                            \"Nome Favorecido\": \"NomeFavorecido\",\n",
    "                            \"Fonte-Finalidade\": \"FonteFinalidade\",\n",
    "                            \"Valor Parcela\": \"ValorParcela\",\n",
    "                            \"Mês Competência\": \"MesCompetencia\"}, inplace=True)\n",
    "\n",
    "dfBolsa2011.ValorParcela = dfBolsa2011.ValorParcela.str.replace(\",\",\"\")\n",
    "dfBolsa2011.ValorParcela = dfBolsa2011.ValorParcela.apply(pd.to_numeric)\n",
    "del dfBolsa2011['FonteFinalidade']\n",
    "dfBolsa2011.head()\n",
    "\n",
    "dfBolsaTmp2 = dfBolsa2011.groupby('CodigoSIAFImunicipio')\n",
    "dfBolsa2011Grouped = dfBolsaTmp2['ValorParcela'].agg({'ValorTotal':np.sum, 'ValorMedio':np.mean})\n",
    "dfBolsa2011Grouped['Count'] = dfBolsaTmp2.size()\n",
    "dfBolsa2011Grouped.reset_index(inplace=True)\n",
    "dfBolsa2011Grouped.rename(columns={'ValorMedio': 'ValorMedio2011',\n",
    "                                   'ValorTotal': 'ValorTotal2011',\n",
    "                                   'Count': 'Count2011'}, inplace=True)\n",
    "\n",
    "df2 = df2.merge(dfBolsa2011Grouped, on='CodigoSIAFImunicipio', how='left')\n",
    "df2.rename(columns={'ValorMedio': 'ValorMedio2016',\n",
    "                    'ValorTotal': 'ValorTotal2016',\n",
    "                    'Count': 'QtdeRepasses2016',\n",
    "                    'PercentRural': 'PercentPopulacaoRural2010',\n",
    "                    'Percent_Pop_Bolsa': 'PercentPopulacaoBolsa2016',\n",
    "                    'Count2011': 'QtdeRepasses2011'}, inplace=True)\n"
   ]
  },
  {
   "cell_type": "code",
   "execution_count": 455,
   "metadata": {
    "collapsed": false
   },
   "outputs": [],
   "source": [
    "PorMunicipio = df2[['CodigoSIAFImunicipio', 'CodMunicipio', 'NomeMunicipio', 'UF', 'Regiao', 'NomeAlternativo',\n",
    "                    'TotalPopulacao2010', 'PercentPopulacaoRural2010',\n",
    "                    'ValorMedio2016', 'ValorTotal2016', 'QtdeRepasses2016', 'PercentPopulacaoBolsa2016',\n",
    "                    'ValorMedio2011', 'ValorTotal2011', 'QtdeRepasses2011']].copy()"
   ]
  },
  {
   "cell_type": "code",
   "execution_count": 456,
   "metadata": {
    "collapsed": false
   },
   "outputs": [],
   "source": [
    "PorMunicipio['PercentPopulacaoBolsa2011'] = (PorMunicipio['QtdeRepasses2011']/PorMunicipio['TotalPopulacao2010'])*100"
   ]
  },
  {
   "cell_type": "code",
   "execution_count": 458,
   "metadata": {
    "collapsed": false
   },
   "outputs": [
    {
     "data": {
      "text/html": [
       "<div>\n",
       "<table border=\"1\" class=\"dataframe\">\n",
       "  <thead>\n",
       "    <tr style=\"text-align: right;\">\n",
       "      <th></th>\n",
       "      <th>CodigoSIAFImunicipio</th>\n",
       "      <th>CodMunicipio</th>\n",
       "      <th>NomeMunicipio</th>\n",
       "      <th>UF</th>\n",
       "      <th>Regiao</th>\n",
       "      <th>NomeAlternativo</th>\n",
       "      <th>TotalPopulacao2010</th>\n",
       "      <th>PercentPopulacaoRural2010</th>\n",
       "      <th>ValorMedio2016</th>\n",
       "      <th>ValorTotal2016</th>\n",
       "      <th>QtdeRepasses2016</th>\n",
       "      <th>PercentPopulacaoBolsa2016</th>\n",
       "      <th>ValorMedio2011</th>\n",
       "      <th>ValorTotal2011</th>\n",
       "      <th>QtdeRepasses2011</th>\n",
       "      <th>PercentPopulacaoBolsa2011</th>\n",
       "    </tr>\n",
       "  </thead>\n",
       "  <tbody>\n",
       "    <tr>\n",
       "      <th>0</th>\n",
       "      <td>0001</td>\n",
       "      <td>1100106</td>\n",
       "      <td>GUAJARA-MIRIM</td>\n",
       "      <td>RO</td>\n",
       "      <td>Norte</td>\n",
       "      <td>None</td>\n",
       "      <td>41646</td>\n",
       "      <td>15.485281</td>\n",
       "      <td>156.740193</td>\n",
       "      <td>583387.0</td>\n",
       "      <td>3722</td>\n",
       "      <td>8.937233</td>\n",
       "      <td>126.622605</td>\n",
       "      <td>455968.0</td>\n",
       "      <td>3601</td>\n",
       "      <td>8.646689</td>\n",
       "    </tr>\n",
       "    <tr>\n",
       "      <th>1</th>\n",
       "      <td>0002</td>\n",
       "      <td>1100379</td>\n",
       "      <td>ALTO ALEGRE DOS PARECIS</td>\n",
       "      <td>RO</td>\n",
       "      <td>Norte</td>\n",
       "      <td>None</td>\n",
       "      <td>12826</td>\n",
       "      <td>71.425230</td>\n",
       "      <td>144.883144</td>\n",
       "      <td>140102.0</td>\n",
       "      <td>967</td>\n",
       "      <td>7.539373</td>\n",
       "      <td>117.087745</td>\n",
       "      <td>161464.0</td>\n",
       "      <td>1379</td>\n",
       "      <td>10.751598</td>\n",
       "    </tr>\n",
       "    <tr>\n",
       "      <th>2</th>\n",
       "      <td>0003</td>\n",
       "      <td>1100205</td>\n",
       "      <td>PORTO VELHO</td>\n",
       "      <td>RO</td>\n",
       "      <td>Norte</td>\n",
       "      <td>None</td>\n",
       "      <td>426558</td>\n",
       "      <td>8.332747</td>\n",
       "      <td>145.421862</td>\n",
       "      <td>3517464.0</td>\n",
       "      <td>24188</td>\n",
       "      <td>5.670507</td>\n",
       "      <td>122.481202</td>\n",
       "      <td>2681236.0</td>\n",
       "      <td>21891</td>\n",
       "      <td>5.132010</td>\n",
       "    </tr>\n",
       "    <tr>\n",
       "      <th>3</th>\n",
       "      <td>0004</td>\n",
       "      <td>1100452</td>\n",
       "      <td>BURITIS</td>\n",
       "      <td>RO</td>\n",
       "      <td>Norte</td>\n",
       "      <td>None</td>\n",
       "      <td>32385</td>\n",
       "      <td>44.069785</td>\n",
       "      <td>139.553310</td>\n",
       "      <td>400518.0</td>\n",
       "      <td>2870</td>\n",
       "      <td>8.862128</td>\n",
       "      <td>117.510664</td>\n",
       "      <td>385670.0</td>\n",
       "      <td>3282</td>\n",
       "      <td>10.134321</td>\n",
       "    </tr>\n",
       "    <tr>\n",
       "      <th>4</th>\n",
       "      <td>0005</td>\n",
       "      <td>1100122</td>\n",
       "      <td>JI-PARANA</td>\n",
       "      <td>RO</td>\n",
       "      <td>Norte</td>\n",
       "      <td>None</td>\n",
       "      <td>116587</td>\n",
       "      <td>10.074880</td>\n",
       "      <td>137.725603</td>\n",
       "      <td>644969.0</td>\n",
       "      <td>4683</td>\n",
       "      <td>4.016743</td>\n",
       "      <td>104.328395</td>\n",
       "      <td>669058.0</td>\n",
       "      <td>6413</td>\n",
       "      <td>5.500613</td>\n",
       "    </tr>\n",
       "  </tbody>\n",
       "</table>\n",
       "</div>"
      ],
      "text/plain": [
       "  CodigoSIAFImunicipio CodMunicipio            NomeMunicipio  UF Regiao  \\\n",
       "0                 0001      1100106            GUAJARA-MIRIM  RO  Norte   \n",
       "1                 0002      1100379  ALTO ALEGRE DOS PARECIS  RO  Norte   \n",
       "2                 0003      1100205              PORTO VELHO  RO  Norte   \n",
       "3                 0004      1100452                  BURITIS  RO  Norte   \n",
       "4                 0005      1100122                JI-PARANA  RO  Norte   \n",
       "\n",
       "  NomeAlternativo  TotalPopulacao2010  PercentPopulacaoRural2010  \\\n",
       "0            None               41646                  15.485281   \n",
       "1            None               12826                  71.425230   \n",
       "2            None              426558                   8.332747   \n",
       "3            None               32385                  44.069785   \n",
       "4            None              116587                  10.074880   \n",
       "\n",
       "   ValorMedio2016  ValorTotal2016  QtdeRepasses2016  \\\n",
       "0      156.740193        583387.0              3722   \n",
       "1      144.883144        140102.0               967   \n",
       "2      145.421862       3517464.0             24188   \n",
       "3      139.553310        400518.0              2870   \n",
       "4      137.725603        644969.0              4683   \n",
       "\n",
       "   PercentPopulacaoBolsa2016  ValorMedio2011  ValorTotal2011  \\\n",
       "0                   8.937233      126.622605        455968.0   \n",
       "1                   7.539373      117.087745        161464.0   \n",
       "2                   5.670507      122.481202       2681236.0   \n",
       "3                   8.862128      117.510664        385670.0   \n",
       "4                   4.016743      104.328395        669058.0   \n",
       "\n",
       "   QtdeRepasses2011  PercentPopulacaoBolsa2011  \n",
       "0              3601                   8.646689  \n",
       "1              1379                  10.751598  \n",
       "2             21891                   5.132010  \n",
       "3              3282                  10.134321  \n",
       "4              6413                   5.500613  "
      ]
     },
     "execution_count": 458,
     "metadata": {},
     "output_type": "execute_result"
    }
   ],
   "source": [
    "PorMunicipio.head()"
   ]
  },
  {
   "cell_type": "code",
   "execution_count": 459,
   "metadata": {
    "collapsed": true
   },
   "outputs": [],
   "source": [
    "PorMunicipio['Diferenca2016para2011']=PorMunicipio['PercentPopulacaoBolsa2016']-PorMunicipio['PercentPopulacaoBolsa2011']"
   ]
  },
  {
   "cell_type": "code",
   "execution_count": 462,
   "metadata": {
    "collapsed": false
   },
   "outputs": [
    {
     "data": {
      "text/html": [
       "<div>\n",
       "<table border=\"1\" class=\"dataframe\">\n",
       "  <thead>\n",
       "    <tr style=\"text-align: right;\">\n",
       "      <th></th>\n",
       "      <th>CodigoSIAFImunicipio</th>\n",
       "      <th>CodMunicipio</th>\n",
       "      <th>NomeMunicipio</th>\n",
       "      <th>UF</th>\n",
       "      <th>Regiao</th>\n",
       "      <th>NomeAlternativo</th>\n",
       "      <th>TotalPopulacao2010</th>\n",
       "      <th>PercentPopulacaoRural2010</th>\n",
       "      <th>ValorMedio2016</th>\n",
       "      <th>ValorTotal2016</th>\n",
       "      <th>QtdeRepasses2016</th>\n",
       "      <th>PercentPopulacaoBolsa2016</th>\n",
       "      <th>ValorMedio2011</th>\n",
       "      <th>ValorTotal2011</th>\n",
       "      <th>QtdeRepasses2011</th>\n",
       "      <th>PercentPopulacaoBolsa2011</th>\n",
       "      <th>Diferenca2016para2011</th>\n",
       "    </tr>\n",
       "  </thead>\n",
       "  <tbody>\n",
       "    <tr>\n",
       "      <th>1176</th>\n",
       "      <td>1180</td>\n",
       "      <td>2206720</td>\n",
       "      <td>NAZARIA</td>\n",
       "      <td>PI</td>\n",
       "      <td>Nordeste</td>\n",
       "      <td>None</td>\n",
       "      <td>8039</td>\n",
       "      <td>79.450180</td>\n",
       "      <td>195.472783</td>\n",
       "      <td>319598.0</td>\n",
       "      <td>1635</td>\n",
       "      <td>20.338351</td>\n",
       "      <td>103.448819</td>\n",
       "      <td>39414.0</td>\n",
       "      <td>381</td>\n",
       "      <td>4.739395</td>\n",
       "      <td>15.598955</td>\n",
       "    </tr>\n",
       "    <tr>\n",
       "      <th>525</th>\n",
       "      <td>0527</td>\n",
       "      <td>1506401</td>\n",
       "      <td>SANTA CRUZ DO ARARI</td>\n",
       "      <td>PA</td>\n",
       "      <td>Norte</td>\n",
       "      <td>None</td>\n",
       "      <td>8163</td>\n",
       "      <td>50.986157</td>\n",
       "      <td>203.234396</td>\n",
       "      <td>306071.0</td>\n",
       "      <td>1506</td>\n",
       "      <td>18.449100</td>\n",
       "      <td>120.627660</td>\n",
       "      <td>68034.0</td>\n",
       "      <td>564</td>\n",
       "      <td>6.909225</td>\n",
       "      <td>11.539875</td>\n",
       "    </tr>\n",
       "    <tr>\n",
       "      <th>653</th>\n",
       "      <td>0655</td>\n",
       "      <td>1200351</td>\n",
       "      <td>MARECHAL THAUMATURGO</td>\n",
       "      <td>AC</td>\n",
       "      <td>Norte</td>\n",
       "      <td>None</td>\n",
       "      <td>14200</td>\n",
       "      <td>72.035211</td>\n",
       "      <td>288.373374</td>\n",
       "      <td>753808.0</td>\n",
       "      <td>2614</td>\n",
       "      <td>18.408451</td>\n",
       "      <td>146.794619</td>\n",
       "      <td>163676.0</td>\n",
       "      <td>1115</td>\n",
       "      <td>7.852113</td>\n",
       "      <td>10.556338</td>\n",
       "    </tr>\n",
       "    <tr>\n",
       "      <th>667</th>\n",
       "      <td>0669</td>\n",
       "      <td>1600253</td>\n",
       "      <td>ITAUBAL</td>\n",
       "      <td>AP</td>\n",
       "      <td>Norte</td>\n",
       "      <td>None</td>\n",
       "      <td>4267</td>\n",
       "      <td>58.612608</td>\n",
       "      <td>257.200696</td>\n",
       "      <td>221707.0</td>\n",
       "      <td>862</td>\n",
       "      <td>20.201547</td>\n",
       "      <td>131.985577</td>\n",
       "      <td>54906.0</td>\n",
       "      <td>416</td>\n",
       "      <td>9.749238</td>\n",
       "      <td>10.452308</td>\n",
       "    </tr>\n",
       "    <tr>\n",
       "      <th>535</th>\n",
       "      <td>0537</td>\n",
       "      <td>1506906</td>\n",
       "      <td>SANTAREM NOVO</td>\n",
       "      <td>PA</td>\n",
       "      <td>Norte</td>\n",
       "      <td>None</td>\n",
       "      <td>6145</td>\n",
       "      <td>70.496338</td>\n",
       "      <td>178.422642</td>\n",
       "      <td>236410.0</td>\n",
       "      <td>1325</td>\n",
       "      <td>21.562246</td>\n",
       "      <td>129.760218</td>\n",
       "      <td>95244.0</td>\n",
       "      <td>734</td>\n",
       "      <td>11.944670</td>\n",
       "      <td>9.617575</td>\n",
       "    </tr>\n",
       "  </tbody>\n",
       "</table>\n",
       "</div>"
      ],
      "text/plain": [
       "     CodigoSIAFImunicipio CodMunicipio         NomeMunicipio  UF    Regiao  \\\n",
       "1176                 1180      2206720               NAZARIA  PI  Nordeste   \n",
       "525                  0527      1506401   SANTA CRUZ DO ARARI  PA     Norte   \n",
       "653                  0655      1200351  MARECHAL THAUMATURGO  AC     Norte   \n",
       "667                  0669      1600253               ITAUBAL  AP     Norte   \n",
       "535                  0537      1506906         SANTAREM NOVO  PA     Norte   \n",
       "\n",
       "     NomeAlternativo  TotalPopulacao2010  PercentPopulacaoRural2010  \\\n",
       "1176            None                8039                  79.450180   \n",
       "525             None                8163                  50.986157   \n",
       "653             None               14200                  72.035211   \n",
       "667             None                4267                  58.612608   \n",
       "535             None                6145                  70.496338   \n",
       "\n",
       "      ValorMedio2016  ValorTotal2016  QtdeRepasses2016  \\\n",
       "1176      195.472783        319598.0              1635   \n",
       "525       203.234396        306071.0              1506   \n",
       "653       288.373374        753808.0              2614   \n",
       "667       257.200696        221707.0               862   \n",
       "535       178.422642        236410.0              1325   \n",
       "\n",
       "      PercentPopulacaoBolsa2016  ValorMedio2011  ValorTotal2011  \\\n",
       "1176                  20.338351      103.448819         39414.0   \n",
       "525                   18.449100      120.627660         68034.0   \n",
       "653                   18.408451      146.794619        163676.0   \n",
       "667                   20.201547      131.985577         54906.0   \n",
       "535                   21.562246      129.760218         95244.0   \n",
       "\n",
       "      QtdeRepasses2011  PercentPopulacaoBolsa2011  Diferenca2016para2011  \n",
       "1176               381                   4.739395              15.598955  \n",
       "525                564                   6.909225              11.539875  \n",
       "653               1115                   7.852113              10.556338  \n",
       "667                416                   9.749238              10.452308  \n",
       "535                734                  11.944670               9.617575  "
      ]
     },
     "execution_count": 462,
     "metadata": {},
     "output_type": "execute_result"
    }
   ],
   "source": [
    "PorMunicipio.sort_values('Diferenca2016para2011', ascending=False).head()"
   ]
  },
  {
   "cell_type": "code",
   "execution_count": 478,
   "metadata": {
    "collapsed": false
   },
   "outputs": [],
   "source": [
    "PorMunicipio = PorMunicipio.merge(dfMunicipiosRelated[['CodMunicipio','Latitude','Longitude']], on='CodMunicipio', how='left')"
   ]
  },
  {
   "cell_type": "code",
   "execution_count": 479,
   "metadata": {
    "collapsed": false
   },
   "outputs": [
    {
     "name": "stdout",
     "output_type": "stream",
     "text": [
      "<class 'pandas.core.frame.DataFrame'>\n",
      "Int64Index: 5565 entries, 0 to 5564\n",
      "Data columns (total 19 columns):\n",
      "CodigoSIAFImunicipio         5565 non-null object\n",
      "CodMunicipio                 5565 non-null object\n",
      "NomeMunicipio                5565 non-null object\n",
      "UF                           5565 non-null object\n",
      "Regiao                       5565 non-null object\n",
      "NomeAlternativo              58 non-null object\n",
      "TotalPopulacao2010           5565 non-null int64\n",
      "PercentPopulacaoRural2010    5565 non-null float64\n",
      "ValorMedio2016               5565 non-null float64\n",
      "ValorTotal2016               5565 non-null float64\n",
      "QtdeRepasses2016             5565 non-null int64\n",
      "PercentPopulacaoBolsa2016    5565 non-null float64\n",
      "ValorMedio2011               5565 non-null float64\n",
      "ValorTotal2011               5565 non-null float64\n",
      "QtdeRepasses2011             5565 non-null int64\n",
      "PercentPopulacaoBolsa2011    5565 non-null float64\n",
      "Diferenca2016para2011        5565 non-null float64\n",
      "Latitude                     5478 non-null float64\n",
      "Longitude                    5478 non-null float64\n",
      "dtypes: float64(10), int64(3), object(6)\n",
      "memory usage: 869.5+ KB\n"
     ]
    }
   ],
   "source": [
    "PorMunicipio.info()"
   ]
  },
  {
   "cell_type": "code",
   "execution_count": 559,
   "metadata": {
    "collapsed": false
   },
   "outputs": [
    {
     "data": {
      "text/html": [
       "<div>\n",
       "<table border=\"1\" class=\"dataframe\">\n",
       "  <thead>\n",
       "    <tr style=\"text-align: right;\">\n",
       "      <th></th>\n",
       "      <th>NomeMunicipio</th>\n",
       "      <th>UF</th>\n",
       "      <th>TotalPopulacao2010</th>\n",
       "      <th>PercentPopulacaoBolsa2016</th>\n",
       "    </tr>\n",
       "  </thead>\n",
       "  <tbody>\n",
       "    <tr>\n",
       "      <th>253</th>\n",
       "      <td>SERRANO DO MARANHAO</td>\n",
       "      <td>MA</td>\n",
       "      <td>10924</td>\n",
       "      <td>26.354815</td>\n",
       "    </tr>\n",
       "    <tr>\n",
       "      <th>915</th>\n",
       "      <td>SAO JOAO BATISTA</td>\n",
       "      <td>MA</td>\n",
       "      <td>19966</td>\n",
       "      <td>25.393168</td>\n",
       "    </tr>\n",
       "    <tr>\n",
       "      <th>295</th>\n",
       "      <td>CAPITAO GERVASIO OLIVEIRA</td>\n",
       "      <td>PI</td>\n",
       "      <td>3876</td>\n",
       "      <td>25.103199</td>\n",
       "    </tr>\n",
       "    <tr>\n",
       "      <th>849</th>\n",
       "      <td>PALMEIRANDIA</td>\n",
       "      <td>MA</td>\n",
       "      <td>18766</td>\n",
       "      <td>24.816157</td>\n",
       "    </tr>\n",
       "    <tr>\n",
       "      <th>827</th>\n",
       "      <td>MATINHA</td>\n",
       "      <td>MA</td>\n",
       "      <td>21832</td>\n",
       "      <td>24.354159</td>\n",
       "    </tr>\n",
       "    <tr>\n",
       "      <th>2164</th>\n",
       "      <td>GRACHO CARDOSO</td>\n",
       "      <td>SE</td>\n",
       "      <td>5648</td>\n",
       "      <td>24.061615</td>\n",
       "    </tr>\n",
       "    <tr>\n",
       "      <th>364</th>\n",
       "      <td>PAVUSSU</td>\n",
       "      <td>PI</td>\n",
       "      <td>3666</td>\n",
       "      <td>24.058920</td>\n",
       "    </tr>\n",
       "    <tr>\n",
       "      <th>368</th>\n",
       "      <td>NOVA SANTA RITA</td>\n",
       "      <td>PI</td>\n",
       "      <td>4192</td>\n",
       "      <td>24.021947</td>\n",
       "    </tr>\n",
       "    <tr>\n",
       "      <th>386</th>\n",
       "      <td>SAO JOAO DO ARRAIAL</td>\n",
       "      <td>PI</td>\n",
       "      <td>7337</td>\n",
       "      <td>24.015265</td>\n",
       "    </tr>\n",
       "    <tr>\n",
       "      <th>275</th>\n",
       "      <td>BELEM DO PIAUI</td>\n",
       "      <td>PI</td>\n",
       "      <td>3284</td>\n",
       "      <td>23.995128</td>\n",
       "    </tr>\n",
       "    <tr>\n",
       "      <th>1102</th>\n",
       "      <td>PAU D'ARCO DO PIAUI</td>\n",
       "      <td>PI</td>\n",
       "      <td>3757</td>\n",
       "      <td>23.928666</td>\n",
       "    </tr>\n",
       "    <tr>\n",
       "      <th>404</th>\n",
       "      <td>VERA MENDES</td>\n",
       "      <td>PI</td>\n",
       "      <td>2987</td>\n",
       "      <td>23.903582</td>\n",
       "    </tr>\n",
       "    <tr>\n",
       "      <th>1809</th>\n",
       "      <td>INAJA</td>\n",
       "      <td>PE</td>\n",
       "      <td>19081</td>\n",
       "      <td>23.835229</td>\n",
       "    </tr>\n",
       "    <tr>\n",
       "      <th>701</th>\n",
       "      <td>ALCANTARA</td>\n",
       "      <td>MA</td>\n",
       "      <td>21852</td>\n",
       "      <td>23.819330</td>\n",
       "    </tr>\n",
       "    <tr>\n",
       "      <th>1954</th>\n",
       "      <td>CAMPO GRANDE</td>\n",
       "      <td>AL</td>\n",
       "      <td>9032</td>\n",
       "      <td>23.715678</td>\n",
       "    </tr>\n",
       "    <tr>\n",
       "      <th>374</th>\n",
       "      <td>RIBEIRA DO PIAUI</td>\n",
       "      <td>PI</td>\n",
       "      <td>4263</td>\n",
       "      <td>23.645320</td>\n",
       "    </tr>\n",
       "    <tr>\n",
       "      <th>1019</th>\n",
       "      <td>AVELINO LOPES</td>\n",
       "      <td>PI</td>\n",
       "      <td>11067</td>\n",
       "      <td>23.637842</td>\n",
       "    </tr>\n",
       "    <tr>\n",
       "      <th>293</th>\n",
       "      <td>CAMPO LARGO DO PIAUI</td>\n",
       "      <td>PI</td>\n",
       "      <td>6803</td>\n",
       "      <td>23.607232</td>\n",
       "    </tr>\n",
       "    <tr>\n",
       "      <th>283</th>\n",
       "      <td>BREJO DO PIAUI</td>\n",
       "      <td>PI</td>\n",
       "      <td>3852</td>\n",
       "      <td>23.468328</td>\n",
       "    </tr>\n",
       "    <tr>\n",
       "      <th>400</th>\n",
       "      <td>TAMBORIL DO PIAUI</td>\n",
       "      <td>PI</td>\n",
       "      <td>2755</td>\n",
       "      <td>23.411978</td>\n",
       "    </tr>\n",
       "    <tr>\n",
       "      <th>442</th>\n",
       "      <td>AMPARO</td>\n",
       "      <td>PB</td>\n",
       "      <td>2088</td>\n",
       "      <td>23.227969</td>\n",
       "    </tr>\n",
       "    <tr>\n",
       "      <th>2293</th>\n",
       "      <td>CALDEIRAO GRANDE</td>\n",
       "      <td>BA</td>\n",
       "      <td>12485</td>\n",
       "      <td>23.171806</td>\n",
       "    </tr>\n",
       "    <tr>\n",
       "      <th>340</th>\n",
       "      <td>LAGOA DO SITIO</td>\n",
       "      <td>PI</td>\n",
       "      <td>4853</td>\n",
       "      <td>23.160931</td>\n",
       "    </tr>\n",
       "    <tr>\n",
       "      <th>141</th>\n",
       "      <td>CAPINZAL DO NORTE</td>\n",
       "      <td>MA</td>\n",
       "      <td>10698</td>\n",
       "      <td>23.153861</td>\n",
       "    </tr>\n",
       "    <tr>\n",
       "      <th>1717</th>\n",
       "      <td>CORONEL JOSE DIAS</td>\n",
       "      <td>PI</td>\n",
       "      <td>4541</td>\n",
       "      <td>23.078617</td>\n",
       "    </tr>\n",
       "    <tr>\n",
       "      <th>1998</th>\n",
       "      <td>OLHO D'AGUA GRANDE</td>\n",
       "      <td>AL</td>\n",
       "      <td>4957</td>\n",
       "      <td>23.038128</td>\n",
       "    </tr>\n",
       "    <tr>\n",
       "      <th>209</th>\n",
       "      <td>PERITORO</td>\n",
       "      <td>MA</td>\n",
       "      <td>20274</td>\n",
       "      <td>23.009766</td>\n",
       "    </tr>\n",
       "    <tr>\n",
       "      <th>289</th>\n",
       "      <td>CAMPO ALEGRE DO FIDALGO</td>\n",
       "      <td>PI</td>\n",
       "      <td>4696</td>\n",
       "      <td>22.998296</td>\n",
       "    </tr>\n",
       "    <tr>\n",
       "      <th>1538</th>\n",
       "      <td>VICOSA</td>\n",
       "      <td>RN</td>\n",
       "      <td>1618</td>\n",
       "      <td>22.991347</td>\n",
       "    </tr>\n",
       "    <tr>\n",
       "      <th>478</th>\n",
       "      <td>GADO BRAVO</td>\n",
       "      <td>PB</td>\n",
       "      <td>8376</td>\n",
       "      <td>22.970392</td>\n",
       "    </tr>\n",
       "    <tr>\n",
       "      <th>...</th>\n",
       "      <td>...</td>\n",
       "      <td>...</td>\n",
       "      <td>...</td>\n",
       "      <td>...</td>\n",
       "    </tr>\n",
       "    <tr>\n",
       "      <th>4948</th>\n",
       "      <td>NOVA ARACA</td>\n",
       "      <td>RS</td>\n",
       "      <td>4003</td>\n",
       "      <td>0.599550</td>\n",
       "    </tr>\n",
       "    <tr>\n",
       "      <th>3605</th>\n",
       "      <td>SANTA CLARA DO SUL</td>\n",
       "      <td>RS</td>\n",
       "      <td>5692</td>\n",
       "      <td>0.597330</td>\n",
       "    </tr>\n",
       "    <tr>\n",
       "      <th>3612</th>\n",
       "      <td>LINHA NOVA</td>\n",
       "      <td>RS</td>\n",
       "      <td>1624</td>\n",
       "      <td>0.554187</td>\n",
       "    </tr>\n",
       "    <tr>\n",
       "      <th>4251</th>\n",
       "      <td>POCO DAS ANTAS</td>\n",
       "      <td>RS</td>\n",
       "      <td>2017</td>\n",
       "      <td>0.545364</td>\n",
       "    </tr>\n",
       "    <tr>\n",
       "      <th>3560</th>\n",
       "      <td>BARRA FUNDA</td>\n",
       "      <td>RS</td>\n",
       "      <td>2367</td>\n",
       "      <td>0.506971</td>\n",
       "    </tr>\n",
       "    <tr>\n",
       "      <th>4881</th>\n",
       "      <td>DOIS IRMAOS</td>\n",
       "      <td>RS</td>\n",
       "      <td>27572</td>\n",
       "      <td>0.504135</td>\n",
       "    </tr>\n",
       "    <tr>\n",
       "      <th>4950</th>\n",
       "      <td>NOVA BRESCIA</td>\n",
       "      <td>RS</td>\n",
       "      <td>3184</td>\n",
       "      <td>0.502513</td>\n",
       "    </tr>\n",
       "    <tr>\n",
       "      <th>4865</th>\n",
       "      <td>CARLOS BARBOSA</td>\n",
       "      <td>RS</td>\n",
       "      <td>25193</td>\n",
       "      <td>0.492200</td>\n",
       "    </tr>\n",
       "    <tr>\n",
       "      <th>3585</th>\n",
       "      <td>MONTE BELO DO SUL</td>\n",
       "      <td>RS</td>\n",
       "      <td>2670</td>\n",
       "      <td>0.486891</td>\n",
       "    </tr>\n",
       "    <tr>\n",
       "      <th>4747</th>\n",
       "      <td>TIMBO</td>\n",
       "      <td>SC</td>\n",
       "      <td>36817</td>\n",
       "      <td>0.486188</td>\n",
       "    </tr>\n",
       "    <tr>\n",
       "      <th>3600</th>\n",
       "      <td>PRESIDENTE LUCENA</td>\n",
       "      <td>RS</td>\n",
       "      <td>2485</td>\n",
       "      <td>0.482897</td>\n",
       "    </tr>\n",
       "    <tr>\n",
       "      <th>4811</th>\n",
       "      <td>BARAO</td>\n",
       "      <td>RS</td>\n",
       "      <td>5742</td>\n",
       "      <td>0.470219</td>\n",
       "    </tr>\n",
       "    <tr>\n",
       "      <th>1151</th>\n",
       "      <td>PAULO BENTO</td>\n",
       "      <td>RS</td>\n",
       "      <td>2196</td>\n",
       "      <td>0.455373</td>\n",
       "    </tr>\n",
       "    <tr>\n",
       "      <th>4590</th>\n",
       "      <td>BENEDITO NOVO</td>\n",
       "      <td>SC</td>\n",
       "      <td>10331</td>\n",
       "      <td>0.454941</td>\n",
       "    </tr>\n",
       "    <tr>\n",
       "      <th>1172</th>\n",
       "      <td>WESTFALIA</td>\n",
       "      <td>RS</td>\n",
       "      <td>2793</td>\n",
       "      <td>0.429646</td>\n",
       "    </tr>\n",
       "    <tr>\n",
       "      <th>3586</th>\n",
       "      <td>SANTA TEREZA</td>\n",
       "      <td>RS</td>\n",
       "      <td>1717</td>\n",
       "      <td>0.407688</td>\n",
       "    </tr>\n",
       "    <tr>\n",
       "      <th>4706</th>\n",
       "      <td>PRESIDENTE GETULIO</td>\n",
       "      <td>SC</td>\n",
       "      <td>14886</td>\n",
       "      <td>0.369475</td>\n",
       "    </tr>\n",
       "    <tr>\n",
       "      <th>4215</th>\n",
       "      <td>SAO VENDELINO</td>\n",
       "      <td>RS</td>\n",
       "      <td>1944</td>\n",
       "      <td>0.360082</td>\n",
       "    </tr>\n",
       "    <tr>\n",
       "      <th>958</th>\n",
       "      <td>BOA VISTA DO SUL</td>\n",
       "      <td>RS</td>\n",
       "      <td>2778</td>\n",
       "      <td>0.359971</td>\n",
       "    </tr>\n",
       "    <tr>\n",
       "      <th>4698</th>\n",
       "      <td>POMERODE</td>\n",
       "      <td>SC</td>\n",
       "      <td>27772</td>\n",
       "      <td>0.327668</td>\n",
       "    </tr>\n",
       "    <tr>\n",
       "      <th>4262</th>\n",
       "      <td>MONTAURI</td>\n",
       "      <td>RS</td>\n",
       "      <td>1542</td>\n",
       "      <td>0.324254</td>\n",
       "    </tr>\n",
       "    <tr>\n",
       "      <th>3367</th>\n",
       "      <td>BRACO DO TROMBUDO</td>\n",
       "      <td>SC</td>\n",
       "      <td>3457</td>\n",
       "      <td>0.318195</td>\n",
       "    </tr>\n",
       "    <tr>\n",
       "      <th>4234</th>\n",
       "      <td>TRES ARROIOS</td>\n",
       "      <td>RS</td>\n",
       "      <td>2855</td>\n",
       "      <td>0.315236</td>\n",
       "    </tr>\n",
       "    <tr>\n",
       "      <th>3599</th>\n",
       "      <td>PICADA CAFE</td>\n",
       "      <td>RS</td>\n",
       "      <td>5182</td>\n",
       "      <td>0.308761</td>\n",
       "    </tr>\n",
       "    <tr>\n",
       "      <th>1026</th>\n",
       "      <td>VESPASIANO CORREA</td>\n",
       "      <td>RS</td>\n",
       "      <td>1974</td>\n",
       "      <td>0.303951</td>\n",
       "    </tr>\n",
       "    <tr>\n",
       "      <th>4588</th>\n",
       "      <td>BALNEARIO CAMBORIU</td>\n",
       "      <td>SC</td>\n",
       "      <td>108107</td>\n",
       "      <td>0.278428</td>\n",
       "    </tr>\n",
       "    <tr>\n",
       "      <th>3611</th>\n",
       "      <td>ALTO FELIZ</td>\n",
       "      <td>RS</td>\n",
       "      <td>2908</td>\n",
       "      <td>0.275103</td>\n",
       "    </tr>\n",
       "    <tr>\n",
       "      <th>5057</th>\n",
       "      <td>COTIPORA</td>\n",
       "      <td>RS</td>\n",
       "      <td>3917</td>\n",
       "      <td>0.229768</td>\n",
       "    </tr>\n",
       "    <tr>\n",
       "      <th>4257</th>\n",
       "      <td>NOVA ROMA DO SUL</td>\n",
       "      <td>RS</td>\n",
       "      <td>3347</td>\n",
       "      <td>0.209143</td>\n",
       "    </tr>\n",
       "    <tr>\n",
       "      <th>5539</th>\n",
       "      <td>DOUTOR PEDRINHO</td>\n",
       "      <td>SC</td>\n",
       "      <td>3604</td>\n",
       "      <td>0.110988</td>\n",
       "    </tr>\n",
       "  </tbody>\n",
       "</table>\n",
       "<p>5565 rows × 4 columns</p>\n",
       "</div>"
      ],
      "text/plain": [
       "                  NomeMunicipio  UF  TotalPopulacao2010  \\\n",
       "253         SERRANO DO MARANHAO  MA               10924   \n",
       "915            SAO JOAO BATISTA  MA               19966   \n",
       "295   CAPITAO GERVASIO OLIVEIRA  PI                3876   \n",
       "849                PALMEIRANDIA  MA               18766   \n",
       "827                     MATINHA  MA               21832   \n",
       "2164             GRACHO CARDOSO  SE                5648   \n",
       "364                     PAVUSSU  PI                3666   \n",
       "368             NOVA SANTA RITA  PI                4192   \n",
       "386         SAO JOAO DO ARRAIAL  PI                7337   \n",
       "275              BELEM DO PIAUI  PI                3284   \n",
       "1102        PAU D'ARCO DO PIAUI  PI                3757   \n",
       "404                 VERA MENDES  PI                2987   \n",
       "1809                      INAJA  PE               19081   \n",
       "701                   ALCANTARA  MA               21852   \n",
       "1954               CAMPO GRANDE  AL                9032   \n",
       "374            RIBEIRA DO PIAUI  PI                4263   \n",
       "1019              AVELINO LOPES  PI               11067   \n",
       "293        CAMPO LARGO DO PIAUI  PI                6803   \n",
       "283              BREJO DO PIAUI  PI                3852   \n",
       "400           TAMBORIL DO PIAUI  PI                2755   \n",
       "442                      AMPARO  PB                2088   \n",
       "2293           CALDEIRAO GRANDE  BA               12485   \n",
       "340              LAGOA DO SITIO  PI                4853   \n",
       "141           CAPINZAL DO NORTE  MA               10698   \n",
       "1717          CORONEL JOSE DIAS  PI                4541   \n",
       "1998         OLHO D'AGUA GRANDE  AL                4957   \n",
       "209                    PERITORO  MA               20274   \n",
       "289     CAMPO ALEGRE DO FIDALGO  PI                4696   \n",
       "1538                     VICOSA  RN                1618   \n",
       "478                  GADO BRAVO  PB                8376   \n",
       "...                         ...  ..                 ...   \n",
       "4948                 NOVA ARACA  RS                4003   \n",
       "3605         SANTA CLARA DO SUL  RS                5692   \n",
       "3612                 LINHA NOVA  RS                1624   \n",
       "4251             POCO DAS ANTAS  RS                2017   \n",
       "3560                BARRA FUNDA  RS                2367   \n",
       "4881                DOIS IRMAOS  RS               27572   \n",
       "4950               NOVA BRESCIA  RS                3184   \n",
       "4865             CARLOS BARBOSA  RS               25193   \n",
       "3585          MONTE BELO DO SUL  RS                2670   \n",
       "4747                      TIMBO  SC               36817   \n",
       "3600          PRESIDENTE LUCENA  RS                2485   \n",
       "4811                      BARAO  RS                5742   \n",
       "1151                PAULO BENTO  RS                2196   \n",
       "4590              BENEDITO NOVO  SC               10331   \n",
       "1172                  WESTFALIA  RS                2793   \n",
       "3586               SANTA TEREZA  RS                1717   \n",
       "4706         PRESIDENTE GETULIO  SC               14886   \n",
       "4215              SAO VENDELINO  RS                1944   \n",
       "958            BOA VISTA DO SUL  RS                2778   \n",
       "4698                   POMERODE  SC               27772   \n",
       "4262                   MONTAURI  RS                1542   \n",
       "3367          BRACO DO TROMBUDO  SC                3457   \n",
       "4234               TRES ARROIOS  RS                2855   \n",
       "3599                PICADA CAFE  RS                5182   \n",
       "1026          VESPASIANO CORREA  RS                1974   \n",
       "4588         BALNEARIO CAMBORIU  SC              108107   \n",
       "3611                 ALTO FELIZ  RS                2908   \n",
       "5057                   COTIPORA  RS                3917   \n",
       "4257           NOVA ROMA DO SUL  RS                3347   \n",
       "5539            DOUTOR PEDRINHO  SC                3604   \n",
       "\n",
       "      PercentPopulacaoBolsa2016  \n",
       "253                   26.354815  \n",
       "915                   25.393168  \n",
       "295                   25.103199  \n",
       "849                   24.816157  \n",
       "827                   24.354159  \n",
       "2164                  24.061615  \n",
       "364                   24.058920  \n",
       "368                   24.021947  \n",
       "386                   24.015265  \n",
       "275                   23.995128  \n",
       "1102                  23.928666  \n",
       "404                   23.903582  \n",
       "1809                  23.835229  \n",
       "701                   23.819330  \n",
       "1954                  23.715678  \n",
       "374                   23.645320  \n",
       "1019                  23.637842  \n",
       "293                   23.607232  \n",
       "283                   23.468328  \n",
       "400                   23.411978  \n",
       "442                   23.227969  \n",
       "2293                  23.171806  \n",
       "340                   23.160931  \n",
       "141                   23.153861  \n",
       "1717                  23.078617  \n",
       "1998                  23.038128  \n",
       "209                   23.009766  \n",
       "289                   22.998296  \n",
       "1538                  22.991347  \n",
       "478                   22.970392  \n",
       "...                         ...  \n",
       "4948                   0.599550  \n",
       "3605                   0.597330  \n",
       "3612                   0.554187  \n",
       "4251                   0.545364  \n",
       "3560                   0.506971  \n",
       "4881                   0.504135  \n",
       "4950                   0.502513  \n",
       "4865                   0.492200  \n",
       "3585                   0.486891  \n",
       "4747                   0.486188  \n",
       "3600                   0.482897  \n",
       "4811                   0.470219  \n",
       "1151                   0.455373  \n",
       "4590                   0.454941  \n",
       "1172                   0.429646  \n",
       "3586                   0.407688  \n",
       "4706                   0.369475  \n",
       "4215                   0.360082  \n",
       "958                    0.359971  \n",
       "4698                   0.327668  \n",
       "4262                   0.324254  \n",
       "3367                   0.318195  \n",
       "4234                   0.315236  \n",
       "3599                   0.308761  \n",
       "1026                   0.303951  \n",
       "4588                   0.278428  \n",
       "3611                   0.275103  \n",
       "5057                   0.229768  \n",
       "4257                   0.209143  \n",
       "5539                   0.110988  \n",
       "\n",
       "[5565 rows x 4 columns]"
      ]
     },
     "execution_count": 559,
     "metadata": {},
     "output_type": "execute_result"
    }
   ],
   "source": [
    "PorMunicipio.sort_values('PercentPopulacaoBolsa2016', ascending=False)[['NomeMunicipio','UF','TotalPopulacao2010','PercentPopulacaoBolsa2016']]"
   ]
  },
  {
   "cell_type": "code",
   "execution_count": 602,
   "metadata": {
    "collapsed": false
   },
   "outputs": [],
   "source": [
    "# PorMunicipio[PorMunicipio.PercentPopulacaoBolsa2016 > 20][['NomeMunicipio','UF','TotalPopulacao2010','PercentPopulacaoBolsa2016']]"
   ]
  },
  {
   "cell_type": "code",
   "execution_count": null,
   "metadata": {
    "collapsed": true
   },
   "outputs": [],
   "source": []
  },
  {
   "cell_type": "markdown",
   "metadata": {
    "collapsed": true
   },
   "source": [
    "Gerando dados em JSON para geração do mapa:"
   ]
  },
  {
   "cell_type": "code",
   "execution_count": 566,
   "metadata": {
    "collapsed": false
   },
   "outputs": [],
   "source": [
    "PorEstado[['UF','Percent_Pop_Bolsa']].set_index('UF').to_json('html/uf_bolsafamilia.json')"
   ]
  },
  {
   "cell_type": "markdown",
   "metadata": {
    "collapsed": false
   },
   "source": [
    "### Mapa - Percentual da população que recebe o Bolsa-Família por estado"
   ]
  },
  {
   "cell_type": "markdown",
   "metadata": {},
   "source": [
    "Para gerar o mapa abaixo, utilizei as bibliotecas do D3.js. Obtive os Shapefiles do Brasil do GADM (http://www.gadm.org/country), e os converti para TopoJSON no MapShaper (http://www.mapshaper.org/), também os simplificando (arquivo JSON ficou com 69 KB, sendo que o arquivo original SHP tinha 9 MB).\n",
    "\n",
    "Me baseei no exemplo de um blog (http://blog.superquadra.co/frontend/mapa-do-brasil-em-d3js/). Tive que escrever JavaScript para fazer a leitura do JSON e a criação de uma função para personalizar a escala de cores de acordo com os dados (percentual da população que recebe o Bolsa-Família). "
   ]
  },
  {
   "cell_type": "code",
   "execution_count": 600,
   "metadata": {
    "collapsed": false,
    "scrolled": false
   },
   "outputs": [
    {
     "data": {
      "text/html": [
       "<iframe src=\"./html/mapa_estados_brasil.html\" width=\"100%\" height=\"650px\"></iframe>"
      ],
      "text/plain": [
       "<IPython.core.display.HTML object>"
      ]
     },
     "metadata": {},
     "output_type": "display_data"
    }
   ],
   "source": [
    "%%HTML\n",
    "<iframe src=\"./html/mapa_estados_brasil.html\" width=\"100%\" height=\"650px\"></iframe>"
   ]
  },
  {
   "cell_type": "markdown",
   "metadata": {},
   "source": [
    "Tentei gerar mapa similar, mas por município, mas não houve tempo hábil para realizar os ajustes que seriam necessários."
   ]
  },
  {
   "cell_type": "code",
   "execution_count": 604,
   "metadata": {
    "collapsed": false
   },
   "outputs": [],
   "source": [
    "PorMunicipio[PorMunicipio.Latitude.notnull()][['NomeMunicipio','UF','Latitude','Longitude']].to_json('html/municipios_geo.json')"
   ]
  },
  {
   "cell_type": "markdown",
   "metadata": {},
   "source": [
    "O arquivo html exibido abaixo está apenas lendo a lista de municípios e suas respectivas coordenadas geográficas, e as plotando no mapa.\n",
    "\n",
    "Gostaria de ter ajustado o tamanho dos circulos de acordo com o tamanho da população de cada cidade, e a cor de acordo com o percentual de moradores que recebem o Bolsa-Família, mas não tive tempo para concluir isto - a meu ver, inicialmente seria necessário tornar o mapa escalável para melhorar a qualidade da visualização."
   ]
  },
  {
   "cell_type": "code",
   "execution_count": 605,
   "metadata": {
    "collapsed": false
   },
   "outputs": [
    {
     "data": {
      "text/html": [
       "<iframe src=\"./html/municipios_geo.html\" width=\"100%\" height=\"650px\"></iframe>"
      ],
      "text/plain": [
       "<IPython.core.display.HTML object>"
      ]
     },
     "metadata": {},
     "output_type": "display_data"
    }
   ],
   "source": [
    "%%HTML\n",
    "<iframe src=\"./html/municipios_geo.html\" width=\"100%\" height=\"650px\"></iframe>"
   ]
  }
 ],
 "metadata": {
  "anaconda-cloud": {},
  "kernelspec": {
   "display_name": "Python [Root]",
   "language": "python",
   "name": "Python [Root]"
  },
  "language_info": {
   "codemirror_mode": {
    "name": "ipython",
    "version": 3
   },
   "file_extension": ".py",
   "mimetype": "text/x-python",
   "name": "python",
   "nbconvert_exporter": "python",
   "pygments_lexer": "ipython3",
   "version": "3.5.2"
  }
 },
 "nbformat": 4,
 "nbformat_minor": 0
}
